{
  "nbformat": 4,
  "nbformat_minor": 0,
  "metadata": {
    "colab": {
      "provenance": [],
      "authorship_tag": "ABX9TyPjMfcaVurBrJpQ4LTplZUM",
      "include_colab_link": true
    },
    "kernelspec": {
      "name": "python3",
      "display_name": "Python 3"
    },
    "language_info": {
      "name": "python"
    }
  },
  "cells": [
    {
      "cell_type": "markdown",
      "metadata": {
        "id": "view-in-github",
        "colab_type": "text"
      },
      "source": [
        "<a href=\"https://colab.research.google.com/github/Satyake/Open-AI-LLM-Langchain-Projects/blob/main/LangChain_Complete_Demo.ipynb\" target=\"_parent\"><img src=\"https://colab.research.google.com/assets/colab-badge.svg\" alt=\"Open In Colab\"/></a>"
      ]
    },
    {
      "cell_type": "code",
      "execution_count": 35,
      "metadata": {
        "colab": {
          "base_uri": "https://localhost:8080/"
        },
        "id": "WuHFdQOLoQy7",
        "outputId": "3c64475e-d457-4290-c415-5410ef6e516c"
      },
      "outputs": [
        {
          "output_type": "stream",
          "name": "stdout",
          "text": [
            "Requirement already satisfied: transformers in /usr/local/lib/python3.10/dist-packages (4.38.2)\n",
            "Requirement already satisfied: filelock in /usr/local/lib/python3.10/dist-packages (from transformers) (3.13.1)\n",
            "Requirement already satisfied: huggingface-hub<1.0,>=0.19.3 in /usr/local/lib/python3.10/dist-packages (from transformers) (0.20.3)\n",
            "Requirement already satisfied: numpy>=1.17 in /usr/local/lib/python3.10/dist-packages (from transformers) (1.25.2)\n",
            "Requirement already satisfied: packaging>=20.0 in /usr/local/lib/python3.10/dist-packages (from transformers) (23.2)\n",
            "Requirement already satisfied: pyyaml>=5.1 in /usr/local/lib/python3.10/dist-packages (from transformers) (6.0.1)\n",
            "Requirement already satisfied: regex!=2019.12.17 in /usr/local/lib/python3.10/dist-packages (from transformers) (2023.12.25)\n",
            "Requirement already satisfied: requests in /usr/local/lib/python3.10/dist-packages (from transformers) (2.31.0)\n",
            "Requirement already satisfied: tokenizers<0.19,>=0.14 in /usr/local/lib/python3.10/dist-packages (from transformers) (0.15.2)\n",
            "Requirement already satisfied: safetensors>=0.4.1 in /usr/local/lib/python3.10/dist-packages (from transformers) (0.4.2)\n",
            "Requirement already satisfied: tqdm>=4.27 in /usr/local/lib/python3.10/dist-packages (from transformers) (4.66.2)\n",
            "Requirement already satisfied: fsspec>=2023.5.0 in /usr/local/lib/python3.10/dist-packages (from huggingface-hub<1.0,>=0.19.3->transformers) (2023.6.0)\n",
            "Requirement already satisfied: typing-extensions>=3.7.4.3 in /usr/local/lib/python3.10/dist-packages (from huggingface-hub<1.0,>=0.19.3->transformers) (4.10.0)\n",
            "Requirement already satisfied: charset-normalizer<4,>=2 in /usr/local/lib/python3.10/dist-packages (from requests->transformers) (3.3.2)\n",
            "Requirement already satisfied: idna<4,>=2.5 in /usr/local/lib/python3.10/dist-packages (from requests->transformers) (3.6)\n",
            "Requirement already satisfied: urllib3<3,>=1.21.1 in /usr/local/lib/python3.10/dist-packages (from requests->transformers) (2.0.7)\n",
            "Requirement already satisfied: certifi>=2017.4.17 in /usr/local/lib/python3.10/dist-packages (from requests->transformers) (2024.2.2)\n",
            "Requirement already satisfied: openai in /usr/local/lib/python3.10/dist-packages (1.14.0)\n",
            "Requirement already satisfied: anyio<5,>=3.5.0 in /usr/local/lib/python3.10/dist-packages (from openai) (3.7.1)\n",
            "Requirement already satisfied: distro<2,>=1.7.0 in /usr/lib/python3/dist-packages (from openai) (1.7.0)\n",
            "Requirement already satisfied: httpx<1,>=0.23.0 in /usr/local/lib/python3.10/dist-packages (from openai) (0.27.0)\n",
            "Requirement already satisfied: pydantic<3,>=1.9.0 in /usr/local/lib/python3.10/dist-packages (from openai) (2.6.3)\n",
            "Requirement already satisfied: sniffio in /usr/local/lib/python3.10/dist-packages (from openai) (1.3.1)\n",
            "Requirement already satisfied: tqdm>4 in /usr/local/lib/python3.10/dist-packages (from openai) (4.66.2)\n",
            "Requirement already satisfied: typing-extensions<5,>=4.7 in /usr/local/lib/python3.10/dist-packages (from openai) (4.10.0)\n",
            "Requirement already satisfied: idna>=2.8 in /usr/local/lib/python3.10/dist-packages (from anyio<5,>=3.5.0->openai) (3.6)\n",
            "Requirement already satisfied: exceptiongroup in /usr/local/lib/python3.10/dist-packages (from anyio<5,>=3.5.0->openai) (1.2.0)\n",
            "Requirement already satisfied: certifi in /usr/local/lib/python3.10/dist-packages (from httpx<1,>=0.23.0->openai) (2024.2.2)\n",
            "Requirement already satisfied: httpcore==1.* in /usr/local/lib/python3.10/dist-packages (from httpx<1,>=0.23.0->openai) (1.0.4)\n",
            "Requirement already satisfied: h11<0.15,>=0.13 in /usr/local/lib/python3.10/dist-packages (from httpcore==1.*->httpx<1,>=0.23.0->openai) (0.14.0)\n",
            "Requirement already satisfied: annotated-types>=0.4.0 in /usr/local/lib/python3.10/dist-packages (from pydantic<3,>=1.9.0->openai) (0.6.0)\n",
            "Requirement already satisfied: pydantic-core==2.16.3 in /usr/local/lib/python3.10/dist-packages (from pydantic<3,>=1.9.0->openai) (2.16.3)\n",
            "Requirement already satisfied: datasets in /usr/local/lib/python3.10/dist-packages (2.18.0)\n",
            "Requirement already satisfied: filelock in /usr/local/lib/python3.10/dist-packages (from datasets) (3.13.1)\n",
            "Requirement already satisfied: numpy>=1.17 in /usr/local/lib/python3.10/dist-packages (from datasets) (1.25.2)\n",
            "Requirement already satisfied: pyarrow>=12.0.0 in /usr/local/lib/python3.10/dist-packages (from datasets) (14.0.2)\n",
            "Requirement already satisfied: pyarrow-hotfix in /usr/local/lib/python3.10/dist-packages (from datasets) (0.6)\n",
            "Requirement already satisfied: dill<0.3.9,>=0.3.0 in /usr/local/lib/python3.10/dist-packages (from datasets) (0.3.8)\n",
            "Requirement already satisfied: pandas in /usr/local/lib/python3.10/dist-packages (from datasets) (1.5.3)\n",
            "Requirement already satisfied: requests>=2.19.0 in /usr/local/lib/python3.10/dist-packages (from datasets) (2.31.0)\n",
            "Requirement already satisfied: tqdm>=4.62.1 in /usr/local/lib/python3.10/dist-packages (from datasets) (4.66.2)\n",
            "Requirement already satisfied: xxhash in /usr/local/lib/python3.10/dist-packages (from datasets) (3.4.1)\n",
            "Requirement already satisfied: multiprocess in /usr/local/lib/python3.10/dist-packages (from datasets) (0.70.16)\n",
            "Requirement already satisfied: fsspec[http]<=2024.2.0,>=2023.1.0 in /usr/local/lib/python3.10/dist-packages (from datasets) (2023.6.0)\n",
            "Requirement already satisfied: aiohttp in /usr/local/lib/python3.10/dist-packages (from datasets) (3.9.3)\n",
            "Requirement already satisfied: huggingface-hub>=0.19.4 in /usr/local/lib/python3.10/dist-packages (from datasets) (0.20.3)\n",
            "Requirement already satisfied: packaging in /usr/local/lib/python3.10/dist-packages (from datasets) (23.2)\n",
            "Requirement already satisfied: pyyaml>=5.1 in /usr/local/lib/python3.10/dist-packages (from datasets) (6.0.1)\n",
            "Requirement already satisfied: aiosignal>=1.1.2 in /usr/local/lib/python3.10/dist-packages (from aiohttp->datasets) (1.3.1)\n",
            "Requirement already satisfied: attrs>=17.3.0 in /usr/local/lib/python3.10/dist-packages (from aiohttp->datasets) (23.2.0)\n",
            "Requirement already satisfied: frozenlist>=1.1.1 in /usr/local/lib/python3.10/dist-packages (from aiohttp->datasets) (1.4.1)\n",
            "Requirement already satisfied: multidict<7.0,>=4.5 in /usr/local/lib/python3.10/dist-packages (from aiohttp->datasets) (6.0.5)\n",
            "Requirement already satisfied: yarl<2.0,>=1.0 in /usr/local/lib/python3.10/dist-packages (from aiohttp->datasets) (1.9.4)\n",
            "Requirement already satisfied: async-timeout<5.0,>=4.0 in /usr/local/lib/python3.10/dist-packages (from aiohttp->datasets) (4.0.3)\n",
            "Requirement already satisfied: typing-extensions>=3.7.4.3 in /usr/local/lib/python3.10/dist-packages (from huggingface-hub>=0.19.4->datasets) (4.10.0)\n",
            "Requirement already satisfied: charset-normalizer<4,>=2 in /usr/local/lib/python3.10/dist-packages (from requests>=2.19.0->datasets) (3.3.2)\n",
            "Requirement already satisfied: idna<4,>=2.5 in /usr/local/lib/python3.10/dist-packages (from requests>=2.19.0->datasets) (3.6)\n",
            "Requirement already satisfied: urllib3<3,>=1.21.1 in /usr/local/lib/python3.10/dist-packages (from requests>=2.19.0->datasets) (2.0.7)\n",
            "Requirement already satisfied: certifi>=2017.4.17 in /usr/local/lib/python3.10/dist-packages (from requests>=2.19.0->datasets) (2024.2.2)\n",
            "Requirement already satisfied: python-dateutil>=2.8.1 in /usr/local/lib/python3.10/dist-packages (from pandas->datasets) (2.8.2)\n",
            "Requirement already satisfied: pytz>=2020.1 in /usr/local/lib/python3.10/dist-packages (from pandas->datasets) (2023.4)\n",
            "Requirement already satisfied: six>=1.5 in /usr/local/lib/python3.10/dist-packages (from python-dateutil>=2.8.1->pandas->datasets) (1.16.0)\n",
            "Requirement already satisfied: langchain in /usr/local/lib/python3.10/dist-packages (0.1.12)\n",
            "Requirement already satisfied: PyYAML>=5.3 in /usr/local/lib/python3.10/dist-packages (from langchain) (6.0.1)\n",
            "Requirement already satisfied: SQLAlchemy<3,>=1.4 in /usr/local/lib/python3.10/dist-packages (from langchain) (2.0.28)\n",
            "Requirement already satisfied: aiohttp<4.0.0,>=3.8.3 in /usr/local/lib/python3.10/dist-packages (from langchain) (3.9.3)\n",
            "Requirement already satisfied: async-timeout<5.0.0,>=4.0.0 in /usr/local/lib/python3.10/dist-packages (from langchain) (4.0.3)\n",
            "Requirement already satisfied: dataclasses-json<0.7,>=0.5.7 in /usr/local/lib/python3.10/dist-packages (from langchain) (0.6.4)\n",
            "Requirement already satisfied: jsonpatch<2.0,>=1.33 in /usr/local/lib/python3.10/dist-packages (from langchain) (1.33)\n",
            "Requirement already satisfied: langchain-community<0.1,>=0.0.28 in /usr/local/lib/python3.10/dist-packages (from langchain) (0.0.28)\n",
            "Requirement already satisfied: langchain-core<0.2.0,>=0.1.31 in /usr/local/lib/python3.10/dist-packages (from langchain) (0.1.31)\n",
            "Requirement already satisfied: langchain-text-splitters<0.1,>=0.0.1 in /usr/local/lib/python3.10/dist-packages (from langchain) (0.0.1)\n",
            "Requirement already satisfied: langsmith<0.2.0,>=0.1.17 in /usr/local/lib/python3.10/dist-packages (from langchain) (0.1.25)\n",
            "Requirement already satisfied: numpy<2,>=1 in /usr/local/lib/python3.10/dist-packages (from langchain) (1.25.2)\n",
            "Requirement already satisfied: pydantic<3,>=1 in /usr/local/lib/python3.10/dist-packages (from langchain) (2.6.3)\n",
            "Requirement already satisfied: requests<3,>=2 in /usr/local/lib/python3.10/dist-packages (from langchain) (2.31.0)\n",
            "Requirement already satisfied: tenacity<9.0.0,>=8.1.0 in /usr/local/lib/python3.10/dist-packages (from langchain) (8.2.3)\n",
            "Requirement already satisfied: aiosignal>=1.1.2 in /usr/local/lib/python3.10/dist-packages (from aiohttp<4.0.0,>=3.8.3->langchain) (1.3.1)\n",
            "Requirement already satisfied: attrs>=17.3.0 in /usr/local/lib/python3.10/dist-packages (from aiohttp<4.0.0,>=3.8.3->langchain) (23.2.0)\n",
            "Requirement already satisfied: frozenlist>=1.1.1 in /usr/local/lib/python3.10/dist-packages (from aiohttp<4.0.0,>=3.8.3->langchain) (1.4.1)\n",
            "Requirement already satisfied: multidict<7.0,>=4.5 in /usr/local/lib/python3.10/dist-packages (from aiohttp<4.0.0,>=3.8.3->langchain) (6.0.5)\n",
            "Requirement already satisfied: yarl<2.0,>=1.0 in /usr/local/lib/python3.10/dist-packages (from aiohttp<4.0.0,>=3.8.3->langchain) (1.9.4)\n",
            "Requirement already satisfied: marshmallow<4.0.0,>=3.18.0 in /usr/local/lib/python3.10/dist-packages (from dataclasses-json<0.7,>=0.5.7->langchain) (3.21.1)\n",
            "Requirement already satisfied: typing-inspect<1,>=0.4.0 in /usr/local/lib/python3.10/dist-packages (from dataclasses-json<0.7,>=0.5.7->langchain) (0.9.0)\n",
            "Requirement already satisfied: jsonpointer>=1.9 in /usr/local/lib/python3.10/dist-packages (from jsonpatch<2.0,>=1.33->langchain) (2.4)\n",
            "Requirement already satisfied: anyio<5,>=3 in /usr/local/lib/python3.10/dist-packages (from langchain-core<0.2.0,>=0.1.31->langchain) (3.7.1)\n",
            "Requirement already satisfied: packaging<24.0,>=23.2 in /usr/local/lib/python3.10/dist-packages (from langchain-core<0.2.0,>=0.1.31->langchain) (23.2)\n",
            "Requirement already satisfied: orjson<4.0.0,>=3.9.14 in /usr/local/lib/python3.10/dist-packages (from langsmith<0.2.0,>=0.1.17->langchain) (3.9.15)\n",
            "Requirement already satisfied: annotated-types>=0.4.0 in /usr/local/lib/python3.10/dist-packages (from pydantic<3,>=1->langchain) (0.6.0)\n",
            "Requirement already satisfied: pydantic-core==2.16.3 in /usr/local/lib/python3.10/dist-packages (from pydantic<3,>=1->langchain) (2.16.3)\n",
            "Requirement already satisfied: typing-extensions>=4.6.1 in /usr/local/lib/python3.10/dist-packages (from pydantic<3,>=1->langchain) (4.10.0)\n",
            "Requirement already satisfied: charset-normalizer<4,>=2 in /usr/local/lib/python3.10/dist-packages (from requests<3,>=2->langchain) (3.3.2)\n",
            "Requirement already satisfied: idna<4,>=2.5 in /usr/local/lib/python3.10/dist-packages (from requests<3,>=2->langchain) (3.6)\n",
            "Requirement already satisfied: urllib3<3,>=1.21.1 in /usr/local/lib/python3.10/dist-packages (from requests<3,>=2->langchain) (2.0.7)\n",
            "Requirement already satisfied: certifi>=2017.4.17 in /usr/local/lib/python3.10/dist-packages (from requests<3,>=2->langchain) (2024.2.2)\n",
            "Requirement already satisfied: greenlet!=0.4.17 in /usr/local/lib/python3.10/dist-packages (from SQLAlchemy<3,>=1.4->langchain) (3.0.3)\n",
            "Requirement already satisfied: sniffio>=1.1 in /usr/local/lib/python3.10/dist-packages (from anyio<5,>=3->langchain-core<0.2.0,>=0.1.31->langchain) (1.3.1)\n",
            "Requirement already satisfied: exceptiongroup in /usr/local/lib/python3.10/dist-packages (from anyio<5,>=3->langchain-core<0.2.0,>=0.1.31->langchain) (1.2.0)\n",
            "Requirement already satisfied: mypy-extensions>=0.3.0 in /usr/local/lib/python3.10/dist-packages (from typing-inspect<1,>=0.4.0->dataclasses-json<0.7,>=0.5.7->langchain) (1.0.0)\n",
            "Requirement already satisfied: huggingface in /usr/local/lib/python3.10/dist-packages (0.0.1)\n"
          ]
        }
      ],
      "source": [
        "!pip install transformers\n",
        "!pip install openai\n",
        "!pip install datasets\n",
        "!pip install langchain\n",
        "!pip install huggingface"
      ]
    },
    {
      "cell_type": "code",
      "source": [
        "from google.colab import userdata\n",
        "hf_key=userdata.get('huggingface')\n",
        "OPENAI_API_KEY=userdata.get('openai')"
      ],
      "metadata": {
        "id": "Pru61yvzoZTL"
      },
      "execution_count": 36,
      "outputs": []
    },
    {
      "cell_type": "code",
      "source": [
        "import os\n",
        "os.environ['OPENAI_API_KEY']=OPENAI_API_KEY\n",
        "os.environ['HUGGINGFACEHUB_API_TOKEN']=hf_key"
      ],
      "metadata": {
        "id": "QYbpfL8copOs"
      },
      "execution_count": 37,
      "outputs": []
    },
    {
      "cell_type": "code",
      "source": [
        "#openai\n",
        "#example1\n",
        "\n",
        "from langchain.llms import OpenAI\n",
        "llm=OpenAI(model='gpt-3.5-turbo-instruct', temperature=0.9)\n",
        "print(llm)"
      ],
      "metadata": {
        "colab": {
          "base_uri": "https://localhost:8080/"
        },
        "id": "XnnAlMYKpKKm",
        "outputId": "8255abe7-6116-4494-97f5-eac5ab51e0a0"
      },
      "execution_count": 38,
      "outputs": [
        {
          "output_type": "stream",
          "name": "stdout",
          "text": [
            "\u001b[1mOpenAI\u001b[0m\n",
            "Params: {'model_name': 'gpt-3.5-turbo-instruct', 'temperature': 0.9, 'top_p': 1, 'frequency_penalty': 0, 'presence_penalty': 0, 'n': 1, 'logit_bias': {}, 'max_tokens': 256}\n"
          ]
        }
      ]
    },
    {
      "cell_type": "code",
      "source": [
        "text=\"Suggest me 5 names for italian resturants\"\n",
        "print(llm.invoke(text))"
      ],
      "metadata": {
        "colab": {
          "base_uri": "https://localhost:8080/"
        },
        "id": "W4FXIFKZpThR",
        "outputId": "9bba16da-1a35-4a00-d1c2-d0e08b6e2517"
      },
      "execution_count": 39,
      "outputs": [
        {
          "output_type": "stream",
          "name": "stdout",
          "text": [
            "\n",
            "\n",
            "1. Trattoria Bellissimo\n",
            "2. Cucina Rustica\n",
            "3. La Piazza Bella\n",
            "4. Ristorante Amore\n",
            "5. L'Angolo di Roma\n"
          ]
        }
      ]
    },
    {
      "cell_type": "code",
      "source": [
        "from langchain import HuggingFaceHub"
      ],
      "metadata": {
        "id": "CEOOqZizrHl5"
      },
      "execution_count": 40,
      "outputs": []
    },
    {
      "cell_type": "code",
      "source": [
        "llm=HuggingFaceHub(repo_id='mistralai/Mixtral-8x7B-Instruct-v0.1', model_kwargs={'temperature':0.5})"
      ],
      "metadata": {
        "id": "9-iYoNr-uq1a"
      },
      "execution_count": 41,
      "outputs": []
    },
    {
      "cell_type": "code",
      "source": [
        "llm('Translate English to German: I Come from india')"
      ],
      "metadata": {
        "colab": {
          "base_uri": "https://localhost:8080/",
          "height": 122
        },
        "id": "ewNFwVY7u7Ab",
        "outputId": "5cd9db20-4d31-43bf-d256-d93712765b8a"
      },
      "execution_count": 42,
      "outputs": [
        {
          "output_type": "execute_result",
          "data": {
            "text/plain": [
              "'Translate English to German: I Come from india\\n\\nIch komme aus Indien.\\n\\nHow do you say \"I come from India\" in German?\\n\\nTo say \"I come from India\" in German, you can say \"Ich komme aus Indien.\" This sentence follows the standard structure for expressing where someone comes from in German, using the first-person singular pronoun \"Ich\" (I), the verb \"kommen\" (to come), and the prepositional phrase \"aus Ind'"
            ],
            "application/vnd.google.colaboratory.intrinsic+json": {
              "type": "string"
            }
          },
          "metadata": {},
          "execution_count": 42
        }
      ]
    },
    {
      "cell_type": "code",
      "source": [
        "#prompt template\n",
        "from langchain.prompts import PromptTemplate\n",
        "llm=OpenAI(temperature=0.8)\n",
        "\n",
        "prompt_template_name=PromptTemplate(\n",
        "    input_variables=['cuisine'],\n",
        "    template='I want to open a resturant for {cuisine} food. Suggest a fancy name for this'\n",
        ")\n",
        "p=prompt_template_name.format(cuisine='German')\n",
        "print(p)"
      ],
      "metadata": {
        "colab": {
          "base_uri": "https://localhost:8080/"
        },
        "id": "dRJ_GD9AvxHR",
        "outputId": "716ee169-9942-4a7d-891d-f2c494661ab1"
      },
      "execution_count": 43,
      "outputs": [
        {
          "output_type": "stream",
          "name": "stdout",
          "text": [
            "I want to open a resturant for German food. Suggest a fancy name for this\n"
          ]
        }
      ]
    },
    {
      "cell_type": "code",
      "source": [
        "llm.invoke(p)"
      ],
      "metadata": {
        "colab": {
          "base_uri": "https://localhost:8080/",
          "height": 35
        },
        "id": "XsDbL3qnHJli",
        "outputId": "cf077e13-ec7b-4068-d354-0a3de54279c4"
      },
      "execution_count": 44,
      "outputs": [
        {
          "output_type": "execute_result",
          "data": {
            "text/plain": [
              "'\\n\\n\"Königliche Küche\" (Royal Cuisine)'"
            ],
            "application/vnd.google.colaboratory.intrinsic+json": {
              "type": "string"
            }
          },
          "metadata": {},
          "execution_count": 44
        }
      ]
    },
    {
      "cell_type": "code",
      "source": [
        "#chains\n",
        "prompt=PromptTemplate(\n",
        "    input_variables=['products'],\n",
        "    template='what is a good name for a company that makes {products}')\n",
        "p=prompt.format(products='socks')\n",
        "print(p)\n"
      ],
      "metadata": {
        "colab": {
          "base_uri": "https://localhost:8080/"
        },
        "id": "QREK62xZL5vH",
        "outputId": "9a8fbacc-7443-4f37-f864-2b93069591dd"
      },
      "execution_count": 45,
      "outputs": [
        {
          "output_type": "stream",
          "name": "stdout",
          "text": [
            "what is a good name for a company that makes socks\n"
          ]
        }
      ]
    },
    {
      "cell_type": "code",
      "source": [
        "from langchain.chains import LLMChain\n",
        "chain=LLMChain(llm=llm, prompt=prompt)\n",
        "response=chain.run('socks')\n",
        "print(response)"
      ],
      "metadata": {
        "colab": {
          "base_uri": "https://localhost:8080/"
        },
        "id": "cRJXcJjNM8A6",
        "outputId": "5f59733e-a2ac-482e-fd24-676c0ee1416a"
      },
      "execution_count": 46,
      "outputs": [
        {
          "output_type": "stream",
          "name": "stdout",
          "text": [
            "\n",
            "\n",
            "1. \"Happy Feet Co.\"\n",
            "2. \"Soleful Socks\"\n",
            "3. \"Socktopia\"\n",
            "4. \"Toasty Toes\"\n",
            "5. \"Sock Savvy\"\n",
            "6. \"Footprints Co.\"\n",
            "7. \"Socktastic\"\n",
            "8. \"Step by Step Socks\"\n",
            "9. \"Cozy Feet Co.\"\n",
            "10. \"Socktopus\"\n"
          ]
        }
      ]
    },
    {
      "cell_type": "code",
      "source": [
        "llm=HuggingFaceHub(repo_id='mistralai/Mixtral-8x7B-Instruct-v0.1')\n",
        "prompt=PromptTemplate(\n",
        "    input_variables=['Game'],\n",
        "    template='Do you know about the {game}? write 1 line about it'\n",
        ")\n",
        "\n",
        "prompt1=PromptTemplate(\n",
        "    input_variables=['Game'],\n",
        "    template='Do you know about the {game}? write 1 line about it'\n",
        ")\n",
        "\n",
        "\n",
        "chain1=LLMChain(llm=llm, prompt=prompt)\n",
        "chain2=LLMChain(llm=llm, prompt=prompt1)\n",
        "response=chain.run('Overwatch')\n",
        "print(response)"
      ],
      "metadata": {
        "colab": {
          "base_uri": "https://localhost:8080/"
        },
        "id": "1toQz8maNNYt",
        "outputId": "6a7775f2-de20-47f1-9d5f-fe218615e948"
      },
      "execution_count": 47,
      "outputs": [
        {
          "output_type": "stream",
          "name": "stdout",
          "text": [
            "\n",
            "\n",
            "\"Heroic Gaming Inc.\"\n"
          ]
        }
      ]
    },
    {
      "cell_type": "code",
      "source": [
        "#Simple Sequential Chain\n",
        "#will only show output of last chain\n",
        "llm=HuggingFaceHub(repo_id='mistralai/Mixtral-8x7B-Instruct-v0.1',\n",
        "                   model_kwargs={'temperature':0.1,'max_seq_length':100})\n",
        "prompt=PromptTemplate(\n",
        "    input_variables=['city'],\n",
        "    template='What is a good Resturant in {city}?'\n",
        ")\n",
        "\n",
        "prompt1=PromptTemplate(\n",
        "    input_variables=['resturant'],\n",
        "    template='Do you know about the {resturant}?'\n",
        ")\n",
        "\n",
        "chain1=LLMChain(llm=llm, prompt=prompt)\n",
        "chain2=LLMChain(llm=llm, prompt=prompt1)\n",
        "\n",
        "from langchain.chains import SimpleSequentialChain\n",
        "chain=SimpleSequentialChain(chains=[chain1, chain2])\n",
        "response=chain.run('Toronto')\n",
        "print(response)"
      ],
      "metadata": {
        "colab": {
          "base_uri": "https://localhost:8080/"
        },
        "id": "VNgE76F7PXqx",
        "outputId": "cd5e5821-6ed3-4eb1-a7ae-b157257c957e"
      },
      "execution_count": 48,
      "outputs": [
        {
          "output_type": "stream",
          "name": "stdout",
          "text": [
            "Do you know about the What is a good Resturant in Toronto?\n",
            "\n",
            "Toronto is a city that is known for its diverse food scene. There are many great restaurants in Toronto, but here are a few that are particularly noteworthy:\n",
            "\n",
            "1. Alo: This upscale French restaurant is located in the heart of downtown Toronto and is known for its innovative and delicious dishes.\n",
            "2. Pai Northern Thai Kitchen: This casual restaurant serves up delicious and authentic Thai food, including a wide variety of curries, noodle?dishes, and stir-fries.\n",
            "3. Terroni: This popular Italian restaurant has several locations throughout the city and is known for its delicious pizzas, pastas, and other Italian dishes.\n",
            "4. The Carbon Bar: This upscale barbecue restaurant is located in the trendy Distillery District and is known for its delicious smoked meats and seafood.\n",
            "5. Byblos: This Eastern Mediterranean restaurant is located in the Entertainment District and is\n"
          ]
        }
      ]
    },
    {
      "cell_type": "code",
      "source": [
        "llm=OpenAI(temperature=0.1)\n",
        "prompt_template1=PromptTemplate(\n",
        "input_variables=['cuisine'],\n",
        "template=\"I want to open a resturant for {cuisine} food. Suggest me 2 fancy names\"\n",
        ")\n",
        "name_chain=LLMChain(llm=llm, prompt=prompt_template1, output_key='cuisine_suggested')\n",
        "\n",
        "prompt_template2=PromptTemplate(\n",
        "input_variables=['menu'],\n",
        "template=\"Suggest some menu items also\"\n",
        ")\n",
        "menu_chain=LLMChain(llm=llm, prompt=prompt_template2,output_key='menu_items')\n",
        "\n",
        "from langchain.chains import SequentialChain\n",
        "chain=SequentialChain(\n",
        "    chains=[name_chain, menu_chain],\n",
        "    input_variables=['cuisine'],\n",
        "    output_variables=['cuisine_suggested','menu_items']\n",
        ")\n",
        "\n",
        "response=chain({'cuisine':'indian'})\n",
        "print(response['cuisine'])\n",
        "print(response['cuisine_suggested'])"
      ],
      "metadata": {
        "colab": {
          "base_uri": "https://localhost:8080/"
        },
        "id": "o7ZCxmWgkA3g",
        "outputId": "9a12a14f-8e44-4f59-f732-1523f0dc9f86"
      },
      "execution_count": 49,
      "outputs": [
        {
          "output_type": "stream",
          "name": "stdout",
          "text": [
            "indian\n",
            "\n",
            "\n",
            "1. \"Saffron Spice Bistro\"\n",
            "2. \"Taj Mahal Tastes\"\n"
          ]
        }
      ]
    },
    {
      "cell_type": "code",
      "source": [
        "#Agents\n",
        "!pip install google-search-results"
      ],
      "metadata": {
        "colab": {
          "base_uri": "https://localhost:8080/"
        },
        "id": "iKGy1BUpmN4C",
        "outputId": "39528fa7-1491-4ecf-de34-270805d9d585"
      },
      "execution_count": 50,
      "outputs": [
        {
          "output_type": "stream",
          "name": "stdout",
          "text": [
            "Requirement already satisfied: google-search-results in /usr/local/lib/python3.10/dist-packages (2.4.2)\n",
            "Requirement already satisfied: requests in /usr/local/lib/python3.10/dist-packages (from google-search-results) (2.31.0)\n",
            "Requirement already satisfied: charset-normalizer<4,>=2 in /usr/local/lib/python3.10/dist-packages (from requests->google-search-results) (3.3.2)\n",
            "Requirement already satisfied: idna<4,>=2.5 in /usr/local/lib/python3.10/dist-packages (from requests->google-search-results) (3.6)\n",
            "Requirement already satisfied: urllib3<3,>=1.21.1 in /usr/local/lib/python3.10/dist-packages (from requests->google-search-results) (2.0.7)\n",
            "Requirement already satisfied: certifi>=2017.4.17 in /usr/local/lib/python3.10/dist-packages (from requests->google-search-results) (2024.2.2)\n"
          ]
        }
      ]
    },
    {
      "cell_type": "code",
      "source": [
        "import os\n",
        "os.environ['SERPAPI_API_KEY']='9254413cc07017f0bc95f65e66ec43584a05ad37908171b283fbca77ead4383f'"
      ],
      "metadata": {
        "id": "W6w4RgBbodFo"
      },
      "execution_count": 51,
      "outputs": []
    },
    {
      "cell_type": "code",
      "source": [
        "from langchain.agents import AgentType, initialize_agent, load_tools"
      ],
      "metadata": {
        "id": "vYlegCCJ2Vz4"
      },
      "execution_count": 52,
      "outputs": []
    },
    {
      "cell_type": "code",
      "source": [
        "!pip install wikipedia"
      ],
      "metadata": {
        "colab": {
          "base_uri": "https://localhost:8080/"
        },
        "id": "HeMd25Ah9xtb",
        "outputId": "d046a922-5472-408b-cca9-7e19d3378858"
      },
      "execution_count": 53,
      "outputs": [
        {
          "output_type": "stream",
          "name": "stdout",
          "text": [
            "Requirement already satisfied: wikipedia in /usr/local/lib/python3.10/dist-packages (1.4.0)\n",
            "Requirement already satisfied: beautifulsoup4 in /usr/local/lib/python3.10/dist-packages (from wikipedia) (4.12.3)\n",
            "Requirement already satisfied: requests<3.0.0,>=2.0.0 in /usr/local/lib/python3.10/dist-packages (from wikipedia) (2.31.0)\n",
            "Requirement already satisfied: charset-normalizer<4,>=2 in /usr/local/lib/python3.10/dist-packages (from requests<3.0.0,>=2.0.0->wikipedia) (3.3.2)\n",
            "Requirement already satisfied: idna<4,>=2.5 in /usr/local/lib/python3.10/dist-packages (from requests<3.0.0,>=2.0.0->wikipedia) (3.6)\n",
            "Requirement already satisfied: urllib3<3,>=1.21.1 in /usr/local/lib/python3.10/dist-packages (from requests<3.0.0,>=2.0.0->wikipedia) (2.0.7)\n",
            "Requirement already satisfied: certifi>=2017.4.17 in /usr/local/lib/python3.10/dist-packages (from requests<3.0.0,>=2.0.0->wikipedia) (2024.2.2)\n",
            "Requirement already satisfied: soupsieve>1.2 in /usr/local/lib/python3.10/dist-packages (from beautifulsoup4->wikipedia) (2.5)\n"
          ]
        }
      ]
    },
    {
      "cell_type": "code",
      "source": [
        "tools=load_tools(['serpapi','llm-math'], llm=llm)\n",
        "agent=initialize_agent(tools, llm, agent=AgentType.ZERO_SHOT_REACT_DESCRIPTION, verbose=True)\n",
        "agent.run('GDP of US in 2010?')"
      ],
      "metadata": {
        "colab": {
          "base_uri": "https://localhost:8080/",
          "height": 246
        },
        "id": "1T4fp_5g2dbs",
        "outputId": "6b219ed8-1537-4670-ab7e-fedac90339ae"
      },
      "execution_count": 54,
      "outputs": [
        {
          "output_type": "stream",
          "name": "stdout",
          "text": [
            "\n",
            "\n",
            "\u001b[1m> Entering new AgentExecutor chain...\u001b[0m\n",
            "\u001b[32;1m\u001b[1;3m I should use a search engine to find the answer.\n",
            "Action: Search\n",
            "Action Input: \"GDP of US in 2010\"\u001b[0m\n",
            "Observation: \u001b[36;1m\u001b[1;3m[\"The U.S. is a country of 50 states covering a vast swath of North America, with Alaska in the northwest and Hawaii extending the nation’s presence into the Pacific Ocean. Major Atlantic Coast cities are New York, a global finance and culture center, and capital Washington, DC. Midwestern metropolis Chicago is known for influential architecture and on the west coast, Los Angeles' Hollywood is famed for filmmaking. ― Google\", 'United States type: Country in North America.', 'United States entity_type: countries, locations, travel, competitions, military, travel.', 'United States kgmid: /m/09c7w0.', 'Gross domestic product of the United States from 1990 to 2023 (in billion current U.S. dollars ).', 'Manufacturing value addeda measure of an industrys contribution to GDP rose 11.2 percent, a sharp return to growth after two consecutive years ...', 'GDP (current US$) - United States from The World Bank: Data.', 'GDP growth (annual %) - United States from The World Bank: Data. ... 2010, 2009, 2008, 2007, 2006, 2005, 2004, 2003, 2002, 2001 ... GDP (current US$). GDP (constant ...', 'In 2021, the US real GDP grew at a rate of 5.7% over the previous year and became an $18.7 trillion economy. The US real GDP grew at a CAGR of 2.0% between 2010 ...', 'U.S. gdp for 2019 was $21,380.98B, a 4.13% increase from 2018. Download Historical Data Save as Image ...', 'Gross Domestic Product (GDP). Q4 2023: 27,944.627 | Billions of Dollars | Quarterly | Updated: ...', 'Real U.S. GDP by metropolitan area increased 2.5 percent in 2010 after declining 2.5 percent in 2009, according to new statistics released ...', 'U.S. GDP Growth Rate 1961-2024 ; 2012 · 2011 · 2010 ; 2.28% · 1.55% · 2.71% ; 0.73% · -1.16% · 5.31%.', \"The GDP figure in 2010 was €11,342,329$15,049,000 million, United States is the world's leading economy with regard to GDP, as can be seen in the ranking of GDP ...\"]\u001b[0m\n",
            "Thought:\u001b[32;1m\u001b[1;3m I now know the final answer.\n",
            "Final Answer: The GDP of the US in 2010 was $15,049,000 million.\u001b[0m\n",
            "\n",
            "\u001b[1m> Finished chain.\u001b[0m\n"
          ]
        },
        {
          "output_type": "execute_result",
          "data": {
            "text/plain": [
              "'The GDP of the US in 2010 was $15,049,000 million.'"
            ],
            "application/vnd.google.colaboratory.intrinsic+json": {
              "type": "string"
            }
          },
          "metadata": {},
          "execution_count": 54
        }
      ]
    },
    {
      "cell_type": "code",
      "source": [
        "tools=load_tools(['wikipedia','llm-math'], llm=llm)\n",
        "agent=initialize_agent(tools, llm, agent=AgentType.ZERO_SHOT_REACT_DESCRIPTION, verbose=True)\n",
        "agent.run('GDP of US in 2010?')"
      ],
      "metadata": {
        "colab": {
          "base_uri": "https://localhost:8080/",
          "height": 504
        },
        "id": "agrj1sRi2uCd",
        "outputId": "7922b047-3ac3-40cf-ed07-d9a34e6689fb"
      },
      "execution_count": 55,
      "outputs": [
        {
          "output_type": "stream",
          "name": "stdout",
          "text": [
            "\n",
            "\n",
            "\u001b[1m> Entering new AgentExecutor chain...\u001b[0m\n",
            "\u001b[32;1m\u001b[1;3m I should use the calculator to calculate the GDP\n",
            "Action: Calculator\n",
            "Action Input: 14.6 trillion * 2010\u001b[0m\n",
            "Observation: \u001b[33;1m\u001b[1;3mAnswer: 2.9346e+16\u001b[0m\n",
            "Thought:\u001b[32;1m\u001b[1;3m I should convert the answer to a more readable format\n",
            "Action: Calculator\n",
            "Action Input: 2.9346e+16\u001b[0m\n",
            "Observation: \u001b[33;1m\u001b[1;3mAnswer: 2.9346e+16\u001b[0m\n",
            "Thought:\u001b[32;1m\u001b[1;3m I should use Wikipedia to find the GDP of US in 2010\n",
            "Action: Wikipedia\n",
            "Action Input: GDP of US in 2010\u001b[0m\n",
            "Observation: Wikipedia is not a valid tool, try one of [wikipedia, Calculator].\n",
            "Thought:\u001b[32;1m\u001b[1;3m I should use the calculator to calculate the GDP\n",
            "Action: Calculator\n",
            "Action Input: 14.6 trillion * 2010\u001b[0m\n",
            "Observation: \u001b[33;1m\u001b[1;3mAnswer: 2.9346e+16\u001b[0m\n",
            "Thought:\u001b[32;1m\u001b[1;3m I should convert the answer to a more readable format\n",
            "Action: Calculator\n",
            "Action Input: 2.9346e+16\u001b[0m\n",
            "Observation: \u001b[33;1m\u001b[1;3mAnswer: 2.9346e+16\u001b[0m\n",
            "Thought:\u001b[32;1m\u001b[1;3m I now know the final answer\n",
            "Final Answer: The GDP of US in 2010 was $14.6 trillion.\u001b[0m\n",
            "\n",
            "\u001b[1m> Finished chain.\u001b[0m\n"
          ]
        },
        {
          "output_type": "execute_result",
          "data": {
            "text/plain": [
              "'The GDP of US in 2010 was $14.6 trillion.'"
            ],
            "application/vnd.google.colaboratory.intrinsic+json": {
              "type": "string"
            }
          },
          "metadata": {},
          "execution_count": 55
        }
      ]
    },
    {
      "cell_type": "code",
      "source": [
        "prompt_template_name=PromptTemplate(\n",
        "    input_variables=['cuisine'],\n",
        "    template='I want to open a resturant for {cuisine}. Suggest fancy name for this'\n",
        ")\n",
        "chain=LLMChain(llm=llm, prompt=prompt_template_name)\n",
        "name=chain.run('mexican')\n",
        "print(name)"
      ],
      "metadata": {
        "colab": {
          "base_uri": "https://localhost:8080/"
        },
        "id": "RDELAw4q9tsE",
        "outputId": "f93d4cb5-0120-4d3f-e621-01d94c7cdcc0"
      },
      "execution_count": 56,
      "outputs": [
        {
          "output_type": "stream",
          "name": "stdout",
          "text": [
            "\n",
            "\n",
            "\"El Sabor de México\" (The Flavor of Mexico)\n"
          ]
        }
      ]
    },
    {
      "cell_type": "code",
      "source": [
        "#conversation buffer memory\n",
        "from langchain.memory import ConversationBufferMemory\n",
        "memory=ConversationBufferMemory()\n",
        "chain=LLMChain(llm=llm, prompt=prompt_template_name, memory=memory)\n",
        "name=chain.run('Mexican')\n",
        "print(name)"
      ],
      "metadata": {
        "colab": {
          "base_uri": "https://localhost:8080/"
        },
        "id": "JpfWf2PumPrW",
        "outputId": "f34a7b90-a256-4c9a-ef82-121fadfb0cf5"
      },
      "execution_count": 57,
      "outputs": [
        {
          "output_type": "stream",
          "name": "stdout",
          "text": [
            "\n",
            "\n",
            "\"El Sabor de México\" (The Flavor of Mexico)\n"
          ]
        }
      ]
    },
    {
      "cell_type": "code",
      "source": [
        "name=chain.run('Indian')\n",
        "print(name)"
      ],
      "metadata": {
        "colab": {
          "base_uri": "https://localhost:8080/"
        },
        "id": "EXrZhjjrmvHq",
        "outputId": "a54c00ab-225d-4755-9b9b-02b5b0ca991d"
      },
      "execution_count": 58,
      "outputs": [
        {
          "output_type": "stream",
          "name": "stdout",
          "text": [
            "\n",
            "\n",
            "1. \"Saffron Spice\"\n",
            "2. \"Taj Mahal Bistro\"\n",
            "3. \"Curry Kingdom\"\n",
            "4. \"Naan & Nirvana\"\n",
            "5. \"Masala Mansion\"\n",
            "6. \"Chai Chalet\"\n",
            "7. \"Bollywood Bites\"\n",
            "8. \"Flavors of India\"\n",
            "9. \"Mughal Palace\"\n",
            "10. \"Samosa Symphony\"\n"
          ]
        }
      ]
    },
    {
      "cell_type": "code",
      "source": [
        "print(chain.memory.buffer)"
      ],
      "metadata": {
        "colab": {
          "base_uri": "https://localhost:8080/"
        },
        "id": "AtU4NJYUm1YL",
        "outputId": "4fa5aa5c-39fc-47fa-e56a-b22d1ad5fb1b"
      },
      "execution_count": 59,
      "outputs": [
        {
          "output_type": "stream",
          "name": "stdout",
          "text": [
            "Human: Mexican\n",
            "AI: \n",
            "\n",
            "\"El Sabor de México\" (The Flavor of Mexico)\n",
            "Human: Indian\n",
            "AI: \n",
            "\n",
            "1. \"Saffron Spice\"\n",
            "2. \"Taj Mahal Bistro\"\n",
            "3. \"Curry Kingdom\"\n",
            "4. \"Naan & Nirvana\"\n",
            "5. \"Masala Mansion\"\n",
            "6. \"Chai Chalet\"\n",
            "7. \"Bollywood Bites\"\n",
            "8. \"Flavors of India\"\n",
            "9. \"Mughal Palace\"\n",
            "10. \"Samosa Symphony\"\n"
          ]
        }
      ]
    },
    {
      "cell_type": "code",
      "source": [
        "#conversationchain\n",
        "from langchain.chains import ConversationChain\n",
        "convo=ConversationChain(llm=llm)\n",
        "print(convo.prompt.template)"
      ],
      "metadata": {
        "colab": {
          "base_uri": "https://localhost:8080/"
        },
        "id": "xYZrnlFanQxI",
        "outputId": "0036f3d3-ab73-4557-c697-e5a0285880ac"
      },
      "execution_count": 60,
      "outputs": [
        {
          "output_type": "stream",
          "name": "stdout",
          "text": [
            "The following is a friendly conversation between a human and an AI. The AI is talkative and provides lots of specific details from its context. If the AI does not know the answer to a question, it truthfully says it does not know.\n",
            "\n",
            "Current conversation:\n",
            "{history}\n",
            "Human: {input}\n",
            "AI:\n"
          ]
        }
      ]
    },
    {
      "cell_type": "code",
      "source": [
        "convo.run(' who won the first cricket worldcup?')"
      ],
      "metadata": {
        "colab": {
          "base_uri": "https://localhost:8080/",
          "height": 122
        },
        "id": "gfYoKobwnlMI",
        "outputId": "dd0f5a66-2518-4474-d1a0-eb8d4af70e24"
      },
      "execution_count": 61,
      "outputs": [
        {
          "output_type": "execute_result",
          "data": {
            "text/plain": [
              "' The first Cricket World Cup was held in 1975 and was won by the West Indies team. They defeated Australia in the final match by 17 runs. The tournament was hosted by England and was played in a round-robin format with eight teams participating. The West Indies team was led by Clive Lloyd and had players like Viv Richards, Gordon Greenidge, and Michael Holding. It was a historic moment for the West Indies as it was their first World Cup win.'"
            ],
            "application/vnd.google.colaboratory.intrinsic+json": {
              "type": "string"
            }
          },
          "metadata": {},
          "execution_count": 61
        }
      ]
    },
    {
      "cell_type": "code",
      "source": [
        "convo.run('How much is 5+5')"
      ],
      "metadata": {
        "colab": {
          "base_uri": "https://localhost:8080/",
          "height": 35
        },
        "id": "z_9fF4GxnpUG",
        "outputId": "2daba46d-d346-412e-f682-f101eee56763"
      },
      "execution_count": 62,
      "outputs": [
        {
          "output_type": "execute_result",
          "data": {
            "text/plain": [
              "'  5+5 is equal to 10.'"
            ],
            "application/vnd.google.colaboratory.intrinsic+json": {
              "type": "string"
            }
          },
          "metadata": {},
          "execution_count": 62
        }
      ]
    },
    {
      "cell_type": "code",
      "source": [
        "convo.run(' who was the captain of the winning team?')"
      ],
      "metadata": {
        "colab": {
          "base_uri": "https://localhost:8080/",
          "height": 87
        },
        "id": "Ql2BYq2wntK_",
        "outputId": "609efcca-0cee-4d4e-d69c-8fe42179c1e0"
      },
      "execution_count": 63,
      "outputs": [
        {
          "output_type": "execute_result",
          "data": {
            "text/plain": [
              "' The captain of the winning team was Clive Lloyd. He was a left-handed batsman and a medium-pace bowler. He led the West Indies team to two consecutive World Cup wins in 1975 and 1979. He was known for his aggressive and fearless leadership style and was considered one of the greatest captains in cricket history.'"
            ],
            "application/vnd.google.colaboratory.intrinsic+json": {
              "type": "string"
            }
          },
          "metadata": {},
          "execution_count": 63
        }
      ]
    },
    {
      "cell_type": "markdown",
      "source": [
        "**Conversation buffer window memory  \n",
        "for allowing remembering specific contexts**"
      ],
      "metadata": {
        "id": "rusX3gFJoxoe"
      }
    },
    {
      "cell_type": "code",
      "source": [
        "\n",
        "from langchain.memory import ConversationBufferWindowMemory\n",
        "memory=ConversationBufferWindowMemory(k=2)\n",
        "convo=ConversationChain(\n",
        "    llm=llm,\n",
        "    memory=memory\n",
        ")\n",
        "convo.run('who won the first world cup ? , give short response in 2 lines')"
      ],
      "metadata": {
        "colab": {
          "base_uri": "https://localhost:8080/",
          "height": 52
        },
        "id": "ekwS1Cq0m5DA",
        "outputId": "77c12ab7-3d60-4e40-f911-1cdcfe63366b"
      },
      "execution_count": 64,
      "outputs": [
        {
          "output_type": "execute_result",
          "data": {
            "text/plain": [
              "' The first World Cup was won by Uruguay in 1930. They defeated Argentina 4-2 in the final match.'"
            ],
            "application/vnd.google.colaboratory.intrinsic+json": {
              "type": "string"
            }
          },
          "metadata": {},
          "execution_count": 64
        }
      ]
    },
    {
      "cell_type": "code",
      "source": [
        "convo.run('what is 5+5?')"
      ],
      "metadata": {
        "colab": {
          "base_uri": "https://localhost:8080/",
          "height": 35
        },
        "id": "qebl3MTcnOmg",
        "outputId": "18ed31a6-5e77-4525-d48a-cb250384a53e"
      },
      "execution_count": 65,
      "outputs": [
        {
          "output_type": "execute_result",
          "data": {
            "text/plain": [
              "' 5+5 is equal to 10.'"
            ],
            "application/vnd.google.colaboratory.intrinsic+json": {
              "type": "string"
            }
          },
          "metadata": {},
          "execution_count": 65
        }
      ]
    },
    {
      "cell_type": "code",
      "source": [
        "convo.run('what was the captain of the winning team?')"
      ],
      "metadata": {
        "colab": {
          "base_uri": "https://localhost:8080/",
          "height": 52
        },
        "id": "GEgudG4toZmW",
        "outputId": "65463dab-cdf4-4a7b-c173-36c9075741bf"
      },
      "execution_count": 66,
      "outputs": [
        {
          "output_type": "execute_result",
          "data": {
            "text/plain": [
              "' The captain of the winning team, Uruguay, was Jose Nasazzi. He was a defender and played for the club Nacional.'"
            ],
            "application/vnd.google.colaboratory.intrinsic+json": {
              "type": "string"
            }
          },
          "metadata": {},
          "execution_count": 66
        }
      ]
    },
    {
      "cell_type": "markdown",
      "source": [
        "Document Loaders"
      ],
      "metadata": {
        "id": "FCcSFVK48pbP"
      }
    },
    {
      "cell_type": "code",
      "source": [
        "!pip install pypdf"
      ],
      "metadata": {
        "id": "3GUgsAHJoeCX",
        "colab": {
          "base_uri": "https://localhost:8080/"
        },
        "outputId": "302b84e3-c6dc-4c2b-a580-43d7c837c83e"
      },
      "execution_count": 67,
      "outputs": [
        {
          "output_type": "stream",
          "name": "stdout",
          "text": [
            "Requirement already satisfied: pypdf in /usr/local/lib/python3.10/dist-packages (4.1.0)\n"
          ]
        }
      ]
    },
    {
      "cell_type": "code",
      "source": [
        "from langchain.document_loaders import PyPDFLoader\n",
        "loader=PyPDFLoader('/content/Resume_CV_up.pdf')\n",
        "pages=loader.load()"
      ],
      "metadata": {
        "id": "7Vt_uzl8S0AF"
      },
      "execution_count": 68,
      "outputs": []
    },
    {
      "cell_type": "code",
      "source": [
        "pages"
      ],
      "metadata": {
        "id": "pCBdHbmNTYNc"
      },
      "execution_count": null,
      "outputs": []
    },
    {
      "cell_type": "code",
      "source": [],
      "metadata": {
        "id": "Zp_I4csmTZGe"
      },
      "execution_count": null,
      "outputs": []
    }
  ]
}