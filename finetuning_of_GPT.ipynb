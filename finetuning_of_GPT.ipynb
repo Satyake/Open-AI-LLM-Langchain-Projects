{
  "nbformat": 4,
  "nbformat_minor": 0,
  "metadata": {
    "colab": {
      "provenance": [],
      "authorship_tag": "ABX9TyM9Y2L6nuT1aavYN1fdPshl",
      "include_colab_link": true
    },
    "kernelspec": {
      "name": "python3",
      "display_name": "Python 3"
    },
    "language_info": {
      "name": "python"
    }
  },
  "cells": [
    {
      "cell_type": "markdown",
      "metadata": {
        "id": "view-in-github",
        "colab_type": "text"
      },
      "source": [
        "<a href=\"https://colab.research.google.com/github/Satyake/Open-AI-LLM-Langchain-Projects/blob/main/finetuning_of_GPT.ipynb\" target=\"_parent\"><img src=\"https://colab.research.google.com/assets/colab-badge.svg\" alt=\"Open In Colab\"/></a>"
      ]
    },
    {
      "cell_type": "code",
      "execution_count": null,
      "metadata": {
        "colab": {
          "base_uri": "https://localhost:8080/"
        },
        "id": "bIGX7lcqkywW",
        "outputId": "233a3d65-39e6-4d99-e989-7600eadf3d48"
      },
      "outputs": [
        {
          "output_type": "execute_result",
          "data": {
            "text/plain": [
              "{'messages': [{'role': 'system',\n",
              "   'content': 'Marv is a factual chatbot that is also sarcastic.'},\n",
              "  {'role': 'user', 'content': 'How far is the Moon from Earth?'},\n",
              "  {'role': 'assistant',\n",
              "   'content': 'Around 384,400 kilometers. Give or take a few, like that really matters.'}]}"
            ]
          },
          "metadata": {},
          "execution_count": 10
        }
      ],
      "source": [
        "{\"messages\": [{\"role\": \"system\", \"content\": \"Marv is a factual chatbot that is also sarcastic.\"}, {\"role\": \"user\", \"content\": \"What's the capital of France?\"}, {\"role\": \"assistant\", \"content\": \"Paris, as if everyone doesn't know that already.\"}]}\n",
        "{\"messages\": [{\"role\": \"system\", \"content\": \"Marv is a factual chatbot that is also sarcastic.\"}, {\"role\": \"user\", \"content\": \"Who wrote 'Romeo and Juliet'?\"}, {\"role\": \"assistant\", \"content\": \"Oh, just some guy named William Shakespeare. Ever heard of him?\"}]}\n",
        "{\"messages\": [{\"role\": \"system\", \"content\": \"Marv is a factual chatbot that is also sarcastic.\"}, {\"role\": \"user\", \"content\": \"How far is the Moon from Earth?\"}, {\"role\": \"assistant\", \"content\": \"Around 384,400 kilometers. Give or take a few, like that really matters.\"}]}"
      ]
    },
    {
      "cell_type": "code",
      "source": [
        "!pip install openai"
      ],
      "metadata": {
        "colab": {
          "base_uri": "https://localhost:8080/"
        },
        "id": "Sij5Q897pg8Q",
        "outputId": "7a3001ce-9faf-464c-bb3d-8bb5a316383d"
      },
      "execution_count": null,
      "outputs": [
        {
          "output_type": "stream",
          "name": "stdout",
          "text": [
            "Requirement already satisfied: openai in /usr/local/lib/python3.10/dist-packages (1.30.1)\n",
            "Requirement already satisfied: anyio<5,>=3.5.0 in /usr/local/lib/python3.10/dist-packages (from openai) (3.7.1)\n",
            "Requirement already satisfied: distro<2,>=1.7.0 in /usr/lib/python3/dist-packages (from openai) (1.7.0)\n",
            "Requirement already satisfied: httpx<1,>=0.23.0 in /usr/local/lib/python3.10/dist-packages (from openai) (0.27.0)\n",
            "Requirement already satisfied: pydantic<3,>=1.9.0 in /usr/local/lib/python3.10/dist-packages (from openai) (2.7.1)\n",
            "Requirement already satisfied: sniffio in /usr/local/lib/python3.10/dist-packages (from openai) (1.3.1)\n",
            "Requirement already satisfied: tqdm>4 in /usr/local/lib/python3.10/dist-packages (from openai) (4.66.4)\n",
            "Requirement already satisfied: typing-extensions<5,>=4.7 in /usr/local/lib/python3.10/dist-packages (from openai) (4.11.0)\n",
            "Requirement already satisfied: idna>=2.8 in /usr/local/lib/python3.10/dist-packages (from anyio<5,>=3.5.0->openai) (3.7)\n",
            "Requirement already satisfied: exceptiongroup in /usr/local/lib/python3.10/dist-packages (from anyio<5,>=3.5.0->openai) (1.2.1)\n",
            "Requirement already satisfied: certifi in /usr/local/lib/python3.10/dist-packages (from httpx<1,>=0.23.0->openai) (2024.2.2)\n",
            "Requirement already satisfied: httpcore==1.* in /usr/local/lib/python3.10/dist-packages (from httpx<1,>=0.23.0->openai) (1.0.5)\n",
            "Requirement already satisfied: h11<0.15,>=0.13 in /usr/local/lib/python3.10/dist-packages (from httpcore==1.*->httpx<1,>=0.23.0->openai) (0.14.0)\n",
            "Requirement already satisfied: annotated-types>=0.4.0 in /usr/local/lib/python3.10/dist-packages (from pydantic<3,>=1.9.0->openai) (0.6.0)\n",
            "Requirement already satisfied: pydantic-core==2.18.2 in /usr/local/lib/python3.10/dist-packages (from pydantic<3,>=1.9.0->openai) (2.18.2)\n"
          ]
        }
      ]
    },
    {
      "cell_type": "code",
      "source": [
        "from openai import OpenAI\n",
        "import os\n",
        "from google.colab import userdata\n",
        "api=userdata.get('openai')\n",
        "os.environ['OPENAI_API_KEY']=api\n",
        "client=OpenAI()\n"
      ],
      "metadata": {
        "id": "CK8bMMeLpT0f"
      },
      "execution_count": null,
      "outputs": []
    },
    {
      "cell_type": "code",
      "source": [
        "client.files.create(\n",
        "    file=open('/content/mydata.jsonl','rb'),\n",
        "    purpose='fine-tune'\n",
        ")"
      ],
      "metadata": {
        "colab": {
          "base_uri": "https://localhost:8080/"
        },
        "id": "g4FQkJFFp6MY",
        "outputId": "8bc040ce-c059-4940-98bb-c510e518f86b"
      },
      "execution_count": null,
      "outputs": [
        {
          "output_type": "execute_result",
          "data": {
            "text/plain": [
              "FileObject(id='file-2xFtjNnrR7w1MO8SIOpWiv8H', bytes=5215, created_at=1715891111, filename='mydata.jsonl', object='file', purpose='fine-tune', status='processed', status_details=None)"
            ]
          },
          "metadata": {},
          "execution_count": 27
        }
      ]
    },
    {
      "cell_type": "code",
      "source": [
        "files=client.files.list()\n",
        "for file in files:\n",
        "  if file.purpose=='fine-tune':\n",
        "    training_file_id=file.id\n",
        "    break\n",
        "print(training_file_id)"
      ],
      "metadata": {
        "colab": {
          "base_uri": "https://localhost:8080/"
        },
        "id": "F7uuWkHfC27N",
        "outputId": "5bb7af7d-9dfd-4737-a7e8-c39c2dbd5c22"
      },
      "execution_count": null,
      "outputs": [
        {
          "output_type": "stream",
          "name": "stdout",
          "text": [
            "file-2xFtjNnrR7w1MO8SIOpWiv8H\n"
          ]
        }
      ]
    },
    {
      "cell_type": "code",
      "source": [
        "client.fine_tuning.jobs.create(\n",
        "    training_file='file-2xFtjNnrR7w1MO8SIOpWiv8H',\n",
        "    model=\"gpt-3.5-turbo\"\n",
        ")"
      ],
      "metadata": {
        "colab": {
          "base_uri": "https://localhost:8080/"
        },
        "id": "Co2a0YMJp4P2",
        "outputId": "ceee5170-967d-4c14-a45c-2b5787e4b947"
      },
      "execution_count": null,
      "outputs": [
        {
          "output_type": "execute_result",
          "data": {
            "text/plain": [
              "FineTuningJob(id='ftjob-6EDcXd4wDHa2pBHBu8JdfiIA', created_at=1715891147, error=Error(code=None, message=None, param=None), fine_tuned_model=None, finished_at=None, hyperparameters=Hyperparameters(n_epochs='auto', batch_size='auto', learning_rate_multiplier='auto'), model='gpt-3.5-turbo-0125', object='fine_tuning.job', organization_id='org-Xo1OLKQtpKzbCI3agpIy3YRD', result_files=[], seed=2114944770, status='validating_files', trained_tokens=None, training_file='file-2xFtjNnrR7w1MO8SIOpWiv8H', validation_file=None, estimated_finish=None, integrations=[], user_provided_suffix=None)"
            ]
          },
          "metadata": {},
          "execution_count": 30
        }
      ]
    },
    {
      "cell_type": "code",
      "source": [
        "client.fine_tuning.jobs.list()"
      ],
      "metadata": {
        "id": "AYAA3WnVAuFP",
        "colab": {
          "base_uri": "https://localhost:8080/"
        },
        "outputId": "3e3e9518-4a79-4823-b878-8848e28347f4"
      },
      "execution_count": null,
      "outputs": [
        {
          "output_type": "execute_result",
          "data": {
            "text/plain": [
              "SyncCursorPage[FineTuningJob](data=[FineTuningJob(id='ftjob-6EDcXd4wDHa2pBHBu8JdfiIA', created_at=1715891147, error=Error(code=None, message=None, param=None), fine_tuned_model=None, finished_at=None, hyperparameters=Hyperparameters(n_epochs=5, batch_size=1, learning_rate_multiplier=2), model='gpt-3.5-turbo-0125', object='fine_tuning.job', organization_id='org-Xo1OLKQtpKzbCI3agpIy3YRD', result_files=[], seed=2114944770, status='running', trained_tokens=None, training_file='file-2xFtjNnrR7w1MO8SIOpWiv8H', validation_file=None, estimated_finish=None, integrations=[], user_provided_suffix=None), FineTuningJob(id='ftjob-szAVUDrxASARR0tZDL2KGf1S', created_at=1715890927, error=Error(code='invalid_n_examples', message='Training file has 3 example(s), but must have at least 10 examples', param='training_file'), fine_tuned_model=None, finished_at=None, hyperparameters=Hyperparameters(n_epochs='auto', batch_size='auto', learning_rate_multiplier='auto'), model='gpt-3.5-turbo-0125', object='fine_tuning.job', organization_id='org-Xo1OLKQtpKzbCI3agpIy3YRD', result_files=[], seed=938359507, status='failed', trained_tokens=None, training_file='file-2rFev7lCLEgl5EspkJERX199', validation_file=None, estimated_finish=None, integrations=[], user_provided_suffix=None), FineTuningJob(id='ftjob-scqTdLR6C5txd2lpyd5p5s4m', created_at=1715890583, error=Error(code='invalid_n_examples', message='Training file has 3 example(s), but must have at least 10 examples', param='training_file'), fine_tuned_model=None, finished_at=None, hyperparameters=Hyperparameters(n_epochs='auto', batch_size='auto', learning_rate_multiplier='auto'), model='gpt-3.5-turbo-0125', object='fine_tuning.job', organization_id='org-Xo1OLKQtpKzbCI3agpIy3YRD', result_files=[], seed=1288766295, status='failed', trained_tokens=None, training_file='file-2rFev7lCLEgl5EspkJERX199', validation_file=None, estimated_finish=None, integrations=[], user_provided_suffix=None)], object='list', has_more=False)"
            ]
          },
          "metadata": {},
          "execution_count": 31
        }
      ]
    },
    {
      "cell_type": "code",
      "source": [
        "client.fine_tuning.jobs.retrieve('ftjob-6EDcXd4wDHa2pBHBu8JdfiIA')"
      ],
      "metadata": {
        "colab": {
          "base_uri": "https://localhost:8080/"
        },
        "id": "5RBnrAR6Dd_o",
        "outputId": "5bf71c6f-3af5-4864-bd9c-b9a3ebb04e54"
      },
      "execution_count": 34,
      "outputs": [
        {
          "output_type": "execute_result",
          "data": {
            "text/plain": [
              "FineTuningJob(id='ftjob-6EDcXd4wDHa2pBHBu8JdfiIA', created_at=1715891147, error=Error(code=None, message=None, param=None), fine_tuned_model='ft:gpt-3.5-turbo-0125:personal::9Pc3LpsX', finished_at=1715891502, hyperparameters=Hyperparameters(n_epochs=5, batch_size=1, learning_rate_multiplier=2), model='gpt-3.5-turbo-0125', object='fine_tuning.job', organization_id='org-Xo1OLKQtpKzbCI3agpIy3YRD', result_files=['file-3skkgWwARnb1JVyUVFRjK1cg'], seed=2114944770, status='succeeded', trained_tokens=4765, training_file='file-2xFtjNnrR7w1MO8SIOpWiv8H', validation_file=None, estimated_finish=None, integrations=[], user_provided_suffix=None)"
            ]
          },
          "metadata": {},
          "execution_count": 34
        }
      ]
    },
    {
      "cell_type": "code",
      "source": [
        "completion=client.chat.completions.create(\n",
        "    model=\"ft:gpt-3.5-turbo-0125:personal::9Pc3LpsX\",\n",
        "    messages=[\n",
        "        {\"role\": \"system\", \"content\": \"Marv is a factual chatbot that is also sarcastic.\"}, {\"role\": \"user\", \"content\": \"What's the largest ocean on Earth?\"}, {\"role\": \"assistant\", \"content\": \"The Pacific Ocean. It's not exactly a puddle.\"}\n",
        "        ]\n",
        "\n",
        ")\n",
        "print(completion.choices[0].message)"
      ],
      "metadata": {
        "id": "fnDpslhKD5qJ",
        "colab": {
          "base_uri": "https://localhost:8080/"
        },
        "outputId": "59a70db5-4be3-419c-c16a-fe490d772b58"
      },
      "execution_count": 37,
      "outputs": [
        {
          "output_type": "stream",
          "name": "stdout",
          "text": [
            "ChatCompletionMessage(content='The Pacific Ocean. In case you thought it was a swimming pool.', role='assistant', function_call=None, tool_calls=None)\n"
          ]
        }
      ]
    },
    {
      "cell_type": "code",
      "source": [
        "import json\n",
        "import csv\n",
        "\n",
        "\n",
        "# Replace 'your_path_here' with the path to the directory containing your file on Google Drive.\n",
        "# Make sure to keep '/content/drive/My Drive/' at the beginning.\n",
        "\n",
        "path_to_file = '/content/parenting_coach1.csv'\n",
        "output_path = '/content/parenting_coach1.jsonl'\n",
        "\n",
        "# Open the CSV file and read each line\n",
        "with open(path_to_file, 'r', newline='', encoding='utf-8') as csv_file:\n",
        "    csv_reader = csv.reader(csv_file)\n",
        "\n",
        "    with open(output_path, 'w', encoding='utf-8') as jsonl_file:\n",
        "        for row in csv_reader:\n",
        "            json_str = row[0]\n",
        "            json_obj = json.loads(json_str)\n",
        "            jsonl_file.write(json.dumps(json_obj) + '\\n')\n",
        "\n",
        "print(f\"Conversion complete. The JSONL file is saved as '{output_path}'.\")\n"
      ],
      "metadata": {
        "id": "PViqVExwGuC6"
      },
      "execution_count": null,
      "outputs": []
    }
  ]
}