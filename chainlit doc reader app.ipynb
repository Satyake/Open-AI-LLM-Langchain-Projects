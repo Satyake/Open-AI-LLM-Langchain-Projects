{
 "cells": [
  {
   "cell_type": "code",
   "execution_count": 21,
   "metadata": {},
   "outputs": [
    {
     "name": "stdout",
     "output_type": "stream",
     "text": [
      "Overwriting requirements.txt\n"
     ]
    }
   ],
   "source": [
    "%%writefile requirements.txt\n",
    "langchain\n",
    "chromadb\n",
    "tiktoken\n",
    "chainlit\n",
    "openai \n",
    "pysqlite"
   ]
  },
  {
   "cell_type": "code",
   "execution_count": 22,
   "metadata": {},
   "outputs": [
    {
     "name": "stdout",
     "output_type": "stream",
     "text": [
      "Collecting pysqlite\n",
      "  Downloading pysqlite-2.8.3.tar.gz (80 kB)\n",
      "     ---------------------------------------- 0.0/80.6 kB ? eta -:--:--\n",
      "     ----- ---------------------------------- 10.2/80.6 kB ? eta -:--:--\n",
      "     -------------------------------------- 80.6/80.6 kB 901.6 kB/s eta 0:00:00\n",
      "  Preparing metadata (setup.py): started\n",
      "  Preparing metadata (setup.py): finished with status 'error'\n"
     ]
    },
    {
     "name": "stderr",
     "output_type": "stream",
     "text": [
      "  error: subprocess-exited-with-error\n",
      "  \n",
      "  × python setup.py egg_info did not run successfully.\n",
      "  │ exit code: 1\n",
      "  ╰─> [1 lines of output]\n",
      "      pysqlite is not supported on Python 3. When using Python 3, use the sqlite3 module from the standard library.\n",
      "      [end of output]\n",
      "  \n",
      "  note: This error originates from a subprocess, and is likely not a problem with pip.\n",
      "error: metadata-generation-failed\n",
      "\n",
      "× Encountered error while generating package metadata.\n",
      "╰─> See above for output.\n",
      "\n",
      "note: This is an issue with the package mentioned above, not pip.\n",
      "hint: See above for details.\n"
     ]
    }
   ],
   "source": [
    "!pip install pysqlite"
   ]
  },
  {
   "cell_type": "code",
   "execution_count": 3,
   "metadata": {},
   "outputs": [
    {
     "name": "stdout",
     "output_type": "stream",
     "text": [
      "Writing .env\n"
     ]
    }
   ],
   "source": [
    "%%writefile .env\n"
   ]
  },
  {
   "cell_type": "code",
   "execution_count": 17,
   "metadata": {},
   "outputs": [
    {
     "name": "stdout",
     "output_type": "stream",
     "text": [
      "Writing app1.py\n"
     ]
    }
   ],
   "source": [
    "%%writefile app1.py \n",
    "import os\n",
    "from typing import List\n",
    "\n",
    "from langchain.embeddings.openai import OpenAIEmbeddings\n",
    "from langchain.text_splitter import RecursiveCharacterTextSplitter\n",
    "from langchain.vectorstores import Chroma\n",
    "from langchain.chains import (\n",
    "    ConversationalRetrievalChain,\n",
    ")\n",
    "from langchain.chat_models import ChatOpenAI\n",
    "\n",
    "from langchain.docstore.document import Document\n",
    "from langchain.memory import ChatMessageHistory, ConversationBufferMemory\n",
    "\n",
    "import chainlit as cl\n",
    "\n",
    "print(\"all_ok\")\n",
    "\n",
    "from dotenv import load_dotenv\n",
    "\n",
    "load_dotenv() \n",
    "\n",
    "OPENAI_API_KEY=os.getenv(\"OPENAI_API_KEY\")\n",
    "\n",
    "os.environ[\"OPENAI_API_KEY\"] = OPENAI_API_KEY\n",
    "\n",
    "\n",
    "text_splitter = RecursiveCharacterTextSplitter(chunk_size=1000, chunk_overlap=100)\n",
    "\n",
    "\n",
    "@cl.on_chat_start\n",
    "async def on_chat_start():\n",
    "    files = None\n",
    "\n",
    "    # Wait for the user to upload a file\n",
    "    while files == None:\n",
    "        files = await cl.AskFileMessage(\n",
    "            content=\"Please upload a text file to begin!\",\n",
    "            accept=[\"text/plain\"],\n",
    "            max_size_mb=20,\n",
    "            timeout=180,\n",
    "        ).send()\n",
    "\n",
    "    file = files[0]\n",
    "    \n",
    "    msg = cl.Message(content=f\"Processing `{file.name}`...\", disable_feedback=True)\n",
    "    await msg.send()\n",
    "    \n",
    "    with open(file.path, \"r\", encoding=\"utf-8\") as f:\n",
    "        text = f.read()\n",
    "\n",
    "    # Split the text into chunks\n",
    "    texts = text_splitter.split_text(text)\n",
    "\n",
    "    \n",
    "    # Create a metadata for each chunk\n",
    "    metadatas = [{\"source\": f\"{i}-pl\"} for i in range(len(texts))]\n",
    "    \n",
    "    # Create a Chroma vector store\n",
    "    embeddings = OpenAIEmbeddings()\n",
    "    docsearch = await cl.make_async(Chroma.from_texts)(\n",
    "        texts, embeddings, metadatas=metadatas\n",
    "    )\n",
    "    \n",
    "    message_history=ChatMessageHistory()\n",
    "    \n",
    "    memory=ConversationBufferMemory(\n",
    "        memory_key=\"chat_history\",\n",
    "        output_key=\"answer\",\n",
    "        chat_memory=message_history,\n",
    "        return_messages=True,\n",
    "        \n",
    "    )\n",
    "    \n",
    "    chain=ConversationalRetrievalChain.from_llm(\n",
    "        ChatOpenAI(model_name=\"gpt-3.5-turbo\", temperature=0, streaming=True),\n",
    "        chain_type=\"stuff\",\n",
    "        retriever=docsearch.as_retriever(),\n",
    "        memory=memory,\n",
    "        return_source_documents=True,\n",
    "        \n",
    "    )\n",
    "    \n",
    "    # Let the user know that the system is ready\n",
    "    msg.content = f\"Processing `{file.name}` done. You can now ask questions!\"\n",
    "    await msg.update()\n",
    "\n",
    "    cl.user_session.set(\"chain\", chain)\n",
    "    \n",
    "    \n",
    "@cl.on_message\n",
    "async def main(message: cl.Message):\n",
    "    chain = cl.user_session.get(\"chain\")\n",
    "    cb = cl.AsyncLangchainCallbackHandler()\n",
    "    \n",
    "    res = await chain.acall(message.content, callbacks=[cb])\n",
    "    answer = res[\"answer\"]\n",
    "    source_documents = res[\"source_documents\"] \n",
    "    \n",
    "    \n",
    "    text_elements = []  # type: List[cl.Text]\n",
    "\n",
    "    if source_documents:\n",
    "        for source_idx, source_doc in enumerate(source_documents):\n",
    "            source_name = f\"source_{source_idx}\"\n",
    "            # Create the text element referenced in the message\n",
    "            text_elements.append(\n",
    "                cl.Text(content=source_doc.page_content, name=source_name)\n",
    "            )\n",
    "        source_names = [text_el.name for text_el in text_elements]\n",
    "\n",
    "        if source_names:\n",
    "            answer += f\"\\nSources: {', '.join(source_names)}\"\n",
    "        else:\n",
    "            answer += \"\\nNo sources found\"\n",
    "\n",
    "    await cl.Message(content=answer, elements=text_elements).send()"
   ]
  },
  {
   "cell_type": "code",
   "execution_count": 11,
   "metadata": {},
   "outputs": [
    {
     "name": "stdout",
     "output_type": "stream",
     "text": [
      "Overwriting app.py\n"
     ]
    }
   ],
   "source": [
    "%%writefile app.py\n",
    "import os \n",
    "from langchain.embeddings.openai import OpenAIEmbeddings\n",
    "from langchain.text_splitter import RecursiveCharacterTextSplitter\n",
    "from langchain.vectorstores import Chroma\n",
    "from langchain.chains import ( ConversationalRetrievalChain)\n",
    "from langchain.chat_models import ChatOpenAI\n",
    "from langchain.docstore.document import Document \n",
    "from langchain.memory import ChatMessageHistory, ConversationBufferWindowMemory\n",
    "import chainlit as cl \n",
    "from dotenv import load_dotenv\n",
    "load_dotenv()\n",
    "OPENAI_API_KEY=os.getenv(\"OPENAI_API_KEY\")\n",
    "text_splitter=RecursiveCharacterTextSplitter(chunk_size=1000, chunk_overlap=100)\n",
    "\n",
    "@cl.on_chat_start \n",
    "async def on_chat_start():\n",
    "    files=None \n",
    "    while files==None:\n",
    "        files=await cl.AskFileMessage(\n",
    "            content=\"Please upload a text to begin\",\n",
    "            accept=[\"text/plain\"],\n",
    "            max_size_mb=20,\n",
    "            timeout=180\n",
    "        ).send()\n",
    "    file=files[0]\n",
    "    msg=cl.Message(content=f\"Processing {file.name}..\")\n",
    "    await msg.send()\n",
    "    with open(file.path,\"r\", encoding='utf-8') as f:\n",
    "        text=f.read()\n",
    "    texts=text_splitter.split_text(text)\n",
    "    #metadatas=[{\"source\"}]\n",
    "    embeddings=OpenAIEmbeddings()\n",
    "    docsearch=await cl.make_async(Chroma.from_texts)(\n",
    "        texts, embeddings\n",
    "    )\n",
    "\n",
    "    message_history=ChatMessageHistory()\n",
    "    ConversationBufferMemory(\n",
    "        memory_key=\"chat_history\" ,\n",
    "        output_key='answer',\n",
    "        chat_memory=message_history,\n",
    "        return_messages=True\n",
    "    )\n",
    "    chain=ConversationalRetrievalChain.from_llm(\n",
    "        llm=ChatOpenAI(model_name='gpt-3.5-turbo',streaming=True),\n",
    "        chain_type='stuff',\n",
    "        retriever=docsearch.as_retriever(),\n",
    "        memory=memory,\n",
    "        return_source_documents=True\n",
    "    )\n",
    "    msg.content=f\"processing {file.name} done. You can ask questions\"\n",
    "    await msg.update()\n",
    "    cl.user_session.set(\"chain\", chain)\n",
    "\n",
    "@cl.on_message\n",
    "async def main(message:cl.Message):\n",
    "    chain=cl.user_session.get(\"chain\")\n",
    "    cb=cl.AsyncLangchainCallbackHandler()\n",
    "    res=await chain.acall(message.content, callbacks=[cb])\n",
    "    answer=res['answer']\n",
    "    source_documents=res['source_documents']\n",
    "    text_elements=[]\n",
    "\n",
    "    if source_documents:\n",
    "        for source_idx, source_doc in enumerate(source_documents):\n",
    "            source_name=f\"source_{source_idx}\"\n",
    "            text_elements.append(\n",
    "            cl.Text(content=source_doc.page_content, name=source_name)\n",
    "    \n",
    "        )\n",
    "        source_names=[text_el.name for text_el in source_documents]\n",
    "        if source_names:\n",
    "            answer+=f\"\\nSources: {', '.join(source_names)}\"\n",
    "        else:\n",
    "            answer+=f\"\\nNo sources found\"\n",
    "    await cl.Message(content=answer, elements=text_elements).send()\n",
    "\n"
   ]
  },
  {
   "cell_type": "code",
   "execution_count": null,
   "metadata": {},
   "outputs": [],
   "source": []
  }
 ],
 "metadata": {
  "kernelspec": {
   "display_name": "transformers",
   "language": "python",
   "name": "python3"
  },
  "language_info": {
   "codemirror_mode": {
    "name": "ipython",
    "version": 3
   },
   "file_extension": ".py",
   "mimetype": "text/x-python",
   "name": "python",
   "nbconvert_exporter": "python",
   "pygments_lexer": "ipython3",
   "version": "3.9.18"
  }
 },
 "nbformat": 4,
 "nbformat_minor": 2
}
