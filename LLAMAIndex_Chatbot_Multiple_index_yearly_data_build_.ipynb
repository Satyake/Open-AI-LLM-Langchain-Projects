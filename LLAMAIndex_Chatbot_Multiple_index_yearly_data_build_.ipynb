{
  "nbformat": 4,
  "nbformat_minor": 0,
  "metadata": {
    "colab": {
      "provenance": [],
      "authorship_tag": "ABX9TyMXBwBc8qd8U1YpmF+RHJeG",
      "include_colab_link": true
    },
    "kernelspec": {
      "name": "python3",
      "display_name": "Python 3"
    },
    "language_info": {
      "name": "python"
    }
  },
  "cells": [
    {
      "cell_type": "markdown",
      "metadata": {
        "id": "view-in-github",
        "colab_type": "text"
      },
      "source": [
        "<a href=\"https://colab.research.google.com/github/Satyake/Open-AI-LLM-Langchain-Projects/blob/main/LLAMAIndex_Chatbot_Multiple_index_yearly_data_build_.ipynb\" target=\"_parent\"><img src=\"https://colab.research.google.com/assets/colab-badge.svg\" alt=\"Open In Colab\"/></a>"
      ]
    },
    {
      "cell_type": "code",
      "execution_count": 93,
      "metadata": {
        "id": "w60gs9QZa4Me"
      },
      "outputs": [],
      "source": [
        "!pip -q install llama-index llama-index-readers-file openai llama-index-embeddings-openai unstructured"
      ]
    },
    {
      "cell_type": "code",
      "source": [
        "from google.colab import userdata\n",
        "api_key=userdata.get('openai')"
      ],
      "metadata": {
        "id": "8ItfiDtQcVPh"
      },
      "execution_count": 94,
      "outputs": []
    },
    {
      "cell_type": "code",
      "source": [
        "import os\n",
        "os.environ['OPENAI_API_KEY']=api_key"
      ],
      "metadata": {
        "id": "93CGuAiYjVHU"
      },
      "execution_count": 95,
      "outputs": []
    },
    {
      "cell_type": "code",
      "source": [
        "!mkdir data"
      ],
      "metadata": {
        "colab": {
          "base_uri": "https://localhost:8080/"
        },
        "id": "ATIIgC4VjZXY",
        "outputId": "23726b6f-335c-4410-af0e-b54e52115898"
      },
      "execution_count": 96,
      "outputs": [
        {
          "output_type": "stream",
          "name": "stdout",
          "text": [
            "mkdir: cannot create directory ‘data’: File exists\n"
          ]
        }
      ]
    },
    {
      "cell_type": "code",
      "source": [
        "!wget \"https://www.dropbox.com/s/948jr9cfs7fgj99/UBER.zip?d1=1\""
      ],
      "metadata": {
        "colab": {
          "base_uri": "https://localhost:8080/"
        },
        "id": "BcYHDmsWjgBS",
        "outputId": "1c685be5-dce5-4ad1-ac98-681a0a3dd287"
      },
      "execution_count": 97,
      "outputs": [
        {
          "output_type": "stream",
          "name": "stdout",
          "text": [
            "--2024-04-29 18:35:59--  https://www.dropbox.com/s/948jr9cfs7fgj99/UBER.zip?d1=1\n",
            "Resolving www.dropbox.com (www.dropbox.com)... 162.125.1.18, 2620:100:6016:18::a27d:112\n",
            "Connecting to www.dropbox.com (www.dropbox.com)|162.125.1.18|:443... connected.\n",
            "HTTP request sent, awaiting response... 302 Found\n",
            "Location: /s/raw/948jr9cfs7fgj99/UBER.zip [following]\n",
            "--2024-04-29 18:36:00--  https://www.dropbox.com/s/raw/948jr9cfs7fgj99/UBER.zip\n",
            "Reusing existing connection to www.dropbox.com:443.\n",
            "HTTP request sent, awaiting response... 302 Found\n",
            "Location: https://uc1cdcba13c369086759e91ccc91.dl.dropboxusercontent.com/cd/0/inline/CR9Xm2437m4Wv3paIZM_jd-l-u6zDsQHBzKCO6_vJ-vfyFpDT8DHc-NQQWf7Pg7UpzzXDNnpEA0JiEURO0KuWWoS8GGBhNtFBvYGvhQe_InXqTrmWzajHFDN2AhB1kJnzTw/file# [following]\n",
            "--2024-04-29 18:36:00--  https://uc1cdcba13c369086759e91ccc91.dl.dropboxusercontent.com/cd/0/inline/CR9Xm2437m4Wv3paIZM_jd-l-u6zDsQHBzKCO6_vJ-vfyFpDT8DHc-NQQWf7Pg7UpzzXDNnpEA0JiEURO0KuWWoS8GGBhNtFBvYGvhQe_InXqTrmWzajHFDN2AhB1kJnzTw/file\n",
            "Resolving uc1cdcba13c369086759e91ccc91.dl.dropboxusercontent.com (uc1cdcba13c369086759e91ccc91.dl.dropboxusercontent.com)... 162.125.1.15, 2620:100:6016:15::a27d:10f\n",
            "Connecting to uc1cdcba13c369086759e91ccc91.dl.dropboxusercontent.com (uc1cdcba13c369086759e91ccc91.dl.dropboxusercontent.com)|162.125.1.15|:443... connected.\n",
            "HTTP request sent, awaiting response... 302 Found\n",
            "Location: /cd/0/inline2/CR_gE-cbxEA29DVztwa8w2FUb0xk7vbVw867INWQ3zOtD4o_Ra9d6avumkTpzFposTtw8c50mrhUxz9IDayqh1SCbmrzckErIEj6SfgFuiYfdpwrHy0uYtrUpbITf6Q69pl275-b7ebedz6uy89bN5NkodRNr20fnKY0MXX879b6sx0qAMtbNFu7zp0iDafoYFHRpeOOV7ZA1I-8ot3NYpUArw1FJj4Nk0o6GxhQheI1q5Thiu0OzMgU1SSjPYZkOkiBXwHNpttGXPQl4lzViGXuAEexdb5ezhkDsUIsbgI5A4b7evhnAc3JM0DokN11xmZy2qddc25kmj3Vmwxkx5_jelk_5QPVv1jsnQIYRrOedw/file [following]\n",
            "--2024-04-29 18:36:00--  https://uc1cdcba13c369086759e91ccc91.dl.dropboxusercontent.com/cd/0/inline2/CR_gE-cbxEA29DVztwa8w2FUb0xk7vbVw867INWQ3zOtD4o_Ra9d6avumkTpzFposTtw8c50mrhUxz9IDayqh1SCbmrzckErIEj6SfgFuiYfdpwrHy0uYtrUpbITf6Q69pl275-b7ebedz6uy89bN5NkodRNr20fnKY0MXX879b6sx0qAMtbNFu7zp0iDafoYFHRpeOOV7ZA1I-8ot3NYpUArw1FJj4Nk0o6GxhQheI1q5Thiu0OzMgU1SSjPYZkOkiBXwHNpttGXPQl4lzViGXuAEexdb5ezhkDsUIsbgI5A4b7evhnAc3JM0DokN11xmZy2qddc25kmj3Vmwxkx5_jelk_5QPVv1jsnQIYRrOedw/file\n",
            "Reusing existing connection to uc1cdcba13c369086759e91ccc91.dl.dropboxusercontent.com:443.\n",
            "HTTP request sent, awaiting response... 200 OK\n",
            "Length: 1820227 (1.7M) [application/zip]\n",
            "Saving to: ‘UBER.zip?d1=1’\n",
            "\n",
            "UBER.zip?d1=1       100%[===================>]   1.74M  --.-KB/s    in 0.04s   \n",
            "\n",
            "2024-04-29 18:36:00 (39.6 MB/s) - ‘UBER.zip?d1=1’ saved [1820227/1820227]\n",
            "\n"
          ]
        }
      ]
    },
    {
      "cell_type": "code",
      "source": [
        "#!unzip /content/data/UBER.zip?d1=1"
      ],
      "metadata": {
        "colab": {
          "base_uri": "https://localhost:8080/"
        },
        "id": "Dy-Ypp5wjqv_",
        "outputId": "72a0b7b5-1441-49e4-e905-1ddb18eb43b3"
      },
      "execution_count": 98,
      "outputs": [
        {
          "output_type": "stream",
          "name": "stdout",
          "text": [
            "Archive:  /content/data/UBER.zip?d1=1\n",
            "replace UBER/UBER_2021.html? [y]es, [n]o, [A]ll, [N]one, [r]ename: "
          ]
        }
      ]
    },
    {
      "cell_type": "code",
      "source": [
        "!pip -q  install llama-index-question-gen-openai"
      ],
      "metadata": {
        "id": "8pIyIJkQON2I"
      },
      "execution_count": 121,
      "outputs": []
    },
    {
      "cell_type": "code",
      "source": [
        "from llama_index.readers.file import UnstructuredReader"
      ],
      "metadata": {
        "id": "9hnAOQ-Jj1Dm"
      },
      "execution_count": 122,
      "outputs": []
    },
    {
      "cell_type": "code",
      "source": [
        "from pathlib import Path"
      ],
      "metadata": {
        "id": "Av7i12tuktHm"
      },
      "execution_count": 123,
      "outputs": []
    },
    {
      "cell_type": "code",
      "source": [
        "years=[2019, 2020, 2021, 2022]"
      ],
      "metadata": {
        "id": "XOPlL1N8l6Rj"
      },
      "execution_count": 124,
      "outputs": []
    },
    {
      "cell_type": "code",
      "source": [
        "import nltk\n",
        "nltk.download('averaged_perceptron_tagger')\n",
        "loader=UnstructuredReader()\n"
      ],
      "metadata": {
        "colab": {
          "base_uri": "https://localhost:8080/"
        },
        "id": "z__hy219l_k8",
        "outputId": "00a88a8e-5076-4e1e-e132-806398d26a98"
      },
      "execution_count": 125,
      "outputs": [
        {
          "output_type": "stream",
          "name": "stderr",
          "text": [
            "[nltk_data] Downloading package averaged_perceptron_tagger to\n",
            "[nltk_data]     /root/nltk_data...\n",
            "[nltk_data]   Package averaged_perceptron_tagger is already up-to-\n",
            "[nltk_data]       date!\n"
          ]
        }
      ]
    },
    {
      "cell_type": "code",
      "source": [
        "all_doc=[]\n",
        "doc_set={}\n",
        "for year in years:\n",
        "  year_doc=loader.load_data(file=Path(f\"/content/UBER/UBER_{year}.html\"))\n",
        "  for doc in year_doc:\n",
        "    doc.metadata={\"year\":year}\n",
        "  doc_set[year]=year_doc\n",
        "  all_doc.extend(year_doc)"
      ],
      "metadata": {
        "id": "HyL7Lx_rmFmP"
      },
      "execution_count": 103,
      "outputs": []
    },
    {
      "cell_type": "code",
      "source": [
        "doc_set[2019]"
      ],
      "metadata": {
        "id": "i8yQ-DjXmyWC"
      },
      "execution_count": null,
      "outputs": []
    },
    {
      "cell_type": "code",
      "source": [
        "from llama_index.core import VectorStoreIndex, StorageContext\n",
        "from llama_index.embeddings.openai import OpenAIEmbedding\n",
        "from llama_index.llms.openai import OpenAI"
      ],
      "metadata": {
        "id": "JzNtIjXLsKh2"
      },
      "execution_count": 105,
      "outputs": []
    },
    {
      "cell_type": "code",
      "source": [
        "from llama_index.core import Settings"
      ],
      "metadata": {
        "id": "fu1kalTQsVx5"
      },
      "execution_count": 106,
      "outputs": []
    },
    {
      "cell_type": "code",
      "source": [
        "Settings.chunk_size=512\n",
        "Settings.chunk_overlap=64\n",
        "Settings.model=OpenAI(model='gpt-3.5-turbo')\n",
        "Settings.embedding=OpenAIEmbedding(model='text-embedding-3-small')"
      ],
      "metadata": {
        "id": "_S4bbCmRsdC5"
      },
      "execution_count": 126,
      "outputs": []
    },
    {
      "cell_type": "code",
      "source": [
        "#yearly creating the index\n",
        "#you can create multiple index (multi-files)\n",
        "index_set={}\n",
        "for year in years:\n",
        "  sc=StorageContext.from_defaults()\n",
        "  index=VectorStoreIndex.from_documents(\n",
        "      doc_set[year],\n",
        "      storage_context=sc\n",
        "  )\n",
        "  index_set[year]=index\n",
        "  sc.persist(persist_dir=f'/content/Storage/{year}')"
      ],
      "metadata": {
        "id": "5dUu9ubVszsC"
      },
      "execution_count": 171,
      "outputs": []
    },
    {
      "cell_type": "code",
      "source": [
        "from llama_index.core.tools import QueryEngineTool, ToolMetadata"
      ],
      "metadata": {
        "id": "_7n3moTh09q7"
      },
      "execution_count": 172,
      "outputs": []
    },
    {
      "cell_type": "code",
      "source": [
        "from llama_index.core.query_engine import SubQuestionQueryEngine"
      ],
      "metadata": {
        "id": "O3GPWUCF94R1"
      },
      "execution_count": 173,
      "outputs": []
    },
    {
      "cell_type": "code",
      "source": [
        "individual_query_engine_tools= [\n",
        "    QueryEngineTool(\n",
        "    #every year is a individual query engine\n",
        "    query_engine=index_set[year].as_query_engine(),\n",
        "    metadata=ToolMetadata(\n",
        "        name=f\"vector_index_{year}\",\n",
        "        description=(\n",
        "            \"useful for when you want to answer query about the \"\n",
        "            f\" {year} for uber data\"\n",
        "        )\n",
        "    )\n",
        ")\n",
        "    for year in years\n",
        " ]"
      ],
      "metadata": {
        "id": "XW3OQpB199lI"
      },
      "execution_count": 174,
      "outputs": []
    },
    {
      "cell_type": "code",
      "source": [
        "query_engine=SubQuestionQueryEngine.from_defaults(\n",
        "    query_engine_tools=individual_query_engine_tools,\n",
        ")\n"
      ],
      "metadata": {
        "id": "DxUFy3gR_E3h"
      },
      "execution_count": 175,
      "outputs": []
    },
    {
      "cell_type": "code",
      "source": [
        "# this is for entire data\n",
        "query_engine_tool=QueryEngineTool(\n",
        "    query_engine=query_engine,\n",
        "    metadata=ToolMetadata(\n",
        "        name=\"query_engine\",\n",
        "        description=(\n",
        "           \"useful for when you want to answer query that require analysing\"\n",
        "           \"multiple documents\"\n",
        "        ),\n",
        "    ),\n",
        ")\n"
      ],
      "metadata": {
        "id": "bTh4uMEzA2d_"
      },
      "execution_count": 206,
      "outputs": []
    },
    {
      "cell_type": "code",
      "source": [
        "individual_query_engine_tools"
      ],
      "metadata": {
        "colab": {
          "base_uri": "https://localhost:8080/"
        },
        "id": "15_9v7dVBwsL",
        "outputId": "2d75dae4-822f-4b15-d60c-2bcb38a079d0"
      },
      "execution_count": 207,
      "outputs": [
        {
          "output_type": "execute_result",
          "data": {
            "text/plain": [
              "[<llama_index.core.tools.query_engine.QueryEngineTool at 0x7e7c9993af20>,\n",
              " <llama_index.core.tools.query_engine.QueryEngineTool at 0x7e7c9993bc10>,\n",
              " <llama_index.core.tools.query_engine.QueryEngineTool at 0x7e7c999380a0>,\n",
              " <llama_index.core.tools.query_engine.QueryEngineTool at 0x7e7c9993add0>]"
            ]
          },
          "metadata": {},
          "execution_count": 207
        }
      ]
    },
    {
      "cell_type": "code",
      "source": [
        "tools=individual_query_engine_tools + [query_engine_tool]"
      ],
      "metadata": {
        "id": "xnJiR39JBy7r"
      },
      "execution_count": 208,
      "outputs": []
    },
    {
      "cell_type": "code",
      "source": [
        "from llama_index.agent.openai import OpenAIAgent\n",
        "agent=OpenAIAgent.from_tools(tools,verbose=True)\n"
      ],
      "metadata": {
        "id": "XIKSqS1SAMQ3"
      },
      "execution_count": 209,
      "outputs": []
    },
    {
      "cell_type": "code",
      "source": [
        "response=agent.chat('Hi')\n",
        "print(str(response))"
      ],
      "metadata": {
        "colab": {
          "base_uri": "https://localhost:8080/"
        },
        "id": "BefDOPzeAoPl",
        "outputId": "072ff103-a1db-4ce3-b2aa-4e4934f38fca"
      },
      "execution_count": 210,
      "outputs": [
        {
          "output_type": "stream",
          "name": "stdout",
          "text": [
            "Added user message to memory: Hi\n",
            "Hello! How can I assist you today?\n"
          ]
        }
      ]
    },
    {
      "cell_type": "markdown",
      "source": [],
      "metadata": {
        "id": "DKdnVE9_Il_5"
      }
    },
    {
      "cell_type": "code",
      "source": [
        "response=agent.chat('What were some risk factors in 2020 with Uber?')\n",
        "print(str(response))"
      ],
      "metadata": {
        "colab": {
          "base_uri": "https://localhost:8080/"
        },
        "id": "Kyb48gFFG1hY",
        "outputId": "752779c9-a5d3-4554-8764-784f9c0e6565"
      },
      "execution_count": 213,
      "outputs": [
        {
          "output_type": "stream",
          "name": "stdout",
          "text": [
            "Added user message to memory: What were some risk factors in 2020 with Uber?\n",
            "=== Calling Function ===\n",
            "Calling function: vector_index_2020 with args: {\"input\": \"Uber risk factors\"}\n",
            "Got output: Uber faces various risk factors including potential liability claims related to the acts of drivers or platform users, challenges with insurance coverage compliance, regulatory scrutiny on pricing models, incidents of criminal activity involving drivers or users, and the need to invest in new offerings and technologies which may not yield expected benefits. These risks could lead to financial costs, negative publicity, regulatory actions, and impact on business operations and results.\n",
            "========================\n",
            "\n",
            "=== Calling Function ===\n",
            "Calling function: vector_index_2021 with args: {\"input\": \"Uber risk factors\"}\n",
            "Got output: Uber faces various risk factors that could potentially impact its business, financial condition, operating results, and prospects. These risks include adverse effects from the COVID-19 pandemic and related mitigation actions, potential negative impacts if drivers are classified differently, intense competition in the mobility, delivery, and logistics industries, significant losses incurred since inception, the challenge of attracting and retaining platform users, the importance of maintaining and enhancing brand reputation, operational and cultural challenges stemming from historical workplace culture, risks associated with criminal or dangerous activities by platform users, and uncertainties related to substantial investments in new offerings and technologies.\n",
            "========================\n",
            "\n",
            "In 2020, Uber faced various risk factors that could potentially impact its business, financial condition, operating results, and prospects. These risks included adverse effects from the COVID-19 pandemic and related mitigation actions, potential negative impacts if drivers are classified differently, intense competition in the mobility, delivery, and logistics industries, significant losses incurred since inception, the challenge of attracting and retaining platform users, the importance of maintaining and enhancing brand reputation, operational and cultural challenges stemming from historical workplace culture, risks associated with criminal or dangerous activities by platform users, and uncertainties related to substantial investments in new offerings and technologies. These risks could lead to financial costs, negative publicity, regulatory actions, and impact on business operations and results.\n"
          ]
        }
      ]
    },
    {
      "cell_type": "code",
      "source": [
        "response=agent.chat('What were some good factors in 2020 with Uber?')\n",
        "print(str(response))"
      ],
      "metadata": {
        "colab": {
          "base_uri": "https://localhost:8080/"
        },
        "id": "KatL_RUwHU5U",
        "outputId": "6bc897d2-8a2d-476a-b99d-2c7c05962f23"
      },
      "execution_count": 214,
      "outputs": [
        {
          "output_type": "stream",
          "name": "stdout",
          "text": [
            "Added user message to memory: What were some good factors in 2020 with Uber?\n",
            "=== Calling Function ===\n",
            "Calling function: vector_index_2020 with args: {\"input\":\"Uber positive factors\"}\n",
            "Got output: Uber offers accessible, flexible, and independent work opportunities that have been positively received by a significant percentage of their drivers. They have implemented innovative ways to address issues related to benefits and protections for independent workers, such as partnering with insurance companies to provide protections and benefits. Additionally, Uber has taken steps to improve the earnings potential of drivers by developing technology to help them make informed choices about when and where to drive. Furthermore, Uber has partnered with educational institutions to offer eligible drivers access to degree programs and professional courses, showing a commitment to driver progression. Uber's advocacy for legislative reform to modernize the social safety net and their engagement with drivers and merchants to gather feedback and ideas also contribute to the positive factors associated with the company.\n",
            "========================\n",
            "\n",
            "In 2020, some of the positive factors associated with Uber included:\n",
            "\n",
            "1. Offering accessible, flexible, and independent work opportunities that have been positively received by a significant percentage of their drivers.\n",
            "2. Implementing innovative ways to address issues related to benefits and protections for independent workers, such as partnering with insurance companies to provide protections and benefits.\n",
            "3. Taking steps to improve the earnings potential of drivers by developing technology to help them make informed choices about when and where to drive.\n",
            "4. Partnering with educational institutions to offer eligible drivers access to degree programs and professional courses, showing a commitment to driver progression.\n",
            "5. Advocating for legislative reform to modernize the social safety net and engaging with drivers and merchants to gather feedback and ideas.\n",
            "\n",
            "These factors contribute to the positive aspects of Uber's operations and initiatives in 2020.\n"
          ]
        }
      ]
    },
    {
      "cell_type": "code",
      "source": [
        "#testing memory\n",
        "response=agent.chat('I didnt get those risk factors can you explain me 3 and 4? ')\n",
        "print(str(response))"
      ],
      "metadata": {
        "colab": {
          "base_uri": "https://localhost:8080/"
        },
        "id": "QNmBR_H4SNyg",
        "outputId": "92849f8c-58dc-42ac-8e90-d482faf46a86"
      },
      "execution_count": 215,
      "outputs": [
        {
          "output_type": "stream",
          "name": "stdout",
          "text": [
            "Added user message to memory: I didnt get those risk factors can you explain me 3 and 4? \n",
            "Certainly! Here are explanations for risk factors 3 and 4 associated with Uber in 2020:\n",
            "\n",
            "3. **Intense Competition in the Mobility, Delivery, and Logistics Industries:**\n",
            "   - Uber faced significant competition in the mobility, delivery, and logistics sectors in 2020. Competitors in these industries offered similar services and solutions, leading to pricing pressures and the need for continuous innovation to stay competitive. Intense competition could impact Uber's market share, pricing strategies, and profitability.\n",
            "\n",
            "4. **Significant Losses Incurred Since Inception:**\n",
            "   - Uber has experienced substantial losses since its inception due to various factors such as high operating costs, regulatory challenges, and investments in new technologies and markets. These losses could continue to impact Uber's financial performance, cash flow, and ability to achieve profitability in the future. Investors and stakeholders may be concerned about the sustainability of Uber's business model and its ability to generate sustainable returns.\n",
            "\n",
            "These risk factors highlight the challenges and uncertainties that Uber faced in 2020, which could have implications for its business operations, financial results, and competitive position in the market.\n"
          ]
        }
      ]
    },
    {
      "cell_type": "code",
      "source": [],
      "metadata": {
        "id": "ZMklh5SPSaci"
      },
      "execution_count": null,
      "outputs": []
    }
  ]
}