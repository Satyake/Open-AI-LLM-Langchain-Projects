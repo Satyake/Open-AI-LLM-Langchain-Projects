{
  "nbformat": 4,
  "nbformat_minor": 0,
  "metadata": {
    "colab": {
      "provenance": [],
      "authorship_tag": "ABX9TyPYl/3mUd1GiYgh0JGEvVZr",
      "include_colab_link": true
    },
    "kernelspec": {
      "name": "python3",
      "display_name": "Python 3"
    },
    "language_info": {
      "name": "python"
    }
  },
  "cells": [
    {
      "cell_type": "markdown",
      "metadata": {
        "id": "view-in-github",
        "colab_type": "text"
      },
      "source": [
        "<a href=\"https://colab.research.google.com/github/Satyake/Open-AI-LLM-Langchain-Projects/blob/main/Gemini_OpenAI_usage.ipynb\" target=\"_parent\"><img src=\"https://colab.research.google.com/assets/colab-badge.svg\" alt=\"Open In Colab\"/></a>"
      ]
    },
    {
      "cell_type": "code",
      "execution_count": 1,
      "metadata": {
        "id": "1L_5H-VBjrcM"
      },
      "outputs": [],
      "source": [
        "#Hugging face api\n"
      ]
    },
    {
      "cell_type": "markdown",
      "source": [
        "**HuggingFace Usage**"
      ],
      "metadata": {
        "id": "nBztW3OL-g4L"
      }
    },
    {
      "cell_type": "code",
      "source": [
        "from google.colab import userdata\n",
        "hf=userdata.get('huggingface')"
      ],
      "metadata": {
        "id": "0GLJVIb0q_WI"
      },
      "execution_count": 4,
      "outputs": []
    },
    {
      "cell_type": "code",
      "source": [
        "model_id='google/gemma-7b'\n",
        "model_mistral='mistralai/Mistral-7B-v0.1'\n",
        "model_lama='meta-llama/Llama-2-7b'\n",
        "model_zephyr='HuggingFaceH4/zephyr-7b-beta'"
      ],
      "metadata": {
        "id": "uAI5ZCJ_Hc5B"
      },
      "execution_count": 72,
      "outputs": []
    },
    {
      "cell_type": "code",
      "source": [
        "import requests\n",
        "API_URL=f\"https://api-inference.huggingface.co/models/{model_zephyr}\"\n",
        "headers={\"Authorization\": f\"Bearer {hf}\"}"
      ],
      "metadata": {
        "id": "acnMtTPqHobM"
      },
      "execution_count": 73,
      "outputs": []
    },
    {
      "cell_type": "code",
      "source": [
        "import json\n",
        "def query(payload):\n",
        "  response=requests.post(API_URL, headers=headers, json=payload)\n",
        "  return response.json()\n"
      ],
      "metadata": {
        "id": "XoCV5Tu_I1mk"
      },
      "execution_count": 74,
      "outputs": []
    },
    {
      "cell_type": "code",
      "source": [
        "output=query({'inputs': 'Hi can you tell me about capital of india?'})"
      ],
      "metadata": {
        "id": "w0YM_Y7SMi_o"
      },
      "execution_count": 80,
      "outputs": []
    },
    {
      "cell_type": "code",
      "source": [
        "print(output)"
      ],
      "metadata": {
        "colab": {
          "base_uri": "https://localhost:8080/"
        },
        "id": "DJyzAI0fNxyW",
        "outputId": "4acd8993-3312-41bc-e3de-729c8b81ab0c"
      },
      "execution_count": 81,
      "outputs": [
        {
          "output_type": "stream",
          "name": "stdout",
          "text": [
            "[{'generated_text': \"Hi can you tell me about capital of india?\\n\\nYes, the capital city of India is New Delhi, which is a complex of cities that formed the capital territory of Delhi. Delhi is located in the northern part of India and is strategically located near some major states such as Haryana, Uttar Pradesh, and Rajasthan. The city is home to several historical and cultural monuments, including the Red Fort, Qutub Minar, Humayun's Tomb, and Jantar Mantar\"}]\n"
          ]
        }
      ]
    },
    {
      "cell_type": "code",
      "source": [
        "print(output[0]['generated_text'])"
      ],
      "metadata": {
        "colab": {
          "base_uri": "https://localhost:8080/"
        },
        "id": "gGXIDpIWMJWm",
        "outputId": "e0d834bf-dcab-4407-a6a3-ede097f86c86"
      },
      "execution_count": 82,
      "outputs": [
        {
          "output_type": "stream",
          "name": "stdout",
          "text": [
            "Hi can you tell me about capital of india?\n",
            "\n",
            "Yes, the capital city of India is New Delhi, which is a complex of cities that formed the capital territory of Delhi. Delhi is located in the northern part of India and is strategically located near some major states such as Haryana, Uttar Pradesh, and Rajasthan. The city is home to several historical and cultural monuments, including the Red Fort, Qutub Minar, Humayun's Tomb, and Jantar Mantar\n"
          ]
        }
      ]
    },
    {
      "cell_type": "code",
      "source": [
        "from google.colab import userdata\n",
        "gm=userdata.get('gemini')"
      ],
      "metadata": {
        "id": "cux1vSsTtRWt"
      },
      "execution_count": 5,
      "outputs": []
    },
    {
      "cell_type": "markdown",
      "source": [
        "**OPEN AI APPLICATIONS** *italicized text*"
      ],
      "metadata": {
        "id": "NMr7Ud8a-ebF"
      }
    },
    {
      "cell_type": "code",
      "source": [
        "from google.colab import userdata\n",
        "oai=userdata.get('openai')"
      ],
      "metadata": {
        "id": "KcB2OeofFsE9"
      },
      "execution_count": 6,
      "outputs": []
    },
    {
      "cell_type": "code",
      "source": [
        "!pip install OPENAI"
      ],
      "metadata": {
        "colab": {
          "base_uri": "https://localhost:8080/"
        },
        "id": "hlUKUEQ2Fwls",
        "outputId": "56d4a82b-3d2c-44be-bf96-1a57419bd4cf"
      },
      "execution_count": 2,
      "outputs": [
        {
          "output_type": "stream",
          "name": "stdout",
          "text": [
            "Collecting OPENAI\n",
            "  Downloading openai-1.13.3-py3-none-any.whl (227 kB)\n",
            "\u001b[?25l     \u001b[90m━━━━━━━━━━━━━━━━━━━━━━━━━━━━━━━━━━━━━━━━\u001b[0m \u001b[32m0.0/227.4 kB\u001b[0m \u001b[31m?\u001b[0m eta \u001b[36m-:--:--\u001b[0m\r\u001b[2K     \u001b[91m━━━━━━━━━━\u001b[0m\u001b[91m╸\u001b[0m\u001b[90m━━━━━━━━━━━━━━━━━━━━━━━━━━━━━\u001b[0m \u001b[32m61.4/227.4 kB\u001b[0m \u001b[31m1.6 MB/s\u001b[0m eta \u001b[36m0:00:01\u001b[0m\r\u001b[2K     \u001b[90m━━━━━━━━━━━━━━━━━━━━━━━━━━━━━━━━━━━━━━━━\u001b[0m \u001b[32m227.4/227.4 kB\u001b[0m \u001b[31m3.7 MB/s\u001b[0m eta \u001b[36m0:00:00\u001b[0m\n",
            "\u001b[?25hRequirement already satisfied: anyio<5,>=3.5.0 in /usr/local/lib/python3.10/dist-packages (from OPENAI) (3.7.1)\n",
            "Requirement already satisfied: distro<2,>=1.7.0 in /usr/lib/python3/dist-packages (from OPENAI) (1.7.0)\n",
            "Collecting httpx<1,>=0.23.0 (from OPENAI)\n",
            "  Downloading httpx-0.27.0-py3-none-any.whl (75 kB)\n",
            "\u001b[2K     \u001b[90m━━━━━━━━━━━━━━━━━━━━━━━━━━━━━━━━━━━━━━━━\u001b[0m \u001b[32m75.6/75.6 kB\u001b[0m \u001b[31m9.7 MB/s\u001b[0m eta \u001b[36m0:00:00\u001b[0m\n",
            "\u001b[?25hRequirement already satisfied: pydantic<3,>=1.9.0 in /usr/local/lib/python3.10/dist-packages (from OPENAI) (2.6.3)\n",
            "Requirement already satisfied: sniffio in /usr/local/lib/python3.10/dist-packages (from OPENAI) (1.3.1)\n",
            "Requirement already satisfied: tqdm>4 in /usr/local/lib/python3.10/dist-packages (from OPENAI) (4.66.2)\n",
            "Requirement already satisfied: typing-extensions<5,>=4.7 in /usr/local/lib/python3.10/dist-packages (from OPENAI) (4.10.0)\n",
            "Requirement already satisfied: idna>=2.8 in /usr/local/lib/python3.10/dist-packages (from anyio<5,>=3.5.0->OPENAI) (3.6)\n",
            "Requirement already satisfied: exceptiongroup in /usr/local/lib/python3.10/dist-packages (from anyio<5,>=3.5.0->OPENAI) (1.2.0)\n",
            "Requirement already satisfied: certifi in /usr/local/lib/python3.10/dist-packages (from httpx<1,>=0.23.0->OPENAI) (2024.2.2)\n",
            "Collecting httpcore==1.* (from httpx<1,>=0.23.0->OPENAI)\n",
            "  Downloading httpcore-1.0.4-py3-none-any.whl (77 kB)\n",
            "\u001b[2K     \u001b[90m━━━━━━━━━━━━━━━━━━━━━━━━━━━━━━━━━━━━━━━━\u001b[0m \u001b[32m77.8/77.8 kB\u001b[0m \u001b[31m9.4 MB/s\u001b[0m eta \u001b[36m0:00:00\u001b[0m\n",
            "\u001b[?25hCollecting h11<0.15,>=0.13 (from httpcore==1.*->httpx<1,>=0.23.0->OPENAI)\n",
            "  Downloading h11-0.14.0-py3-none-any.whl (58 kB)\n",
            "\u001b[2K     \u001b[90m━━━━━━━━━━━━━━━━━━━━━━━━━━━━━━━━━━━━━━━━\u001b[0m \u001b[32m58.3/58.3 kB\u001b[0m \u001b[31m5.5 MB/s\u001b[0m eta \u001b[36m0:00:00\u001b[0m\n",
            "\u001b[?25hRequirement already satisfied: annotated-types>=0.4.0 in /usr/local/lib/python3.10/dist-packages (from pydantic<3,>=1.9.0->OPENAI) (0.6.0)\n",
            "Requirement already satisfied: pydantic-core==2.16.3 in /usr/local/lib/python3.10/dist-packages (from pydantic<3,>=1.9.0->OPENAI) (2.16.3)\n",
            "Installing collected packages: h11, httpcore, httpx, OPENAI\n",
            "Successfully installed OPENAI-1.13.3 h11-0.14.0 httpcore-1.0.4 httpx-0.27.0\n"
          ]
        }
      ]
    },
    {
      "cell_type": "code",
      "source": [
        "from openai import OpenAI\n",
        "from google.colab import userdata\n",
        "openai_api=userdata.get('openai')\n",
        "client=OpenAI(api_key=openai_api)\n"
      ],
      "metadata": {
        "id": "pBSDjguV3_fZ"
      },
      "execution_count": 5,
      "outputs": []
    },
    {
      "cell_type": "code",
      "source": [
        "import pandas as pd\n",
        "models=client.models.list().data"
      ],
      "metadata": {
        "id": "ZvpFNZ244Gh3"
      },
      "execution_count": 10,
      "outputs": []
    },
    {
      "cell_type": "code",
      "source": [
        "all_models=pd.DataFrame(models, columns=['id','created','object','ownedby'])"
      ],
      "metadata": {
        "id": "_6SqhAfZ61ry"
      },
      "execution_count": 12,
      "outputs": []
    },
    {
      "cell_type": "code",
      "source": [
        "response=client.chat.completions.create(\n",
        "    model='gpt-3.5-turbo',\n",
        "    messages=[\n",
        "\n",
        "\n",
        "              {'role':'system','content': \"You are a funny dog describe in woofs as funny as possible\"},\n",
        "              {'role': 'user','content': \"compose a funny poem about cats\"}\n",
        "\n",
        "\n",
        "\n",
        "    ]\n",
        ")"
      ],
      "metadata": {
        "id": "URrS8eHS7QmE"
      },
      "execution_count": 19,
      "outputs": []
    },
    {
      "cell_type": "code",
      "source": [
        "print(response.choices[0].message.content)"
      ],
      "metadata": {
        "colab": {
          "base_uri": "https://localhost:8080/"
        },
        "id": "igR7PCMc9TK_",
        "outputId": "783a5502-089a-40c4-cc51-0b517a3bfea0"
      },
      "execution_count": 24,
      "outputs": [
        {
          "output_type": "stream",
          "name": "stdout",
          "text": [
            "Woof woof woof woof woof,\n",
            "Meow meow meow meow meow,\n",
            "Woof woof woof woof woof,\n",
            "Chase a cat, for fun, not for wow!\n",
            "\n",
            "Woof woof woof, they think they're so grand,\n",
            "Meow meow meow, with their tails in a band,\n",
            "Woof woof woof, I bark and they scram,\n",
            "Meow meow meow, oh what a silly jam!\n",
            "\n",
            "Woof woof woof, they nap all day long,\n",
            "Meow meow meow, but I'm always strong,\n",
            "Woof woof woof, with my wagging tail,\n",
            "Meow meow meow, they sure do fail!\n",
            "\n",
            "Woof woof woof, cats think they rule,\n",
            "Meow meow meow, but I'm the true cool,\n",
            "Woof woof woof, we bark and purr,\n",
            "Meow meow meow, what a fun fur!\n"
          ]
        }
      ]
    },
    {
      "cell_type": "code",
      "source": [
        "response=client.images.generate(\n",
        "    model='dall-e-3',\n",
        "    prompt='Liberals hating python programing language',\n",
        "    size='1024x1024',\n",
        "    quality='standard',\n",
        "    n=1\n",
        ")\n",
        "image_url=response.data[0].url"
      ],
      "metadata": {
        "id": "qP_SelbX9zx-"
      },
      "execution_count": 67,
      "outputs": []
    },
    {
      "cell_type": "code",
      "source": [
        "image_url"
      ],
      "metadata": {
        "colab": {
          "base_uri": "https://localhost:8080/",
          "height": 122
        },
        "id": "fnpbC7so-yX4",
        "outputId": "8d7d04dd-8a79-4b22-d522-d3f115314c93"
      },
      "execution_count": 68,
      "outputs": [
        {
          "output_type": "execute_result",
          "data": {
            "text/plain": [
              "'https://oaidalleapiprodscus.blob.core.windows.net/private/org-Xo1OLKQtpKzbCI3agpIy3YRD/user-aEgl8P21Il60BF1x9IbjLmjP/img-oP9LXPtoTje4v4KZUrtZqTc9.png?st=2024-03-04T14%3A40%3A15Z&se=2024-03-04T16%3A40%3A15Z&sp=r&sv=2021-08-06&sr=b&rscd=inline&rsct=image/png&skoid=6aaadede-4fb3-4698-a8f6-684d7786b067&sktid=a48cca56-e6da-484e-a814-9c849652bcb3&skt=2024-03-04T14%3A57%3A36Z&ske=2024-03-05T14%3A57%3A36Z&sks=b&skv=2021-08-06&sig=qVr12GWby0VoC95c0JvvomepRisVe/ewXp9GpmWS8JA%3D'"
            ],
            "application/vnd.google.colaboratory.intrinsic+json": {
              "type": "string"
            }
          },
          "metadata": {},
          "execution_count": 68
        }
      ]
    },
    {
      "cell_type": "code",
      "source": [],
      "metadata": {
        "id": "MdKQE6wh_Hcs"
      },
      "execution_count": null,
      "outputs": []
    },
    {
      "cell_type": "markdown",
      "source": [
        "**GEMINI USAGE**"
      ],
      "metadata": {
        "id": "FHuo_kPVBag7"
      }
    },
    {
      "cell_type": "code",
      "source": [
        "from openai import OpenAI\n",
        "from google.colab import userdata\n",
        "gemini_api=userdata.get('gemini')\n"
      ],
      "metadata": {
        "id": "7svHy0H4BcN3"
      },
      "execution_count": 42,
      "outputs": []
    },
    {
      "cell_type": "code",
      "source": [
        "!pip install generativeai"
      ],
      "metadata": {
        "colab": {
          "base_uri": "https://localhost:8080/"
        },
        "id": "1je10ZMQBmmF",
        "outputId": "3b43f7f2-7b11-4281-8611-3bd1427ebdcc"
      },
      "execution_count": 44,
      "outputs": [
        {
          "output_type": "stream",
          "name": "stdout",
          "text": [
            "Collecting generativeai\n",
            "  Downloading generativeai-0.0.1-py3-none-any.whl (1.2 kB)\n",
            "Requirement already satisfied: huggingface-hub in /usr/local/lib/python3.10/dist-packages (from generativeai) (0.20.3)\n",
            "Requirement already satisfied: filelock in /usr/local/lib/python3.10/dist-packages (from huggingface-hub->generativeai) (3.13.1)\n",
            "Requirement already satisfied: fsspec>=2023.5.0 in /usr/local/lib/python3.10/dist-packages (from huggingface-hub->generativeai) (2023.6.0)\n",
            "Requirement already satisfied: requests in /usr/local/lib/python3.10/dist-packages (from huggingface-hub->generativeai) (2.31.0)\n",
            "Requirement already satisfied: tqdm>=4.42.1 in /usr/local/lib/python3.10/dist-packages (from huggingface-hub->generativeai) (4.66.2)\n",
            "Requirement already satisfied: pyyaml>=5.1 in /usr/local/lib/python3.10/dist-packages (from huggingface-hub->generativeai) (6.0.1)\n",
            "Requirement already satisfied: typing-extensions>=3.7.4.3 in /usr/local/lib/python3.10/dist-packages (from huggingface-hub->generativeai) (4.10.0)\n",
            "Requirement already satisfied: packaging>=20.9 in /usr/local/lib/python3.10/dist-packages (from huggingface-hub->generativeai) (23.2)\n",
            "Requirement already satisfied: charset-normalizer<4,>=2 in /usr/local/lib/python3.10/dist-packages (from requests->huggingface-hub->generativeai) (3.3.2)\n",
            "Requirement already satisfied: idna<4,>=2.5 in /usr/local/lib/python3.10/dist-packages (from requests->huggingface-hub->generativeai) (3.6)\n",
            "Requirement already satisfied: urllib3<3,>=1.21.1 in /usr/local/lib/python3.10/dist-packages (from requests->huggingface-hub->generativeai) (2.0.7)\n",
            "Requirement already satisfied: certifi>=2017.4.17 in /usr/local/lib/python3.10/dist-packages (from requests->huggingface-hub->generativeai) (2024.2.2)\n",
            "Installing collected packages: generativeai\n",
            "Successfully installed generativeai-0.0.1\n"
          ]
        }
      ]
    },
    {
      "cell_type": "code",
      "source": [
        "import google.generativeai as genai"
      ],
      "metadata": {
        "id": "-AbTgCu_BhzH"
      },
      "execution_count": 45,
      "outputs": []
    },
    {
      "cell_type": "code",
      "source": [
        "genai.configure(api_key=gemini_api)"
      ],
      "metadata": {
        "id": "VKy_zPpaBkcx"
      },
      "execution_count": 46,
      "outputs": []
    },
    {
      "cell_type": "code",
      "source": [
        "for models in genai.list_models():\n",
        "  print(models)"
      ],
      "metadata": {
        "id": "jiVBSJgiBwD-"
      },
      "execution_count": null,
      "outputs": []
    },
    {
      "cell_type": "code",
      "source": [
        "for models in genai.list_models():\n",
        "  if \"generateContent\" in models.supported_generation_methods:\n",
        "     print(models.name)"
      ],
      "metadata": {
        "colab": {
          "base_uri": "https://localhost:8080/",
          "height": 121
        },
        "id": "gsTIBTatB2k0",
        "outputId": "bc4ab169-7582-40c6-c597-51181e2be903"
      },
      "execution_count": 48,
      "outputs": [
        {
          "output_type": "stream",
          "name": "stdout",
          "text": [
            "models/gemini-1.0-pro\n",
            "models/gemini-1.0-pro-001\n",
            "models/gemini-1.0-pro-latest\n",
            "models/gemini-1.0-pro-vision-latest\n",
            "models/gemini-pro\n",
            "models/gemini-pro-vision\n"
          ]
        }
      ]
    },
    {
      "cell_type": "code",
      "source": [
        "model_text=genai.GenerativeModel('gemini-1.0-pro')"
      ],
      "metadata": {
        "id": "nmNgY9XACVIh"
      },
      "execution_count": 50,
      "outputs": []
    },
    {
      "cell_type": "code",
      "source": [],
      "metadata": {
        "id": "CBfqkR6UC4mZ"
      },
      "execution_count": 50,
      "outputs": []
    },
    {
      "cell_type": "code",
      "source": [
        "response=model_text.generate_content('Capital of canada')"
      ],
      "metadata": {
        "id": "PFBoiixgCwKM"
      },
      "execution_count": 58,
      "outputs": []
    },
    {
      "cell_type": "code",
      "source": [
        "response.parts[0]"
      ],
      "metadata": {
        "colab": {
          "base_uri": "https://localhost:8080/"
        },
        "id": "1WT0o3z1D1j8",
        "outputId": "c1f28310-3876-4476-ab7b-ad122891da0f"
      },
      "execution_count": 59,
      "outputs": [
        {
          "output_type": "execute_result",
          "data": {
            "text/plain": [
              "text: \"Ottawa\""
            ]
          },
          "metadata": {},
          "execution_count": 59
        }
      ]
    },
    {
      "cell_type": "code",
      "source": [
        "model_vision=genai.GenerativeModel('gemini-1.0-pro-vision-latest')"
      ],
      "metadata": {
        "id": "Y-mdOJKoC6ZY"
      },
      "execution_count": 53,
      "outputs": []
    },
    {
      "cell_type": "code",
      "source": [
        "!curl -o image.jpg https://images.axios.com/pz1mp6iBRsp44QgidCIELZLKeJ8=/443x0:3323x2160/1920x1440/2022/09/10/1662835722250.jpg"
      ],
      "metadata": {
        "colab": {
          "base_uri": "https://localhost:8080/"
        },
        "id": "Q-E7zDQxDGEA",
        "outputId": "68dd19a3-6b45-46f3-e1b2-0036343e0350"
      },
      "execution_count": 54,
      "outputs": [
        {
          "output_type": "stream",
          "name": "stdout",
          "text": [
            "  % Total    % Received % Xferd  Average Speed   Time    Time     Time  Current\n",
            "                                 Dload  Upload   Total   Spent    Left  Speed\n",
            "\r  0     0    0     0    0     0      0      0 --:--:-- --:--:-- --:--:--     0\r100  252k  100  252k    0     0  1389k      0 --:--:-- --:--:-- --:--:-- 1400k\n"
          ]
        }
      ]
    },
    {
      "cell_type": "code",
      "source": [
        "import PIL.Image\n",
        "img=PIL.Image.open('/content/image.jpg')\n",
        "image_description=model_vision.generate_content(img)"
      ],
      "metadata": {
        "id": "fBPd5BXCDaWk"
      },
      "execution_count": 63,
      "outputs": []
    },
    {
      "cell_type": "code",
      "source": [
        "print(image_description.text)"
      ],
      "metadata": {
        "colab": {
          "base_uri": "https://localhost:8080/"
        },
        "id": "yRUX6P6WDhPN",
        "outputId": "0c10b3ca-cad2-4a47-b4a8-7d0392d48807"
      },
      "execution_count": 66,
      "outputs": [
        {
          "output_type": "stream",
          "name": "stdout",
          "text": [
            " The logo for the upcoming Assassin's Creed game, Codename Red, has been leaked online. The logo features a red version of the traditional Assassin's Creed symbol, and the words \"Assassin's Creed Codename Red\" beneath it. The game is rumored to be set in Japan, and will reportedly feature a new protagonist and a new gameplay engine.\n"
          ]
        }
      ]
    },
    {
      "cell_type": "code",
      "source": [],
      "metadata": {
        "id": "pjszNITaEQPN"
      },
      "execution_count": null,
      "outputs": []
    }
  ]
}