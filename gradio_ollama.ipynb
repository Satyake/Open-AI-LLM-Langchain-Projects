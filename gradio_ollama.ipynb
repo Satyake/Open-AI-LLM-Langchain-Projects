{
 "cells": [
  {
   "cell_type": "code",
   "execution_count": 3,
   "metadata": {},
   "outputs": [
    {
     "name": "stdout",
     "output_type": "stream",
     "text": [
      "Overwriting modelfile\n"
     ]
    }
   ],
   "source": [
    "%%writefile modelfile\n",
    "\n",
    "FROM llama2\n",
    "\n",
    "PARAMETER temperature 0.8\n",
    "\n",
    "SYSTEM \"\"\"\n",
    "you are a teaching assistant name AIKING\n",
    "created by Satyake, you are \n",
    "supposed to answer for all \n",
    "the AI GenAI or ML DL related questions \n",
    "only\n",
    "\"\"\""
   ]
  },
  {
   "cell_type": "code",
   "execution_count": null,
   "metadata": {},
   "outputs": [],
   "source": [
    "#to run the ollama model \n",
    "# ollama create AIKING -f modelfile \n",
    "#ollama run AIKING #for running the model"
   ]
  },
  {
   "cell_type": "code",
   "execution_count": 4,
   "metadata": {},
   "outputs": [],
   "source": [
    "from langchain.llms import Ollama\n",
    "ollama=Ollama(base_url=\"http://localhost:11434\", model='llama2')"
   ]
  },
  {
   "cell_type": "code",
   "execution_count": 5,
   "metadata": {},
   "outputs": [
    {
     "data": {
      "text/plain": [
       "'\\n Certainly! Artificial intelligence (AI) is a rapidly growing field with many significant developments and breakthroughs. Here are some of the most notable and influential research contributions in the field of AI:\\n\\n1. Machine Learning (ML): The development of machine learning algorithms, which enable AI systems to learn from data without being explicitly programmed. This has led to advancements in areas such as image and speech recognition, natural language processing, and predictive modeling.\\n2. Neural Networks: The creation of neural networks, which are modeled after the structure and function of the human brain. These networks have been used for tasks such as image recognition, speech recognition, and decision-making.\\n3. Deep Learning: The development of deep learning algorithms, which are a type of neural network that can learn multiple layers of representation from data. This has led to significant advancements in areas such as computer vision, natural language processing, and speech recognition.\\n4. Reinforcement Learning: The development of reinforcement learning algorithms, which enable AI systems to learn through trial and error by interacting with an environment. This has led to advancements in areas such as robotics, game playing, and autonomous driving.\\n5. Natural Language Processing (NLP): The development of NLP algorithms, which enable AI systems to understand and generate human language. This has led to advancements in areas such as chatbots, virtual assistants, and language translation.\\n6. Generative Adversarial Networks (GANs): The development of GANs, which are a type of neural network that can generate new data that is similar to a given dataset. This has led to advancements in areas such as image synthesis, video generation, and text generation.\\n7. Robotics: The development of robotic systems that can perform tasks such as assembly, manufacturing, and warehousing. These systems often involve the integration of sensors, actuators, and control systems to enable autonomous operation.\\n8. Computer Vision: The development of computer vision algorithms, which enable AI systems to interpret and understand visual data from cameras and other sensors. This has led to advancements in areas such as object recognition, facial recognition, and autonomous driving.\\n9. Expert Systems: The development of expert systems, which are AI systems that mimic the decision-making abilities of a human expert in a particular domain. These systems often involve the integration of knowledge representation, inference, and reasoning algorithms.\\n10. Ethical and Social Implications of AI: The study of the ethical and social implications of AI, including issues such as privacy, bias, and job displacement. This research helps to ensure that AI systems are developed in a responsible and ethical manner.\\n\\nThese are just a few examples of the many significant research contributions in the field of AI. As the field continues to evolve, we can expect new breakthroughs and innovations that will further advance the capabilities of AI.'"
      ]
     },
     "execution_count": 5,
     "metadata": {},
     "output_type": "execute_result"
    }
   ],
   "source": [
    "ollama('Hi can you tell me the most significant research in the field of AI?')"
   ]
  },
  {
   "cell_type": "code",
   "execution_count": 20,
   "metadata": {},
   "outputs": [
    {
     "name": "stdout",
     "output_type": "stream",
     "text": [
      "Requirement already satisfied: gradio in c:\\users\\satya\\anaconda3\\envs\\transformers\\lib\\site-packages (4.31.5)\n",
      "Requirement already satisfied: aiofiles<24.0,>=22.0 in c:\\users\\satya\\anaconda3\\envs\\transformers\\lib\\site-packages (from gradio) (23.2.1)\n",
      "Requirement already satisfied: altair<6.0,>=4.2.0 in c:\\users\\satya\\anaconda3\\envs\\transformers\\lib\\site-packages (from gradio) (5.3.0)\n",
      "Requirement already satisfied: fastapi in c:\\users\\satya\\anaconda3\\envs\\transformers\\lib\\site-packages (from gradio) (0.110.1)\n",
      "Requirement already satisfied: ffmpy in c:\\users\\satya\\anaconda3\\envs\\transformers\\lib\\site-packages (from gradio) (0.3.2)\n",
      "Requirement already satisfied: gradio-client==0.16.4 in c:\\users\\satya\\anaconda3\\envs\\transformers\\lib\\site-packages (from gradio) (0.16.4)\n",
      "Requirement already satisfied: httpx>=0.24.1 in c:\\users\\satya\\anaconda3\\envs\\transformers\\lib\\site-packages (from gradio) (0.27.0)\n",
      "Requirement already satisfied: huggingface-hub>=0.19.3 in c:\\users\\satya\\anaconda3\\envs\\transformers\\lib\\site-packages (from gradio) (0.20.3)\n",
      "Requirement already satisfied: importlib-resources<7.0,>=1.3 in c:\\users\\satya\\anaconda3\\envs\\transformers\\lib\\site-packages (from gradio) (6.4.0)\n",
      "Requirement already satisfied: jinja2<4.0 in c:\\users\\satya\\anaconda3\\envs\\transformers\\lib\\site-packages (from gradio) (3.1.3)\n",
      "Requirement already satisfied: markupsafe~=2.0 in c:\\users\\satya\\anaconda3\\envs\\transformers\\lib\\site-packages (from gradio) (2.1.5)\n",
      "Requirement already satisfied: matplotlib~=3.0 in c:\\users\\satya\\anaconda3\\envs\\transformers\\lib\\site-packages (from gradio) (3.9.0)\n",
      "Requirement already satisfied: numpy~=1.0 in c:\\users\\satya\\anaconda3\\envs\\transformers\\lib\\site-packages (from gradio) (1.26.4)\n",
      "Requirement already satisfied: orjson~=3.0 in c:\\users\\satya\\anaconda3\\envs\\transformers\\lib\\site-packages (from gradio) (3.9.15)\n",
      "Requirement already satisfied: packaging in c:\\users\\satya\\anaconda3\\envs\\transformers\\lib\\site-packages (from gradio) (23.2)\n",
      "Requirement already satisfied: pandas<3.0,>=1.0 in c:\\users\\satya\\anaconda3\\envs\\transformers\\lib\\site-packages (from gradio) (2.2.0)\n",
      "Requirement already satisfied: pillow<11.0,>=8.0 in c:\\users\\satya\\anaconda3\\envs\\transformers\\lib\\site-packages (from gradio) (10.2.0)\n",
      "Requirement already satisfied: pydantic>=2.0 in c:\\users\\satya\\anaconda3\\envs\\transformers\\lib\\site-packages (from gradio) (2.6.3)\n",
      "Requirement already satisfied: pydub in c:\\users\\satya\\anaconda3\\envs\\transformers\\lib\\site-packages (from gradio) (0.25.1)\n",
      "Requirement already satisfied: python-multipart>=0.0.9 in c:\\users\\satya\\anaconda3\\envs\\transformers\\lib\\site-packages (from gradio) (0.0.9)\n",
      "Requirement already satisfied: pyyaml<7.0,>=5.0 in c:\\users\\satya\\anaconda3\\envs\\transformers\\lib\\site-packages (from gradio) (6.0.1)\n",
      "Requirement already satisfied: ruff>=0.2.2 in c:\\users\\satya\\anaconda3\\envs\\transformers\\lib\\site-packages (from gradio) (0.4.4)\n",
      "Requirement already satisfied: semantic-version~=2.0 in c:\\users\\satya\\anaconda3\\envs\\transformers\\lib\\site-packages (from gradio) (2.10.0)\n",
      "Requirement already satisfied: tomlkit==0.12.0 in c:\\users\\satya\\anaconda3\\envs\\transformers\\lib\\site-packages (from gradio) (0.12.0)\n",
      "Requirement already satisfied: typer<1.0,>=0.12 in c:\\users\\satya\\anaconda3\\envs\\transformers\\lib\\site-packages (from gradio) (0.12.0)\n",
      "Requirement already satisfied: typing-extensions~=4.0 in c:\\users\\satya\\anaconda3\\envs\\transformers\\lib\\site-packages (from gradio) (4.9.0)\n",
      "Requirement already satisfied: urllib3~=2.0 in c:\\users\\satya\\anaconda3\\envs\\transformers\\lib\\site-packages (from gradio) (2.2.1)\n",
      "Requirement already satisfied: uvicorn>=0.14.0 in c:\\users\\satya\\anaconda3\\envs\\transformers\\lib\\site-packages (from gradio) (0.25.0)\n",
      "Requirement already satisfied: fsspec in c:\\users\\satya\\anaconda3\\envs\\transformers\\lib\\site-packages (from gradio-client==0.16.4->gradio) (2023.10.0)\n",
      "Requirement already satisfied: websockets<12.0,>=10.0 in c:\\users\\satya\\anaconda3\\envs\\transformers\\lib\\site-packages (from gradio-client==0.16.4->gradio) (11.0.3)\n",
      "Requirement already satisfied: jsonschema>=3.0 in c:\\users\\satya\\anaconda3\\envs\\transformers\\lib\\site-packages (from altair<6.0,>=4.2.0->gradio) (4.21.1)\n",
      "Requirement already satisfied: toolz in c:\\users\\satya\\anaconda3\\envs\\transformers\\lib\\site-packages (from altair<6.0,>=4.2.0->gradio) (0.12.1)\n",
      "Requirement already satisfied: anyio in c:\\users\\satya\\anaconda3\\envs\\transformers\\lib\\site-packages (from httpx>=0.24.1->gradio) (3.7.1)\n",
      "Requirement already satisfied: certifi in c:\\users\\satya\\anaconda3\\envs\\transformers\\lib\\site-packages (from httpx>=0.24.1->gradio) (2024.2.2)\n",
      "Requirement already satisfied: httpcore==1.* in c:\\users\\satya\\anaconda3\\envs\\transformers\\lib\\site-packages (from httpx>=0.24.1->gradio) (1.0.4)\n",
      "Requirement already satisfied: idna in c:\\users\\satya\\anaconda3\\envs\\transformers\\lib\\site-packages (from httpx>=0.24.1->gradio) (3.6)\n",
      "Requirement already satisfied: sniffio in c:\\users\\satya\\anaconda3\\envs\\transformers\\lib\\site-packages (from httpx>=0.24.1->gradio) (1.3.1)\n",
      "Requirement already satisfied: h11<0.15,>=0.13 in c:\\users\\satya\\anaconda3\\envs\\transformers\\lib\\site-packages (from httpcore==1.*->httpx>=0.24.1->gradio) (0.14.0)\n",
      "Requirement already satisfied: filelock in c:\\users\\satya\\anaconda3\\envs\\transformers\\lib\\site-packages (from huggingface-hub>=0.19.3->gradio) (3.13.1)\n",
      "Requirement already satisfied: requests in c:\\users\\satya\\anaconda3\\envs\\transformers\\lib\\site-packages (from huggingface-hub>=0.19.3->gradio) (2.31.0)\n",
      "Requirement already satisfied: tqdm>=4.42.1 in c:\\users\\satya\\anaconda3\\envs\\transformers\\lib\\site-packages (from huggingface-hub>=0.19.3->gradio) (4.66.2)\n",
      "Requirement already satisfied: zipp>=3.1.0 in c:\\users\\satya\\anaconda3\\envs\\transformers\\lib\\site-packages (from importlib-resources<7.0,>=1.3->gradio) (3.17.0)\n",
      "Requirement already satisfied: contourpy>=1.0.1 in c:\\users\\satya\\anaconda3\\envs\\transformers\\lib\\site-packages (from matplotlib~=3.0->gradio) (1.2.1)\n",
      "Requirement already satisfied: cycler>=0.10 in c:\\users\\satya\\anaconda3\\envs\\transformers\\lib\\site-packages (from matplotlib~=3.0->gradio) (0.12.1)\n",
      "Requirement already satisfied: fonttools>=4.22.0 in c:\\users\\satya\\anaconda3\\envs\\transformers\\lib\\site-packages (from matplotlib~=3.0->gradio) (4.51.0)\n",
      "Requirement already satisfied: kiwisolver>=1.3.1 in c:\\users\\satya\\anaconda3\\envs\\transformers\\lib\\site-packages (from matplotlib~=3.0->gradio) (1.4.5)\n",
      "Requirement already satisfied: pyparsing>=2.3.1 in c:\\users\\satya\\anaconda3\\envs\\transformers\\lib\\site-packages (from matplotlib~=3.0->gradio) (3.1.2)\n",
      "Requirement already satisfied: python-dateutil>=2.7 in c:\\users\\satya\\anaconda3\\envs\\transformers\\lib\\site-packages (from matplotlib~=3.0->gradio) (2.8.2)\n",
      "Requirement already satisfied: pytz>=2020.1 in c:\\users\\satya\\anaconda3\\envs\\transformers\\lib\\site-packages (from pandas<3.0,>=1.0->gradio) (2024.1)\n",
      "Requirement already satisfied: tzdata>=2022.7 in c:\\users\\satya\\anaconda3\\envs\\transformers\\lib\\site-packages (from pandas<3.0,>=1.0->gradio) (2024.1)\n",
      "Requirement already satisfied: annotated-types>=0.4.0 in c:\\users\\satya\\anaconda3\\envs\\transformers\\lib\\site-packages (from pydantic>=2.0->gradio) (0.6.0)\n",
      "Requirement already satisfied: pydantic-core==2.16.3 in c:\\users\\satya\\anaconda3\\envs\\transformers\\lib\\site-packages (from pydantic>=2.0->gradio) (2.16.3)\n",
      "Requirement already satisfied: typer-slim==0.12.0 in c:\\users\\satya\\anaconda3\\envs\\transformers\\lib\\site-packages (from typer-slim[standard]==0.12.0->typer<1.0,>=0.12->gradio) (0.12.0)\n",
      "Requirement already satisfied: typer-cli==0.12.0 in c:\\users\\satya\\anaconda3\\envs\\transformers\\lib\\site-packages (from typer<1.0,>=0.12->gradio) (0.12.0)\n",
      "Requirement already satisfied: click>=8.0.0 in c:\\users\\satya\\anaconda3\\envs\\transformers\\lib\\site-packages (from typer-slim==0.12.0->typer-slim[standard]==0.12.0->typer<1.0,>=0.12->gradio) (8.1.7)\n",
      "Requirement already satisfied: shellingham>=1.3.0 in c:\\users\\satya\\anaconda3\\envs\\transformers\\lib\\site-packages (from typer-slim[standard]==0.12.0->typer<1.0,>=0.12->gradio) (1.5.4)\n",
      "Requirement already satisfied: rich>=10.11.0 in c:\\users\\satya\\anaconda3\\envs\\transformers\\lib\\site-packages (from typer-slim[standard]==0.12.0->typer<1.0,>=0.12->gradio) (13.7.1)\n",
      "Requirement already satisfied: starlette<0.38.0,>=0.37.2 in c:\\users\\satya\\anaconda3\\envs\\transformers\\lib\\site-packages (from fastapi->gradio) (0.37.2)\n",
      "Requirement already satisfied: colorama in c:\\users\\satya\\anaconda3\\envs\\transformers\\lib\\site-packages (from click>=8.0.0->typer-slim==0.12.0->typer-slim[standard]==0.12.0->typer<1.0,>=0.12->gradio) (0.4.6)\n",
      "Requirement already satisfied: attrs>=22.2.0 in c:\\users\\satya\\anaconda3\\envs\\transformers\\lib\\site-packages (from jsonschema>=3.0->altair<6.0,>=4.2.0->gradio) (23.2.0)\n",
      "Requirement already satisfied: jsonschema-specifications>=2023.03.6 in c:\\users\\satya\\anaconda3\\envs\\transformers\\lib\\site-packages (from jsonschema>=3.0->altair<6.0,>=4.2.0->gradio) (2023.12.1)\n",
      "Requirement already satisfied: referencing>=0.28.4 in c:\\users\\satya\\anaconda3\\envs\\transformers\\lib\\site-packages (from jsonschema>=3.0->altair<6.0,>=4.2.0->gradio) (0.34.0)\n",
      "Requirement already satisfied: rpds-py>=0.7.1 in c:\\users\\satya\\anaconda3\\envs\\transformers\\lib\\site-packages (from jsonschema>=3.0->altair<6.0,>=4.2.0->gradio) (0.18.0)\n",
      "Requirement already satisfied: six>=1.5 in c:\\users\\satya\\anaconda3\\envs\\transformers\\lib\\site-packages (from python-dateutil>=2.7->matplotlib~=3.0->gradio) (1.16.0)\n",
      "Requirement already satisfied: exceptiongroup in c:\\users\\satya\\anaconda3\\envs\\transformers\\lib\\site-packages (from anyio->httpx>=0.24.1->gradio) (1.2.0)\n",
      "Requirement already satisfied: charset-normalizer<4,>=2 in c:\\users\\satya\\anaconda3\\envs\\transformers\\lib\\site-packages (from requests->huggingface-hub>=0.19.3->gradio) (3.3.2)\n",
      "Requirement already satisfied: markdown-it-py>=2.2.0 in c:\\users\\satya\\anaconda3\\envs\\transformers\\lib\\site-packages (from rich>=10.11.0->typer-slim[standard]==0.12.0->typer<1.0,>=0.12->gradio) (3.0.0)\n",
      "Requirement already satisfied: pygments<3.0.0,>=2.13.0 in c:\\users\\satya\\anaconda3\\envs\\transformers\\lib\\site-packages (from rich>=10.11.0->typer-slim[standard]==0.12.0->typer<1.0,>=0.12->gradio) (2.17.2)\n",
      "Requirement already satisfied: mdurl~=0.1 in c:\\users\\satya\\anaconda3\\envs\\transformers\\lib\\site-packages (from markdown-it-py>=2.2.0->rich>=10.11.0->typer-slim[standard]==0.12.0->typer<1.0,>=0.12->gradio) (0.1.2)\n"
     ]
    }
   ],
   "source": [
    "!pip install gradio"
   ]
  },
  {
   "cell_type": "code",
   "execution_count": 22,
   "metadata": {},
   "outputs": [
    {
     "name": "stdout",
     "output_type": "stream",
     "text": [
      "Overwriting test.py\n"
     ]
    }
   ],
   "source": [
    "%%writefile test.py \n",
    "import requests\n",
    "import json\n",
    "import gradio as gr\n",
    "full_response=[]\n",
    "\n",
    "url=\"http://localhost:11434/api/generate\"\n",
    "\n",
    "headers={\n",
    "    \"Content-Type\":\"application/json\"\n",
    "}\n",
    "\n",
    "history=[]\n",
    "def generate_response(prompt):\n",
    "    history.append(prompt)\n",
    "    final_prompt=\"\\n\".join(history)\n",
    "    data={\n",
    "        \"model\":\"llama2\",\n",
    "        \"prompt\": final_prompt,\n",
    "        \"stream\": False\n",
    "    }\n",
    "    response=requests.post(url, headers=headers, data=json.dumps(data))\n",
    "    if response.status_code==200:\n",
    "        response=response.text\n",
    "        data=json.loads(response)\n",
    "        actual_response=data['response']\n",
    "        return actual_response\n",
    "    else:\n",
    "        print(\"Error:\",response.text)\n",
    "\n",
    "interface=gr.Interface(\n",
    "    fn=generate_response,\n",
    "    inputs=gr.Textbox(lines=2, placeholder=\"Enter your prompt\"),\n",
    "    outputs=\"text\"\n",
    ")\n",
    "interface.launch()"
   ]
  },
  {
   "cell_type": "code",
   "execution_count": null,
   "metadata": {},
   "outputs": [],
   "source": [
    "#docker run -d -v ollama:/root/.ollama -p 11434:11434 --name ollama ollama/ollama"
   ]
  }
 ],
 "metadata": {
  "kernelspec": {
   "display_name": "transformers",
   "language": "python",
   "name": "python3"
  },
  "language_info": {
   "codemirror_mode": {
    "name": "ipython",
    "version": 3
   },
   "file_extension": ".py",
   "mimetype": "text/x-python",
   "name": "python",
   "nbconvert_exporter": "python",
   "pygments_lexer": "ipython3",
   "version": "3.9.18"
  }
 },
 "nbformat": 4,
 "nbformat_minor": 2
}
