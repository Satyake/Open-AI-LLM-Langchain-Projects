{
  "nbformat": 4,
  "nbformat_minor": 0,
  "metadata": {
    "colab": {
      "provenance": [],
      "name": "VertexAI_GCP.ipynb"
    },
    "kernelspec": {
      "name": "python3",
      "display_name": "Python 3"
    },
    "language_info": {
      "name": "python"
    }
  },
  "cells": [
    {
      "cell_type": "code",
      "execution_count": 1,
      "metadata": {
        "colab": {
          "base_uri": "https://localhost:8080/"
        },
        "id": "6QLvOCQvXFMB",
        "outputId": "272746fd-a382-4d12-9783-a7a62b136efc",
        "executionInfo": {
          "status": "ok",
          "timestamp": 1718669546033,
          "user_tz": 240,
          "elapsed": 26586,
          "user": {
            "displayName": "",
            "userId": ""
          }
        }
      },
      "outputs": [
        {
          "output_type": "stream",
          "name": "stdout",
          "text": [
            "\u001b[2K     \u001b[90m━━━━━━━━━━━━━━━━━━━━━━━━━━━━━━━━━━━━━━━━\u001b[0m \u001b[32m5.1/5.1 MB\u001b[0m \u001b[31m1.5 MB/s\u001b[0m eta \u001b[36m0:00:00\u001b[0m\n",
            "\u001b[?25h\u001b[33m  WARNING: The script tb-gcp-uploader is installed in '/root/.local/bin' which is not on PATH.\n",
            "  Consider adding this directory to PATH or, if you prefer to suppress this warning, use --no-warn-script-location.\u001b[0m\u001b[33m\n",
            "\u001b[0m"
          ]
        }
      ],
      "source": [
        "!pip install -q --upgrade --user google-cloud-aiplatform"
      ]
    },
    {
      "cell_type": "code",
      "source": [
        "!pip -q  install ragstack-ai"
      ],
      "metadata": {
        "colab": {
          "base_uri": "https://localhost:8080/"
        },
        "id": "j53BRdz2dzm_",
        "outputId": "43b44ce1-132c-4d68-bbd2-3d9062a08d33",
        "executionInfo": {
          "status": "ok",
          "timestamp": 1718670090527,
          "user_tz": 240,
          "elapsed": 544503,
          "user": {
            "displayName": "",
            "userId": ""
          }
        }
      },
      "execution_count": 2,
      "outputs": [
        {
          "output_type": "stream",
          "name": "stdout",
          "text": [
            "\u001b[2K     \u001b[90m━━━━━━━━━━━━━━━━━━━━━━━━━━━━━━━━━━━━━━━━\u001b[0m \u001b[32m45.1/45.1 kB\u001b[0m \u001b[31m988.5 kB/s\u001b[0m eta \u001b[36m0:00:00\u001b[0m\n",
            "\u001b[2K     \u001b[90m━━━━━━━━━━━━━━━━━━━━━━━━━━━━━━━━━━━━━━━━\u001b[0m \u001b[32m86.7/86.7 kB\u001b[0m \u001b[31m1.1 MB/s\u001b[0m eta \u001b[36m0:00:00\u001b[0m\n",
            "\u001b[?25h  Preparing metadata (setup.py) ... \u001b[?25l\u001b[?25hdone\n",
            "\u001b[2K     \u001b[90m━━━━━━━━━━━━━━━━━━━━━━━━━━━━━━━━━━━━━━━━\u001b[0m \u001b[32m38.0/38.0 MB\u001b[0m \u001b[31m3.8 MB/s\u001b[0m eta \u001b[36m0:00:00\u001b[0m\n",
            "\u001b[2K     \u001b[90m━━━━━━━━━━━━━━━━━━━━━━━━━━━━━━━━━━━━━━━━\u001b[0m \u001b[32m409.0/409.0 kB\u001b[0m \u001b[31m4.6 MB/s\u001b[0m eta \u001b[36m0:00:00\u001b[0m\n",
            "\u001b[2K     \u001b[90m━━━━━━━━━━━━━━━━━━━━━━━━━━━━━━━━━━━━━━━━\u001b[0m \u001b[32m755.5/755.5 MB\u001b[0m \u001b[31m1.0 MB/s\u001b[0m eta \u001b[36m0:00:00\u001b[0m\n",
            "\u001b[2K     \u001b[90m━━━━━━━━━━━━━━━━━━━━━━━━━━━━━━━━━━━━━━━━\u001b[0m \u001b[32m139.8/139.8 kB\u001b[0m \u001b[31m12.4 MB/s\u001b[0m eta \u001b[36m0:00:00\u001b[0m\n",
            "\u001b[2K     \u001b[90m━━━━━━━━━━━━━━━━━━━━━━━━━━━━━━━━━━━━━━━━\u001b[0m \u001b[32m974.0/974.0 kB\u001b[0m \u001b[31m10.9 MB/s\u001b[0m eta \u001b[36m0:00:00\u001b[0m\n",
            "\u001b[2K     \u001b[90m━━━━━━━━━━━━━━━━━━━━━━━━━━━━━━━━━━━━━━━━\u001b[0m \u001b[32m2.2/2.2 MB\u001b[0m \u001b[31m12.0 MB/s\u001b[0m eta \u001b[36m0:00:00\u001b[0m\n",
            "\u001b[2K     \u001b[90m━━━━━━━━━━━━━━━━━━━━━━━━━━━━━━━━━━━━━━━━\u001b[0m \u001b[32m314.7/314.7 kB\u001b[0m \u001b[31m13.8 MB/s\u001b[0m eta \u001b[36m0:00:00\u001b[0m\n",
            "\u001b[2K     \u001b[90m━━━━━━━━━━━━━━━━━━━━━━━━━━━━━━━━━━━━━━━━\u001b[0m \u001b[32m2.0/2.0 MB\u001b[0m \u001b[31m12.1 MB/s\u001b[0m eta \u001b[36m0:00:00\u001b[0m\n",
            "\u001b[2K     \u001b[90m━━━━━━━━━━━━━━━━━━━━━━━━━━━━━━━━━━━━━━━━\u001b[0m \u001b[32m63.8/63.8 kB\u001b[0m \u001b[31m8.8 MB/s\u001b[0m eta \u001b[36m0:00:00\u001b[0m\n",
            "\u001b[2K     \u001b[90m━━━━━━━━━━━━━━━━━━━━━━━━━━━━━━━━━━━━━━━━\u001b[0m \u001b[32m15.4/15.4 MB\u001b[0m \u001b[31m4.6 MB/s\u001b[0m eta \u001b[36m0:00:00\u001b[0m\n",
            "\u001b[2K     \u001b[90m━━━━━━━━━━━━━━━━━━━━━━━━━━━━━━━━━━━━━━━━\u001b[0m \u001b[32m288.3/288.3 kB\u001b[0m \u001b[31m3.1 MB/s\u001b[0m eta \u001b[36m0:00:00\u001b[0m\n",
            "\u001b[2K     \u001b[90m━━━━━━━━━━━━━━━━━━━━━━━━━━━━━━━━━━━━━━━━\u001b[0m \u001b[32m547.8/547.8 kB\u001b[0m \u001b[31m2.7 MB/s\u001b[0m eta \u001b[36m0:00:00\u001b[0m\n",
            "\u001b[2K     \u001b[90m━━━━━━━━━━━━━━━━━━━━━━━━━━━━━━━━━━━━━━━━\u001b[0m \u001b[32m307.2/307.2 kB\u001b[0m \u001b[31m2.3 MB/s\u001b[0m eta \u001b[36m0:00:00\u001b[0m\n",
            "\u001b[2K     \u001b[90m━━━━━━━━━━━━━━━━━━━━━━━━━━━━━━━━━━━━━━━━\u001b[0m \u001b[32m53.6/53.6 kB\u001b[0m \u001b[31m2.4 MB/s\u001b[0m eta \u001b[36m0:00:00\u001b[0m\n",
            "\u001b[2K     \u001b[90m━━━━━━━━━━━━━━━━━━━━━━━━━━━━━━━━━━━━━━━━\u001b[0m \u001b[32m125.2/125.2 kB\u001b[0m \u001b[31m2.4 MB/s\u001b[0m eta \u001b[36m0:00:00\u001b[0m\n",
            "\u001b[2K     \u001b[90m━━━━━━━━━━━━━━━━━━━━━━━━━━━━━━━━━━━━━━━━\u001b[0m \u001b[32m53.0/53.0 kB\u001b[0m \u001b[31m2.4 MB/s\u001b[0m eta \u001b[36m0:00:00\u001b[0m\n",
            "\u001b[2K     \u001b[90m━━━━━━━━━━━━━━━━━━━━━━━━━━━━━━━━━━━━━━━━\u001b[0m \u001b[32m126.5/126.5 kB\u001b[0m \u001b[31m674.8 kB/s\u001b[0m eta \u001b[36m0:00:00\u001b[0m\n",
            "\u001b[2K     \u001b[90m━━━━━━━━━━━━━━━━━━━━━━━━━━━━━━━━━━━━━━━━\u001b[0m \u001b[32m4.5/4.5 MB\u001b[0m \u001b[31m2.3 MB/s\u001b[0m eta \u001b[36m0:00:00\u001b[0m\n",
            "\u001b[2K     \u001b[90m━━━━━━━━━━━━━━━━━━━━━━━━━━━━━━━━━━━━━━━━\u001b[0m \u001b[32m325.5/325.5 kB\u001b[0m \u001b[31m2.9 MB/s\u001b[0m eta \u001b[36m0:00:00\u001b[0m\n",
            "\u001b[2K     \u001b[90m━━━━━━━━━━━━━━━━━━━━━━━━━━━━━━━━━━━━━━━━\u001b[0m \u001b[32m1.1/1.1 MB\u001b[0m \u001b[31m3.1 MB/s\u001b[0m eta \u001b[36m0:00:00\u001b[0m\n",
            "\u001b[2K     \u001b[90m━━━━━━━━━━━━━━━━━━━━━━━━━━━━━━━━━━━━━━━━\u001b[0m \u001b[32m2.0/2.0 MB\u001b[0m \u001b[31m3.2 MB/s\u001b[0m eta \u001b[36m0:00:00\u001b[0m\n",
            "\u001b[2K     \u001b[90m━━━━━━━━━━━━━━━━━━━━━━━━━━━━━━━━━━━━━━━━\u001b[0m \u001b[32m75.6/75.6 kB\u001b[0m \u001b[31m2.7 MB/s\u001b[0m eta \u001b[36m0:00:00\u001b[0m\n",
            "\u001b[2K     \u001b[90m━━━━━━━━━━━━━━━━━━━━━━━━━━━━━━━━━━━━━━━━\u001b[0m \u001b[32m141.9/141.9 kB\u001b[0m \u001b[31m2.4 MB/s\u001b[0m eta \u001b[36m0:00:00\u001b[0m\n",
            "\u001b[2K     \u001b[90m━━━━━━━━━━━━━━━━━━━━━━━━━━━━━━━━━━━━━━━━\u001b[0m \u001b[32m139.2/139.2 kB\u001b[0m \u001b[31m2.6 MB/s\u001b[0m eta \u001b[36m0:00:00\u001b[0m\n",
            "\u001b[2K     \u001b[90m━━━━━━━━━━━━━━━━━━━━━━━━━━━━━━━━━━━━━━━━\u001b[0m \u001b[32m166.7/166.7 kB\u001b[0m \u001b[31m2.6 MB/s\u001b[0m eta \u001b[36m0:00:00\u001b[0m\n",
            "\u001b[2K     \u001b[90m━━━━━━━━━━━━━━━━━━━━━━━━━━━━━━━━━━━━━━━━\u001b[0m \u001b[32m166.0/166.0 MB\u001b[0m \u001b[31m3.8 MB/s\u001b[0m eta \u001b[36m0:00:00\u001b[0m\n",
            "\u001b[2K     \u001b[90m━━━━━━━━━━━━━━━━━━━━━━━━━━━━━━━━━━━━━━━━\u001b[0m \u001b[32m167.9/167.9 MB\u001b[0m \u001b[31m3.4 MB/s\u001b[0m eta \u001b[36m0:00:00\u001b[0m\n",
            "\u001b[2K     \u001b[90m━━━━━━━━━━━━━━━━━━━━━━━━━━━━━━━━━━━━━━━━\u001b[0m \u001b[32m431.4/431.4 kB\u001b[0m \u001b[31m7.9 MB/s\u001b[0m eta \u001b[36m0:00:00\u001b[0m\n",
            "\u001b[2K     \u001b[90m━━━━━━━━━━━━━━━━━━━━━━━━━━━━━━━━━━━━━━━━\u001b[0m \u001b[32m274.7/274.7 kB\u001b[0m \u001b[31m6.3 MB/s\u001b[0m eta \u001b[36m0:00:00\u001b[0m\n",
            "\u001b[2K     \u001b[90m━━━━━━━━━━━━━━━━━━━━━━━━━━━━━━━━━━━━━━━━\u001b[0m \u001b[32m981.5/981.5 kB\u001b[0m \u001b[31m7.5 MB/s\u001b[0m eta \u001b[36m0:00:00\u001b[0m\n",
            "\u001b[?25h  Preparing metadata (setup.py) ... \u001b[?25l\u001b[?25hdone\n",
            "\u001b[2K     \u001b[90m━━━━━━━━━━━━━━━━━━━━━━━━━━━━━━━━━━━━━━━━\u001b[0m \u001b[32m3.4/3.4 MB\u001b[0m \u001b[31m7.6 MB/s\u001b[0m eta \u001b[36m0:00:00\u001b[0m\n",
            "\u001b[2K     \u001b[90m━━━━━━━━━━━━━━━━━━━━━━━━━━━━━━━━━━━━━━━━\u001b[0m \u001b[32m41.0/41.0 kB\u001b[0m \u001b[31m5.7 MB/s\u001b[0m eta \u001b[36m0:00:00\u001b[0m\n",
            "\u001b[2K     \u001b[90m━━━━━━━━━━━━━━━━━━━━━━━━━━━━━━━━━━━━━━━━\u001b[0m \u001b[32m21.3/21.3 MB\u001b[0m \u001b[31m6.7 MB/s\u001b[0m eta \u001b[36m0:00:00\u001b[0m\n",
            "\u001b[?25h  Preparing metadata (setup.py) ... \u001b[?25l\u001b[?25hdone\n",
            "\u001b[2K     \u001b[90m━━━━━━━━━━━━━━━━━━━━━━━━━━━━━━━━━━━━━━━━\u001b[0m \u001b[32m18.9/18.9 MB\u001b[0m \u001b[31m8.4 MB/s\u001b[0m eta \u001b[36m0:00:00\u001b[0m\n",
            "\u001b[2K     \u001b[90m━━━━━━━━━━━━━━━━━━━━━━━━━━━━━━━━━━━━━━━━\u001b[0m \u001b[32m194.3/194.3 kB\u001b[0m \u001b[31m9.8 MB/s\u001b[0m eta \u001b[36m0:00:00\u001b[0m\n",
            "\u001b[2K     \u001b[90m━━━━━━━━━━━━━━━━━━━━━━━━━━━━━━━━━━━━━━━━\u001b[0m \u001b[32m103.0/103.0 kB\u001b[0m \u001b[31m9.3 MB/s\u001b[0m eta \u001b[36m0:00:00\u001b[0m\n",
            "\u001b[2K     \u001b[90m━━━━━━━━━━━━━━━━━━━━━━━━━━━━━━━━━━━━━━━━\u001b[0m \u001b[32m12.3/12.3 MB\u001b[0m \u001b[31m9.5 MB/s\u001b[0m eta \u001b[36m0:00:00\u001b[0m\n",
            "\u001b[2K     \u001b[90m━━━━━━━━━━━━━━━━━━━━━━━━━━━━━━━━━━━━━━━━\u001b[0m \u001b[32m82.2/82.2 kB\u001b[0m \u001b[31m8.6 MB/s\u001b[0m eta \u001b[36m0:00:00\u001b[0m\n",
            "\u001b[2K     \u001b[90m━━━━━━━━━━━━━━━━━━━━━━━━━━━━━━━━━━━━━━━━\u001b[0m \u001b[32m49.2/49.2 kB\u001b[0m \u001b[31m6.3 MB/s\u001b[0m eta \u001b[36m0:00:00\u001b[0m\n",
            "\u001b[2K     \u001b[90m━━━━━━━━━━━━━━━━━━━━━━━━━━━━━━━━━━━━━━━━\u001b[0m \u001b[32m139.0/139.0 kB\u001b[0m \u001b[31m9.2 MB/s\u001b[0m eta \u001b[36m0:00:00\u001b[0m\n",
            "\u001b[2K     \u001b[90m━━━━━━━━━━━━━━━━━━━━━━━━━━━━━━━━━━━━━━━━\u001b[0m \u001b[32m77.9/77.9 kB\u001b[0m \u001b[31m9.1 MB/s\u001b[0m eta \u001b[36m0:00:00\u001b[0m\n",
            "\u001b[2K     \u001b[90m━━━━━━━━━━━━━━━━━━━━━━━━━━━━━━━━━━━━━━━━\u001b[0m \u001b[32m57.5/57.5 kB\u001b[0m \u001b[31m9.0 MB/s\u001b[0m eta \u001b[36m0:00:00\u001b[0m\n",
            "\u001b[2K     \u001b[90m━━━━━━━━━━━━━━━━━━━━━━━━━━━━━━━━━━━━━━━━\u001b[0m \u001b[32m58.3/58.3 kB\u001b[0m \u001b[31m8.7 MB/s\u001b[0m eta \u001b[36m0:00:00\u001b[0m\n",
            "\u001b[2K     \u001b[90m━━━━━━━━━━━━━━━━━━━━━━━━━━━━━━━━━━━━━━━━\u001b[0m \u001b[32m145.0/145.0 kB\u001b[0m \u001b[31m10.0 MB/s\u001b[0m eta \u001b[36m0:00:00\u001b[0m\n",
            "\u001b[2K     \u001b[90m━━━━━━━━━━━━━━━━━━━━━━━━━━━━━━━━━━━━━━━━\u001b[0m \u001b[32m862.7/862.7 kB\u001b[0m \u001b[31m9.7 MB/s\u001b[0m eta \u001b[36m0:00:00\u001b[0m\n",
            "\u001b[2K     \u001b[90m━━━━━━━━━━━━━━━━━━━━━━━━━━━━━━━━━━━━━━━━\u001b[0m \u001b[32m290.4/290.4 kB\u001b[0m \u001b[31m11.2 MB/s\u001b[0m eta \u001b[36m0:00:00\u001b[0m\n",
            "\u001b[2K     \u001b[90m━━━━━━━━━━━━━━━━━━━━━━━━━━━━━━━━━━━━━━━━\u001b[0m \u001b[32m542.1/542.1 kB\u001b[0m \u001b[31m10.0 MB/s\u001b[0m eta \u001b[36m0:00:00\u001b[0m\n",
            "\u001b[2K     \u001b[90m━━━━━━━━━━━━━━━━━━━━━━━━━━━━━━━━━━━━━━━━\u001b[0m \u001b[32m116.3/116.3 kB\u001b[0m \u001b[31m9.8 MB/s\u001b[0m eta \u001b[36m0:00:00\u001b[0m\n",
            "\u001b[2K     \u001b[90m━━━━━━━━━━━━━━━━━━━━━━━━━━━━━━━━━━━━━━━━\u001b[0m \u001b[32m64.9/64.9 kB\u001b[0m \u001b[31m9.4 MB/s\u001b[0m eta \u001b[36m0:00:00\u001b[0m\n",
            "\u001b[2K     \u001b[90m━━━━━━━━━━━━━━━━━━━━━━━━━━━━━━━━━━━━━━━━\u001b[0m \u001b[32m194.1/194.1 kB\u001b[0m \u001b[31m10.5 MB/s\u001b[0m eta \u001b[36m0:00:00\u001b[0m\n",
            "\u001b[2K     \u001b[90m━━━━━━━━━━━━━━━━━━━━━━━━━━━━━━━━━━━━━━━━\u001b[0m \u001b[32m134.8/134.8 kB\u001b[0m \u001b[31m10.5 MB/s\u001b[0m eta \u001b[36m0:00:00\u001b[0m\n",
            "\u001b[2K     \u001b[90m━━━━━━━━━━━━━━━━━━━━━━━━━━━━━━━━━━━━━━━━\u001b[0m \u001b[32m207.3/207.3 kB\u001b[0m \u001b[31m10.4 MB/s\u001b[0m eta \u001b[36m0:00:00\u001b[0m\n",
            "\u001b[2K     \u001b[90m━━━━━━━━━━━━━━━━━━━━━━━━━━━━━━━━━━━━━━━━\u001b[0m \u001b[32m80.8/80.8 kB\u001b[0m \u001b[31m9.0 MB/s\u001b[0m eta \u001b[36m0:00:00\u001b[0m\n",
            "\u001b[2K     \u001b[90m━━━━━━━━━━━━━━━━━━━━━━━━━━━━━━━━━━━━━━━━\u001b[0m \u001b[32m54.5/54.5 kB\u001b[0m \u001b[31m8.1 MB/s\u001b[0m eta \u001b[36m0:00:00\u001b[0m\n",
            "\u001b[2K     \u001b[90m━━━━━━━━━━━━━━━━━━━━━━━━━━━━━━━━━━━━━━━━\u001b[0m \u001b[32m327.6/327.6 kB\u001b[0m \u001b[31m10.8 MB/s\u001b[0m eta \u001b[36m0:00:00\u001b[0m\n",
            "\u001b[2K     \u001b[90m━━━━━━━━━━━━━━━━━━━━━━━━━━━━━━━━━━━━━━━━\u001b[0m \u001b[32m62.7/62.7 kB\u001b[0m \u001b[31m9.0 MB/s\u001b[0m eta \u001b[36m0:00:00\u001b[0m\n",
            "\u001b[?25h  Building wheel for colbert-ai (setup.py) ... \u001b[?25l\u001b[?25hdone\n",
            "  Building wheel for bson (setup.py) ... \u001b[?25l\u001b[?25hdone\n",
            "  Building wheel for langdetect (setup.py) ... \u001b[?25l\u001b[?25hdone\n",
            "\u001b[31mERROR: pip's dependency resolver does not currently take into account all the packages that are installed. This behaviour is the source of the following dependency conflicts.\n",
            "google-colab 1.0.0 requires requests==2.31.0, but you have requests 2.32.3 which is incompatible.\n",
            "imageio 2.31.6 requires pillow<10.1.0,>=8.3.2, but you have pillow 10.3.0 which is incompatible.\n",
            "torchaudio 2.3.0+cu121 requires torch==2.3.0, but you have torch 2.2.1 which is incompatible.\n",
            "torchtext 0.18.0 requires torch>=2.3.0, but you have torch 2.2.1 which is incompatible.\n",
            "torchvision 0.18.0+cu121 requires torch==2.3.0, but you have torch 2.2.1 which is incompatible.\u001b[0m\u001b[31m\n",
            "\u001b[0m"
          ]
        }
      ]
    },
    {
      "cell_type": "code",
      "source": [
        "\n",
        "\n",
        "PROJECT_ID='mythical-style-346821'\n",
        "LOCATION='us-central1'"
      ],
      "metadata": {
        "id": "HFtkx6bhd8k5",
        "executionInfo": {
          "status": "ok",
          "timestamp": 1718670090527,
          "user_tz": 240,
          "elapsed": 12,
          "user": {
            "displayName": "",
            "userId": ""
          }
        }
      },
      "execution_count": 3,
      "outputs": []
    },
    {
      "cell_type": "code",
      "source": [
        "import os\n",
        "os.environ['GCP_PROJECT_ID']=PROJECT_ID\n",
        "os.environ['LOCATION']=LOCATION"
      ],
      "metadata": {
        "id": "l2jcn2ehfSty",
        "executionInfo": {
          "status": "ok",
          "timestamp": 1718670090528,
          "user_tz": 240,
          "elapsed": 10,
          "user": {
            "displayName": "",
            "userId": ""
          }
        }
      },
      "execution_count": 4,
      "outputs": []
    },
    {
      "cell_type": "code",
      "source": [
        "!gcloud config set project {os.getenv(\"GCP_PROJECT_ID\")}"
      ],
      "metadata": {
        "colab": {
          "base_uri": "https://localhost:8080/"
        },
        "id": "-ej47GY0hPGs",
        "outputId": "965b3848-df93-4690-e34f-a86745edc03e",
        "executionInfo": {
          "status": "ok",
          "timestamp": 1718670097790,
          "user_tz": 240,
          "elapsed": 7270,
          "user": {
            "displayName": "",
            "userId": ""
          }
        }
      },
      "execution_count": 5,
      "outputs": [
        {
          "output_type": "stream",
          "name": "stdout",
          "text": [
            "Updated property [core/project].\n"
          ]
        }
      ]
    },
    {
      "cell_type": "code",
      "source": [
        "import sys\n",
        "if \"google.colab\" in sys.modules:\n",
        "  from google.colab import auth as google_auth\n",
        "  google_auth.authenticate_user()"
      ],
      "metadata": {
        "id": "h37bga_VhTTL",
        "executionInfo": {
          "status": "ok",
          "timestamp": 1718670099781,
          "user_tz": 240,
          "elapsed": 1997,
          "user": {
            "displayName": "",
            "userId": ""
          }
        }
      },
      "execution_count": 6,
      "outputs": []
    },
    {
      "cell_type": "code",
      "source": [
        "import vertexai"
      ],
      "metadata": {
        "id": "_5Ckn0SmdBRn",
        "executionInfo": {
          "status": "ok",
          "timestamp": 1718670116941,
          "user_tz": 240,
          "elapsed": 17165,
          "user": {
            "displayName": "",
            "userId": ""
          }
        }
      },
      "execution_count": 7,
      "outputs": []
    },
    {
      "cell_type": "code",
      "source": [
        "vertexai.init(project=PROJECT_ID, location=LOCATION)"
      ],
      "metadata": {
        "id": "tB0DFoHydS4F",
        "executionInfo": {
          "status": "ok",
          "timestamp": 1718670116942,
          "user_tz": 240,
          "elapsed": 8,
          "user": {
            "displayName": "",
            "userId": ""
          }
        }
      },
      "execution_count": 8,
      "outputs": []
    },
    {
      "cell_type": "code",
      "source": [
        "from vertexai.preview.generative_models import GenerativeModel\n",
        "model=GenerativeModel(\"gemini-1.0-pro\")"
      ],
      "metadata": {
        "id": "apwvMIYmdVoT",
        "executionInfo": {
          "status": "ok",
          "timestamp": 1718670116943,
          "user_tz": 240,
          "elapsed": 6,
          "user": {
            "displayName": "",
            "userId": ""
          }
        }
      },
      "execution_count": 9,
      "outputs": []
    },
    {
      "cell_type": "code",
      "source": [
        "response=model.generate_content(\"What is a color of sky\", stream=True)"
      ],
      "metadata": {
        "id": "jjbOzHq0dYT2",
        "executionInfo": {
          "status": "ok",
          "timestamp": 1718670116943,
          "user_tz": 240,
          "elapsed": 6,
          "user": {
            "displayName": "",
            "userId": ""
          }
        }
      },
      "execution_count": 10,
      "outputs": []
    },
    {
      "cell_type": "code",
      "source": [
        "for response in response:\n",
        "  print(response.text, end=\"\")"
      ],
      "metadata": {
        "colab": {
          "base_uri": "https://localhost:8080/"
        },
        "id": "tBdoCvMfdcTE",
        "executionInfo": {
          "status": "ok",
          "timestamp": 1718670120942,
          "user_tz": 240,
          "elapsed": 4005,
          "user": {
            "displayName": "",
            "userId": ""
          }
        },
        "outputId": "9df8f79f-9d6f-48f2-f042-3248fa81aa65"
      },
      "execution_count": 11,
      "outputs": [
        {
          "output_type": "stream",
          "name": "stdout",
          "text": [
            "The color of the sky is predominantly **blue** during the day. However, it can change depending on various factors such as:\n",
            "\n",
            "* **Time of day:** The color of the sky changes with the position of the sun. At sunrise and sunset, the sky appears **red, orange, or yellow** due to the scattering of sunlight through thicker layers of atmosphere.\n",
            "* **Atmospheric conditions:** Dust, clouds, and pollution can affect the color of the sky. For example, clouds can make the sky appear **white or gray**, while dust can make it appear **hazy or reddish**.\n",
            "* **Geographical location:** The color of the sky may differ slightly depending on the altitude, latitude, and time zone.\n",
            "\n",
            "The blue color of the sky is primarily caused by a phenomenon called **Rayleigh scattering**. When sunlight enters the Earth's atmosphere, it interacts with the air molecules. Blue light, which has a shorter wavelength compared to other colors, is scattered more efficiently than other wavelengths. This scattered blue light reaches our eyes from all directions, making the sky appear blue.\n",
            "\n",
            "Here are some additional facts about the color of the sky:\n",
            "\n",
            "* The sky appears black at night because there is no sunlight to scatter.\n",
            "* The scattering of light is also responsible for the blue color of water.\n",
            "* Some planets have different colored skies due to the composition of their atmospheres. For example, Mars has a reddish sky due to the presence of iron oxide dust in its atmosphere."
          ]
        }
      ]
    },
    {
      "cell_type": "code",
      "source": [],
      "metadata": {
        "id": "aAb-g2VkoC3n",
        "executionInfo": {
          "status": "ok",
          "timestamp": 1718670120943,
          "user_tz": 240,
          "elapsed": 5,
          "user": {
            "displayName": "",
            "userId": ""
          }
        }
      },
      "execution_count": 11,
      "outputs": []
    },
    {
      "cell_type": "code",
      "source": [],
      "metadata": {
        "id": "7ypgGC6soyLp",
        "executionInfo": {
          "status": "ok",
          "timestamp": 1718670120943,
          "user_tz": 240,
          "elapsed": 4,
          "user": {
            "displayName": "",
            "userId": ""
          }
        }
      },
      "execution_count": 11,
      "outputs": []
    },
    {
      "cell_type": "code",
      "source": [
        "from vertexai.preview.generative_models import (\n",
        "    GenerationConfig,\n",
        "    GenerativeModel,\n",
        "    HarmCategory,\n",
        "    HarmBlockThreshold,\n",
        "    Image,\n",
        "    Part\n",
        ")"
      ],
      "metadata": {
        "id": "oZXHNBG5pQ9Z",
        "executionInfo": {
          "status": "ok",
          "timestamp": 1718670120943,
          "user_tz": 240,
          "elapsed": 4,
          "user": {
            "displayName": "",
            "userId": ""
          }
        }
      },
      "execution_count": 12,
      "outputs": []
    },
    {
      "cell_type": "code",
      "source": [
        "prompt=\"\"\"\n",
        "Create a numered list of 10 items\n",
        "Each item should be a trend in tech \"\"\"\n",
        "output=model.generate_content(prompt, stream=True)\n",
        "for response in output:\n",
        "  print(response.text, end=\"\")"
      ],
      "metadata": {
        "colab": {
          "base_uri": "https://localhost:8080/"
        },
        "id": "-HDON4WZqLIy",
        "executionInfo": {
          "status": "ok",
          "timestamp": 1718670126572,
          "user_tz": 240,
          "elapsed": 5632,
          "user": {
            "displayName": "",
            "userId": ""
          }
        },
        "outputId": "a0462116-9cdc-47b0-d890-1db10f1e882f"
      },
      "execution_count": 13,
      "outputs": [
        {
          "output_type": "stream",
          "name": "stdout",
          "text": [
            "## 10 Trends in Tech for 2023 and Beyond:\n",
            "\n",
            "1. **Generative AI:** AI models capable of creating new content, like images, videos, and even code, will continue to evolve rapidly, blurring the lines between human and machine creativity.\n",
            "2. **The Metaverse:** The convergence of virtual and augmented reality technologies will create immersive experiences for work, play, and social interaction, opening doors to entirely new digital worlds.\n",
            "3. **Web3 and Blockchain:** Decentralized technologies based on blockchain will disrupt traditional business models, empowering individuals with greater control over their data and digital identities.\n",
            "4. **Quantum Computing:** This emerging technology promises to revolutionize fields like medicine, materials science, and artificial intelligence by tackling previously unsolvable problems.\n",
            "5. **Hyperautomation:** The intelligent automation of repetitive tasks across various business functions will free up human resources for more strategic and creative endeavors.\n",
            "6. **Cybersecurity Mesh:** A new approach to cybersecurity that integrates various security tools and technologies to provide a more comprehensive and adaptable defense against evolving threats.\n",
            "7. **Digital Sustainability:** Technologies like AI and IoT will play a crucial role in mitigating climate change and promoting environmentally responsible practices.\n",
            "8. **Biotechnology Advancements:** From personalized medicine to gene editing, breakthroughs in biotechnology will offer solutions for various health challenges and enhance human capabilities.\n",
            "9. **Space Exploration and Technology:** The private sector is driving a new era of space exploration, with reusable rockets, satellite constellations, and lunar missions all on the horizon.\n",
            "10. **The Rise of the \"Everything-as-a-Service\" Model:** From software to infrastructure, more services will be delivered on-demand via the cloud, enabling greater flexibility and scalability for businesses and individuals. \n"
          ]
        }
      ]
    },
    {
      "cell_type": "code",
      "source": [
        "config=GenerationConfig(\n",
        "    temperature=0.7,\n",
        "    max_output_tokens=100,\n",
        "    top_p=1\n",
        ")"
      ],
      "metadata": {
        "id": "Ui28q2ZCqYiq",
        "executionInfo": {
          "status": "ok",
          "timestamp": 1718670126573,
          "user_tz": 240,
          "elapsed": 5,
          "user": {
            "displayName": "",
            "userId": ""
          }
        }
      },
      "execution_count": 14,
      "outputs": []
    },
    {
      "cell_type": "code",
      "source": [
        "output=model.generate_content(prompt, stream=True, generation_config=config)\n",
        "for response in output:\n",
        "  print(response.text, end=\"\")"
      ],
      "metadata": {
        "id": "hhZc0q1Pq6PO",
        "colab": {
          "base_uri": "https://localhost:8080/"
        },
        "executionInfo": {
          "status": "ok",
          "timestamp": 1718670127892,
          "user_tz": 240,
          "elapsed": 1323,
          "user": {
            "displayName": "",
            "userId": ""
          }
        },
        "outputId": "a666b56a-9371-49c7-f867-07d4f8160231"
      },
      "execution_count": 15,
      "outputs": [
        {
          "output_type": "stream",
          "name": "stdout",
          "text": [
            "## 10 Hot Tech Trends to Watch in 2023:\n",
            "\n",
            "1. **Generative AI:** This technology, exemplified by tools like ChatGPT and DALL-E, uses machine learning to generate realistic and creative text, images, and even videos. Expect to see even more innovative applications in 2023, from personalized content creation to advanced research and development.\n",
            "2. **Metaverse:** The race to build immersive virtual worlds is heating up, with companies like Meta"
          ]
        }
      ]
    },
    {
      "cell_type": "code",
      "source": [
        "import requests"
      ],
      "metadata": {
        "id": "zHsKHT0Gq9oM",
        "executionInfo": {
          "status": "ok",
          "timestamp": 1718670127892,
          "user_tz": 240,
          "elapsed": 4,
          "user": {
            "displayName": "",
            "userId": ""
          }
        }
      },
      "execution_count": 16,
      "outputs": []
    },
    {
      "cell_type": "code",
      "source": [
        "image=requests.get('https://drive.google.com/uc?export=view&id=15ddcn-AIxpvRdWcFGvIr77XLWdo4Maof').content"
      ],
      "metadata": {
        "id": "Ua3UUzCFsaBT",
        "executionInfo": {
          "status": "ok",
          "timestamp": 1718670129221,
          "user_tz": 240,
          "elapsed": 1331,
          "user": {
            "displayName": "",
            "userId": ""
          }
        }
      },
      "execution_count": 17,
      "outputs": []
    },
    {
      "cell_type": "code",
      "source": [
        "with open('image.png' , 'wb') as handler:\n",
        "  handler.write(image)"
      ],
      "metadata": {
        "id": "m_BWvjCVsxZ8",
        "executionInfo": {
          "status": "ok",
          "timestamp": 1718670129221,
          "user_tz": 240,
          "elapsed": 3,
          "user": {
            "displayName": "",
            "userId": ""
          }
        }
      },
      "execution_count": 18,
      "outputs": []
    },
    {
      "cell_type": "code",
      "source": [
        "from langchain.schema.messages import HumanMessage\n",
        "from langchain_google_vertexai import ChatVertexAI"
      ],
      "metadata": {
        "id": "itzlylxEtEXK",
        "executionInfo": {
          "status": "ok",
          "timestamp": 1718670130616,
          "user_tz": 240,
          "elapsed": 1397,
          "user": {
            "displayName": "",
            "userId": ""
          }
        }
      },
      "execution_count": 19,
      "outputs": []
    },
    {
      "cell_type": "code",
      "source": [
        "from PIL import Image, ImageFile\n",
        "import os , sys"
      ],
      "metadata": {
        "id": "MBJn4I1itzZA",
        "executionInfo": {
          "status": "ok",
          "timestamp": 1718670130616,
          "user_tz": 240,
          "elapsed": 12,
          "user": {
            "displayName": "",
            "userId": ""
          }
        }
      },
      "execution_count": 20,
      "outputs": []
    },
    {
      "cell_type": "code",
      "source": [
        "chat=ChatVertexAI(model_name='gemini-1.0-pro-vision')"
      ],
      "metadata": {
        "id": "iluHwzQ9t3hE",
        "executionInfo": {
          "status": "ok",
          "timestamp": 1718670130617,
          "user_tz": 240,
          "elapsed": 11,
          "user": {
            "displayName": "",
            "userId": ""
          }
        }
      },
      "execution_count": 21,
      "outputs": []
    },
    {
      "cell_type": "code",
      "source": [
        "image_message={\n",
        "    \"type\": \"image_url\",\n",
        "    \"image_url\": {\"url\": \"image.png\"}\n",
        "\n",
        "}\n",
        "\n",
        "text_message={\n",
        "    \"type\": \"text\",\n",
        "    \"text\": \"What is the image?, Share a link to purchase a replacement from amazon\"\n",
        "}"
      ],
      "metadata": {
        "id": "qYb-imvzt8wR",
        "executionInfo": {
          "status": "ok",
          "timestamp": 1718671925136,
          "user_tz": 240,
          "elapsed": 121,
          "user": {
            "displayName": "",
            "userId": ""
          }
        }
      },
      "execution_count": 52,
      "outputs": []
    },
    {
      "cell_type": "code",
      "source": [
        "message=HumanMessage(content=[text_message, image_message])"
      ],
      "metadata": {
        "id": "fdZ1lnxXuKEe",
        "executionInfo": {
          "status": "ok",
          "timestamp": 1718670130617,
          "user_tz": 240,
          "elapsed": 11,
          "user": {
            "displayName": "",
            "userId": ""
          }
        }
      },
      "execution_count": 23,
      "outputs": []
    },
    {
      "cell_type": "code",
      "source": [
        "message"
      ],
      "metadata": {
        "colab": {
          "base_uri": "https://localhost:8080/"
        },
        "id": "HGmF5mZ5uNZd",
        "executionInfo": {
          "status": "ok",
          "timestamp": 1718670130617,
          "user_tz": 240,
          "elapsed": 10,
          "user": {
            "displayName": "",
            "userId": ""
          }
        },
        "outputId": "d6fe62ba-1fad-47a8-e6dd-08d665b0c682"
      },
      "execution_count": 24,
      "outputs": [
        {
          "output_type": "execute_result",
          "data": {
            "text/plain": [
              "HumanMessage(content=[{'type': 'text', 'text': 'What is the image?, Share a link to purchase a replacement from amazon'}, {'type': 'image_url', 'image_url': {'url': 'image.png'}}])"
            ]
          },
          "metadata": {},
          "execution_count": 24
        }
      ]
    },
    {
      "cell_type": "code",
      "source": [
        "chat([message]).content"
      ],
      "metadata": {
        "colab": {
          "base_uri": "https://localhost:8080/",
          "height": 127
        },
        "id": "4vibcQWeuOls",
        "executionInfo": {
          "status": "ok",
          "timestamp": 1718670136067,
          "user_tz": 240,
          "elapsed": 5454,
          "user": {
            "displayName": "",
            "userId": ""
          }
        },
        "outputId": "b17fe7dc-d9b5-49e0-d2cc-991bc64215cb"
      },
      "execution_count": 25,
      "outputs": [
        {
          "output_type": "stream",
          "name": "stderr",
          "text": [
            "/usr/local/lib/python3.10/dist-packages/langchain_core/_api/deprecation.py:119: LangChainDeprecationWarning: The method `BaseChatModel.__call__` was deprecated in langchain-core 0.1.7 and will be removed in 0.3.0. Use invoke instead.\n",
            "  warn_deprecated(\n"
          ]
        },
        {
          "output_type": "execute_result",
          "data": {
            "text/plain": [
              "' This is a replacement filter basket for a Breville coffee maker. You can purchase a replacement from Amazon here: https://www.amazon.com/dp/B078465839?psc=1&ref=ppx_yo2ov_dt_b_product_details'"
            ],
            "application/vnd.google.colaboratory.intrinsic+json": {
              "type": "string"
            }
          },
          "metadata": {},
          "execution_count": 25
        }
      ]
    },
    {
      "cell_type": "code",
      "source": [
        "#RAG system\n",
        "import pandas as pd\n",
        "\n",
        "d = {'name': [\"Saucer\", \"Saucer Ceramic\", \"Milk Jug Assembly\", \"Handle Steam Wand Kit (New Version From 0735 PDC)\", \"Spout Juice Small (From 0637 to 1041 PDC)\", \"Cleaning Steam Wand\", \"Jug Frothing\", \"Spoon Tamping 50mm\", \"Collar Grouphead 50mm\", \"Filter 2 Cup Dual Wall 50mm\", \"Filter 1 Cup 50mm\", \"Water Tank Assembly\", \"Portafilter Assembly 50mm\", \"Milk Jug Assembly\", \"Filter 2 Cup 50mm\" ],\n",
        "     'url': [\"https://www.breville.com/us/en/parts-accessories/parts/sp0014946.html?sku=SP0014946\", \"https://www.breville.com/us/en/parts-accessories/parts/sp0014914.html?sku=SP0014914\", \"https://www.breville.com/us/en/parts-accessories/parts/sp0011391.html?sku=SP0011391\", \"https://www.breville.com/us/en/parts-accessories/parts/sp0010719.html?sku=SP0010719\", \"https://www.breville.com/us/en/parts-accessories/parts/sp0010718.html?sku=SP0010718\", \"https://www.breville.com/us/en/parts-accessories/parts/sp0003247.html?sku=SP0003247\", \"https://www.breville.com/us/en/parts-accessories/parts/sp0003246.html?sku=SP0003246\", \"https://www.breville.com/us/en/parts-accessories/parts/sp0003243.html?sku=SP0003243\", \"https://www.breville.com/us/en/parts-accessories/parts/sp0003232.html?sku=SP0003232\", \"https://www.breville.com/us/en/parts-accessories/parts/sp0003231.html?sku=SP0003231\", \"https://www.breville.com/us/en/parts-accessories/parts/sp0003230.html?sku=SP0003230\", \"https://www.breville.com/us/en/parts-accessories/parts/sp0003225.html?sku=SP0003225\", \"https://www.breville.com/us/en/parts-accessories/parts/sp0003216.html?sku=SP0003216\", \"https://www.breville.com/us/en/parts-accessories/parts/sp0001875.html?sku=SP0001875\", \"https://www.breville.com/us/en/parts-accessories/parts/sp0000166.html?sku=SP0000166\"],\n",
        "     'price': [\"10.95\", \"4.99\", \"14.95\", \"8.95\", \"10.95\", \"6.95\", \"24.95\", \"8.95\", \"6.95\", \"12.95\", \"12.95\", \"14.95\", \"10.95\", \"16.95\", \"11.95\"],\n",
        "     'image': [\"https://www.breville.com/content/dam/breville/us/catalog/products/images/sp0/sp0014946/tile.jpg\", \"https://www.breville.com/content/dam/breville/us/catalog/products/images/sp0/sp0014914/tile.jpg\", \"https://www.breville.com/content/dam/breville/us/catalog/products/images/sp0/sp0011391/tile.jpg\", \"https://www.breville.com/content/dam/breville/ca/catalog/products/images/sp0/sp0010719/tile.jpg\", \"https://www.breville.com/content/dam/breville/ca/catalog/products/images/sp0/sp0010718/tile.jpg\", \"https://www.breville.com/content/dam/breville/ca/catalog/products/images/sp0/sp0003247/tile.jpg\", \"https://assets.breville.com/cdn-cgi/image/width=400,format=auto/Spare+Parts+/Espresso+Machines/BES250/SP0003246/SP0003246_IMAGE1_400X400.jpg\", \"https://assets.breville.com/cdn-cgi/image/width=400,format=auto/Spare+Parts+/Espresso+Machines/ESP8/SP0003243/SP0003243_IMAGE1_400X400.jpg\", \"https://assets.breville.com/cdn-cgi/image/width=400,format=auto/Spare+Parts+/Espresso+Machines/ESP8/SP0003232/SP0003232_IMAGE1_400x400.jpg\", \"https://www.breville.com/content/dam/breville/au/catalog/products/images/sp0/sp0003231/tile.jpg\", \"https://www.breville.com/content/dam/breville/au/catalog/products/images/sp0/sp0003230/tile.jpg\", \"https://www.breville.com/content/dam/breville/ca/catalog/products/images/sp0/sp0003225/tile.jpg\", \"https://www.breville.com/content/dam/breville/ca/catalog/products/images/sp0/sp0003216/tile.jpg\", \"https://www.breville.com/content/dam/breville/au/catalog/products/images/sp0/sp0001875/tile.jpg\", \"https://www.breville.com/content/dam/breville/us/catalog/products/images/sp0/sp0000166/tile.jpg\"]}\n",
        "df = pd.DataFrame(data=d)\n",
        "df"
      ],
      "metadata": {
        "colab": {
          "base_uri": "https://localhost:8080/",
          "height": 798
        },
        "id": "Cdh1VRFhuTVM",
        "executionInfo": {
          "status": "ok",
          "timestamp": 1718670136236,
          "user_tz": 240,
          "elapsed": 173,
          "user": {
            "displayName": "",
            "userId": ""
          }
        },
        "outputId": "c9bd0e55-36d5-469d-9658-4f5d3f90741d"
      },
      "execution_count": 26,
      "outputs": [
        {
          "output_type": "execute_result",
          "data": {
            "text/plain": [
              "                                                 name  \\\n",
              "0                                              Saucer   \n",
              "1                                      Saucer Ceramic   \n",
              "2                                   Milk Jug Assembly   \n",
              "3   Handle Steam Wand Kit (New Version From 0735 PDC)   \n",
              "4           Spout Juice Small (From 0637 to 1041 PDC)   \n",
              "5                                 Cleaning Steam Wand   \n",
              "6                                        Jug Frothing   \n",
              "7                                  Spoon Tamping 50mm   \n",
              "8                               Collar Grouphead 50mm   \n",
              "9                         Filter 2 Cup Dual Wall 50mm   \n",
              "10                                  Filter 1 Cup 50mm   \n",
              "11                                Water Tank Assembly   \n",
              "12                          Portafilter Assembly 50mm   \n",
              "13                                  Milk Jug Assembly   \n",
              "14                                  Filter 2 Cup 50mm   \n",
              "\n",
              "                                                  url  price  \\\n",
              "0   https://www.breville.com/us/en/parts-accessori...  10.95   \n",
              "1   https://www.breville.com/us/en/parts-accessori...   4.99   \n",
              "2   https://www.breville.com/us/en/parts-accessori...  14.95   \n",
              "3   https://www.breville.com/us/en/parts-accessori...   8.95   \n",
              "4   https://www.breville.com/us/en/parts-accessori...  10.95   \n",
              "5   https://www.breville.com/us/en/parts-accessori...   6.95   \n",
              "6   https://www.breville.com/us/en/parts-accessori...  24.95   \n",
              "7   https://www.breville.com/us/en/parts-accessori...   8.95   \n",
              "8   https://www.breville.com/us/en/parts-accessori...   6.95   \n",
              "9   https://www.breville.com/us/en/parts-accessori...  12.95   \n",
              "10  https://www.breville.com/us/en/parts-accessori...  12.95   \n",
              "11  https://www.breville.com/us/en/parts-accessori...  14.95   \n",
              "12  https://www.breville.com/us/en/parts-accessori...  10.95   \n",
              "13  https://www.breville.com/us/en/parts-accessori...  16.95   \n",
              "14  https://www.breville.com/us/en/parts-accessori...  11.95   \n",
              "\n",
              "                                                image  \n",
              "0   https://www.breville.com/content/dam/breville/...  \n",
              "1   https://www.breville.com/content/dam/breville/...  \n",
              "2   https://www.breville.com/content/dam/breville/...  \n",
              "3   https://www.breville.com/content/dam/breville/...  \n",
              "4   https://www.breville.com/content/dam/breville/...  \n",
              "5   https://www.breville.com/content/dam/breville/...  \n",
              "6   https://assets.breville.com/cdn-cgi/image/widt...  \n",
              "7   https://assets.breville.com/cdn-cgi/image/widt...  \n",
              "8   https://assets.breville.com/cdn-cgi/image/widt...  \n",
              "9   https://www.breville.com/content/dam/breville/...  \n",
              "10  https://www.breville.com/content/dam/breville/...  \n",
              "11  https://www.breville.com/content/dam/breville/...  \n",
              "12  https://www.breville.com/content/dam/breville/...  \n",
              "13  https://www.breville.com/content/dam/breville/...  \n",
              "14  https://www.breville.com/content/dam/breville/...  "
            ],
            "text/html": [
              "\n",
              "  <div id=\"df-9f73ed70-fa93-42c0-a8b1-d0dadac9e06d\" class=\"colab-df-container\">\n",
              "    <div>\n",
              "<style scoped>\n",
              "    .dataframe tbody tr th:only-of-type {\n",
              "        vertical-align: middle;\n",
              "    }\n",
              "\n",
              "    .dataframe tbody tr th {\n",
              "        vertical-align: top;\n",
              "    }\n",
              "\n",
              "    .dataframe thead th {\n",
              "        text-align: right;\n",
              "    }\n",
              "</style>\n",
              "<table border=\"1\" class=\"dataframe\">\n",
              "  <thead>\n",
              "    <tr style=\"text-align: right;\">\n",
              "      <th></th>\n",
              "      <th>name</th>\n",
              "      <th>url</th>\n",
              "      <th>price</th>\n",
              "      <th>image</th>\n",
              "    </tr>\n",
              "  </thead>\n",
              "  <tbody>\n",
              "    <tr>\n",
              "      <th>0</th>\n",
              "      <td>Saucer</td>\n",
              "      <td>https://www.breville.com/us/en/parts-accessori...</td>\n",
              "      <td>10.95</td>\n",
              "      <td>https://www.breville.com/content/dam/breville/...</td>\n",
              "    </tr>\n",
              "    <tr>\n",
              "      <th>1</th>\n",
              "      <td>Saucer Ceramic</td>\n",
              "      <td>https://www.breville.com/us/en/parts-accessori...</td>\n",
              "      <td>4.99</td>\n",
              "      <td>https://www.breville.com/content/dam/breville/...</td>\n",
              "    </tr>\n",
              "    <tr>\n",
              "      <th>2</th>\n",
              "      <td>Milk Jug Assembly</td>\n",
              "      <td>https://www.breville.com/us/en/parts-accessori...</td>\n",
              "      <td>14.95</td>\n",
              "      <td>https://www.breville.com/content/dam/breville/...</td>\n",
              "    </tr>\n",
              "    <tr>\n",
              "      <th>3</th>\n",
              "      <td>Handle Steam Wand Kit (New Version From 0735 PDC)</td>\n",
              "      <td>https://www.breville.com/us/en/parts-accessori...</td>\n",
              "      <td>8.95</td>\n",
              "      <td>https://www.breville.com/content/dam/breville/...</td>\n",
              "    </tr>\n",
              "    <tr>\n",
              "      <th>4</th>\n",
              "      <td>Spout Juice Small (From 0637 to 1041 PDC)</td>\n",
              "      <td>https://www.breville.com/us/en/parts-accessori...</td>\n",
              "      <td>10.95</td>\n",
              "      <td>https://www.breville.com/content/dam/breville/...</td>\n",
              "    </tr>\n",
              "    <tr>\n",
              "      <th>5</th>\n",
              "      <td>Cleaning Steam Wand</td>\n",
              "      <td>https://www.breville.com/us/en/parts-accessori...</td>\n",
              "      <td>6.95</td>\n",
              "      <td>https://www.breville.com/content/dam/breville/...</td>\n",
              "    </tr>\n",
              "    <tr>\n",
              "      <th>6</th>\n",
              "      <td>Jug Frothing</td>\n",
              "      <td>https://www.breville.com/us/en/parts-accessori...</td>\n",
              "      <td>24.95</td>\n",
              "      <td>https://assets.breville.com/cdn-cgi/image/widt...</td>\n",
              "    </tr>\n",
              "    <tr>\n",
              "      <th>7</th>\n",
              "      <td>Spoon Tamping 50mm</td>\n",
              "      <td>https://www.breville.com/us/en/parts-accessori...</td>\n",
              "      <td>8.95</td>\n",
              "      <td>https://assets.breville.com/cdn-cgi/image/widt...</td>\n",
              "    </tr>\n",
              "    <tr>\n",
              "      <th>8</th>\n",
              "      <td>Collar Grouphead 50mm</td>\n",
              "      <td>https://www.breville.com/us/en/parts-accessori...</td>\n",
              "      <td>6.95</td>\n",
              "      <td>https://assets.breville.com/cdn-cgi/image/widt...</td>\n",
              "    </tr>\n",
              "    <tr>\n",
              "      <th>9</th>\n",
              "      <td>Filter 2 Cup Dual Wall 50mm</td>\n",
              "      <td>https://www.breville.com/us/en/parts-accessori...</td>\n",
              "      <td>12.95</td>\n",
              "      <td>https://www.breville.com/content/dam/breville/...</td>\n",
              "    </tr>\n",
              "    <tr>\n",
              "      <th>10</th>\n",
              "      <td>Filter 1 Cup 50mm</td>\n",
              "      <td>https://www.breville.com/us/en/parts-accessori...</td>\n",
              "      <td>12.95</td>\n",
              "      <td>https://www.breville.com/content/dam/breville/...</td>\n",
              "    </tr>\n",
              "    <tr>\n",
              "      <th>11</th>\n",
              "      <td>Water Tank Assembly</td>\n",
              "      <td>https://www.breville.com/us/en/parts-accessori...</td>\n",
              "      <td>14.95</td>\n",
              "      <td>https://www.breville.com/content/dam/breville/...</td>\n",
              "    </tr>\n",
              "    <tr>\n",
              "      <th>12</th>\n",
              "      <td>Portafilter Assembly 50mm</td>\n",
              "      <td>https://www.breville.com/us/en/parts-accessori...</td>\n",
              "      <td>10.95</td>\n",
              "      <td>https://www.breville.com/content/dam/breville/...</td>\n",
              "    </tr>\n",
              "    <tr>\n",
              "      <th>13</th>\n",
              "      <td>Milk Jug Assembly</td>\n",
              "      <td>https://www.breville.com/us/en/parts-accessori...</td>\n",
              "      <td>16.95</td>\n",
              "      <td>https://www.breville.com/content/dam/breville/...</td>\n",
              "    </tr>\n",
              "    <tr>\n",
              "      <th>14</th>\n",
              "      <td>Filter 2 Cup 50mm</td>\n",
              "      <td>https://www.breville.com/us/en/parts-accessori...</td>\n",
              "      <td>11.95</td>\n",
              "      <td>https://www.breville.com/content/dam/breville/...</td>\n",
              "    </tr>\n",
              "  </tbody>\n",
              "</table>\n",
              "</div>\n",
              "    <div class=\"colab-df-buttons\">\n",
              "\n",
              "  <div class=\"colab-df-container\">\n",
              "    <button class=\"colab-df-convert\" onclick=\"convertToInteractive('df-9f73ed70-fa93-42c0-a8b1-d0dadac9e06d')\"\n",
              "            title=\"Convert this dataframe to an interactive table.\"\n",
              "            style=\"display:none;\">\n",
              "\n",
              "  <svg xmlns=\"http://www.w3.org/2000/svg\" height=\"24px\" viewBox=\"0 -960 960 960\">\n",
              "    <path d=\"M120-120v-720h720v720H120Zm60-500h600v-160H180v160Zm220 220h160v-160H400v160Zm0 220h160v-160H400v160ZM180-400h160v-160H180v160Zm440 0h160v-160H620v160ZM180-180h160v-160H180v160Zm440 0h160v-160H620v160Z\"/>\n",
              "  </svg>\n",
              "    </button>\n",
              "\n",
              "  <style>\n",
              "    .colab-df-container {\n",
              "      display:flex;\n",
              "      gap: 12px;\n",
              "    }\n",
              "\n",
              "    .colab-df-convert {\n",
              "      background-color: #E8F0FE;\n",
              "      border: none;\n",
              "      border-radius: 50%;\n",
              "      cursor: pointer;\n",
              "      display: none;\n",
              "      fill: #1967D2;\n",
              "      height: 32px;\n",
              "      padding: 0 0 0 0;\n",
              "      width: 32px;\n",
              "    }\n",
              "\n",
              "    .colab-df-convert:hover {\n",
              "      background-color: #E2EBFA;\n",
              "      box-shadow: 0px 1px 2px rgba(60, 64, 67, 0.3), 0px 1px 3px 1px rgba(60, 64, 67, 0.15);\n",
              "      fill: #174EA6;\n",
              "    }\n",
              "\n",
              "    .colab-df-buttons div {\n",
              "      margin-bottom: 4px;\n",
              "    }\n",
              "\n",
              "    [theme=dark] .colab-df-convert {\n",
              "      background-color: #3B4455;\n",
              "      fill: #D2E3FC;\n",
              "    }\n",
              "\n",
              "    [theme=dark] .colab-df-convert:hover {\n",
              "      background-color: #434B5C;\n",
              "      box-shadow: 0px 1px 3px 1px rgba(0, 0, 0, 0.15);\n",
              "      filter: drop-shadow(0px 1px 2px rgba(0, 0, 0, 0.3));\n",
              "      fill: #FFFFFF;\n",
              "    }\n",
              "  </style>\n",
              "\n",
              "    <script>\n",
              "      const buttonEl =\n",
              "        document.querySelector('#df-9f73ed70-fa93-42c0-a8b1-d0dadac9e06d button.colab-df-convert');\n",
              "      buttonEl.style.display =\n",
              "        google.colab.kernel.accessAllowed ? 'block' : 'none';\n",
              "\n",
              "      async function convertToInteractive(key) {\n",
              "        const element = document.querySelector('#df-9f73ed70-fa93-42c0-a8b1-d0dadac9e06d');\n",
              "        const dataTable =\n",
              "          await google.colab.kernel.invokeFunction('convertToInteractive',\n",
              "                                                    [key], {});\n",
              "        if (!dataTable) return;\n",
              "\n",
              "        const docLinkHtml = 'Like what you see? Visit the ' +\n",
              "          '<a target=\"_blank\" href=https://colab.research.google.com/notebooks/data_table.ipynb>data table notebook</a>'\n",
              "          + ' to learn more about interactive tables.';\n",
              "        element.innerHTML = '';\n",
              "        dataTable['output_type'] = 'display_data';\n",
              "        await google.colab.output.renderOutput(dataTable, element);\n",
              "        const docLink = document.createElement('div');\n",
              "        docLink.innerHTML = docLinkHtml;\n",
              "        element.appendChild(docLink);\n",
              "      }\n",
              "    </script>\n",
              "  </div>\n",
              "\n",
              "\n",
              "<div id=\"df-b484749a-9bd8-430d-9841-c4f34d604b3a\">\n",
              "  <button class=\"colab-df-quickchart\" onclick=\"quickchart('df-b484749a-9bd8-430d-9841-c4f34d604b3a')\"\n",
              "            title=\"Suggest charts\"\n",
              "            style=\"display:none;\">\n",
              "\n",
              "<svg xmlns=\"http://www.w3.org/2000/svg\" height=\"24px\"viewBox=\"0 0 24 24\"\n",
              "     width=\"24px\">\n",
              "    <g>\n",
              "        <path d=\"M19 3H5c-1.1 0-2 .9-2 2v14c0 1.1.9 2 2 2h14c1.1 0 2-.9 2-2V5c0-1.1-.9-2-2-2zM9 17H7v-7h2v7zm4 0h-2V7h2v10zm4 0h-2v-4h2v4z\"/>\n",
              "    </g>\n",
              "</svg>\n",
              "  </button>\n",
              "\n",
              "<style>\n",
              "  .colab-df-quickchart {\n",
              "      --bg-color: #E8F0FE;\n",
              "      --fill-color: #1967D2;\n",
              "      --hover-bg-color: #E2EBFA;\n",
              "      --hover-fill-color: #174EA6;\n",
              "      --disabled-fill-color: #AAA;\n",
              "      --disabled-bg-color: #DDD;\n",
              "  }\n",
              "\n",
              "  [theme=dark] .colab-df-quickchart {\n",
              "      --bg-color: #3B4455;\n",
              "      --fill-color: #D2E3FC;\n",
              "      --hover-bg-color: #434B5C;\n",
              "      --hover-fill-color: #FFFFFF;\n",
              "      --disabled-bg-color: #3B4455;\n",
              "      --disabled-fill-color: #666;\n",
              "  }\n",
              "\n",
              "  .colab-df-quickchart {\n",
              "    background-color: var(--bg-color);\n",
              "    border: none;\n",
              "    border-radius: 50%;\n",
              "    cursor: pointer;\n",
              "    display: none;\n",
              "    fill: var(--fill-color);\n",
              "    height: 32px;\n",
              "    padding: 0;\n",
              "    width: 32px;\n",
              "  }\n",
              "\n",
              "  .colab-df-quickchart:hover {\n",
              "    background-color: var(--hover-bg-color);\n",
              "    box-shadow: 0 1px 2px rgba(60, 64, 67, 0.3), 0 1px 3px 1px rgba(60, 64, 67, 0.15);\n",
              "    fill: var(--button-hover-fill-color);\n",
              "  }\n",
              "\n",
              "  .colab-df-quickchart-complete:disabled,\n",
              "  .colab-df-quickchart-complete:disabled:hover {\n",
              "    background-color: var(--disabled-bg-color);\n",
              "    fill: var(--disabled-fill-color);\n",
              "    box-shadow: none;\n",
              "  }\n",
              "\n",
              "  .colab-df-spinner {\n",
              "    border: 2px solid var(--fill-color);\n",
              "    border-color: transparent;\n",
              "    border-bottom-color: var(--fill-color);\n",
              "    animation:\n",
              "      spin 1s steps(1) infinite;\n",
              "  }\n",
              "\n",
              "  @keyframes spin {\n",
              "    0% {\n",
              "      border-color: transparent;\n",
              "      border-bottom-color: var(--fill-color);\n",
              "      border-left-color: var(--fill-color);\n",
              "    }\n",
              "    20% {\n",
              "      border-color: transparent;\n",
              "      border-left-color: var(--fill-color);\n",
              "      border-top-color: var(--fill-color);\n",
              "    }\n",
              "    30% {\n",
              "      border-color: transparent;\n",
              "      border-left-color: var(--fill-color);\n",
              "      border-top-color: var(--fill-color);\n",
              "      border-right-color: var(--fill-color);\n",
              "    }\n",
              "    40% {\n",
              "      border-color: transparent;\n",
              "      border-right-color: var(--fill-color);\n",
              "      border-top-color: var(--fill-color);\n",
              "    }\n",
              "    60% {\n",
              "      border-color: transparent;\n",
              "      border-right-color: var(--fill-color);\n",
              "    }\n",
              "    80% {\n",
              "      border-color: transparent;\n",
              "      border-right-color: var(--fill-color);\n",
              "      border-bottom-color: var(--fill-color);\n",
              "    }\n",
              "    90% {\n",
              "      border-color: transparent;\n",
              "      border-bottom-color: var(--fill-color);\n",
              "    }\n",
              "  }\n",
              "</style>\n",
              "\n",
              "  <script>\n",
              "    async function quickchart(key) {\n",
              "      const quickchartButtonEl =\n",
              "        document.querySelector('#' + key + ' button');\n",
              "      quickchartButtonEl.disabled = true;  // To prevent multiple clicks.\n",
              "      quickchartButtonEl.classList.add('colab-df-spinner');\n",
              "      try {\n",
              "        const charts = await google.colab.kernel.invokeFunction(\n",
              "            'suggestCharts', [key], {});\n",
              "      } catch (error) {\n",
              "        console.error('Error during call to suggestCharts:', error);\n",
              "      }\n",
              "      quickchartButtonEl.classList.remove('colab-df-spinner');\n",
              "      quickchartButtonEl.classList.add('colab-df-quickchart-complete');\n",
              "    }\n",
              "    (() => {\n",
              "      let quickchartButtonEl =\n",
              "        document.querySelector('#df-b484749a-9bd8-430d-9841-c4f34d604b3a button');\n",
              "      quickchartButtonEl.style.display =\n",
              "        google.colab.kernel.accessAllowed ? 'block' : 'none';\n",
              "    })();\n",
              "  </script>\n",
              "</div>\n",
              "    </div>\n",
              "  </div>\n"
            ]
          },
          "metadata": {},
          "execution_count": 26
        }
      ]
    },
    {
      "cell_type": "code",
      "source": [
        "df['image'][0]"
      ],
      "metadata": {
        "colab": {
          "base_uri": "https://localhost:8080/",
          "height": 53
        },
        "id": "udDm8jiGu9ke",
        "executionInfo": {
          "status": "ok",
          "timestamp": 1718670136236,
          "user_tz": 240,
          "elapsed": 7,
          "user": {
            "displayName": "",
            "userId": ""
          }
        },
        "outputId": "9e35aa35-1102-42e5-8b47-a50b782c132b"
      },
      "execution_count": 27,
      "outputs": [
        {
          "output_type": "execute_result",
          "data": {
            "text/plain": [
              "'https://www.breville.com/content/dam/breville/us/catalog/products/images/sp0/sp0014946/tile.jpg'"
            ],
            "application/vnd.google.colaboratory.intrinsic+json": {
              "type": "string"
            }
          },
          "metadata": {},
          "execution_count": 27
        }
      ]
    },
    {
      "cell_type": "code",
      "source": [
        "import vertexai, json, requests\n",
        "from vertexai.preview.vision_models import MultiModalEmbeddingModel, Image"
      ],
      "metadata": {
        "id": "quzricVczRhi",
        "executionInfo": {
          "status": "ok",
          "timestamp": 1718670136237,
          "user_tz": 240,
          "elapsed": 7,
          "user": {
            "displayName": "",
            "userId": ""
          }
        }
      },
      "execution_count": 28,
      "outputs": []
    },
    {
      "cell_type": "code",
      "source": [
        "from astrapy.db import AstraDB , AstraDBCollection"
      ],
      "metadata": {
        "id": "-jgTex5gzyVV",
        "executionInfo": {
          "status": "ok",
          "timestamp": 1718670137251,
          "user_tz": 240,
          "elapsed": 1021,
          "user": {
            "displayName": "",
            "userId": ""
          }
        }
      },
      "execution_count": 29,
      "outputs": []
    },
    {
      "cell_type": "code",
      "source": [
        "embed_model=MultiModalEmbeddingModel.from_pretrained(\"multimodalembedding@001\")"
      ],
      "metadata": {
        "id": "QLlTzQNFz2mO",
        "executionInfo": {
          "status": "ok",
          "timestamp": 1718670137425,
          "user_tz": 240,
          "elapsed": 178,
          "user": {
            "displayName": "",
            "userId": ""
          }
        }
      },
      "execution_count": 30,
      "outputs": []
    },
    {
      "cell_type": "code",
      "source": [
        "ASTRA_DB_API_ENDPOINT='https://89d3cfbd-bc73-48b0-9b79-4ed276ff4e50-us-east1.apps.astra.datastax.com'\n",
        "ASTRA_DB_APPLICATION_TOKEN=\"AstraCS:PLuvIJPWbTwTZmDFiyzIkQUp:45b16ec96c13c1955c405739c5fcf10d6b3fcc46c3e3c22cc5db41e9cacd07cc\"\n",
        "os.environ['ASTRA_DB_APPLICATION_TOKEN']=ASTRA_DB_APPLICATION_TOKEN\n",
        "os.environ['ASTRA_DB_API_ENDPOINT']=ASTRA_DB_API_ENDPOINT"
      ],
      "metadata": {
        "id": "j_T73-Xu4AcG",
        "executionInfo": {
          "status": "ok",
          "timestamp": 1718670137426,
          "user_tz": 240,
          "elapsed": 6,
          "user": {
            "displayName": "",
            "userId": ""
          }
        }
      },
      "execution_count": 31,
      "outputs": []
    },
    {
      "cell_type": "code",
      "source": [
        "astradb=AstraDB(token=os.getenv(\"ASTRA_DB_APPLICATION_TOKEN\"), api_endpoint=os.getenv(\"ASTRA_DB_API_ENDPOINT\"))"
      ],
      "metadata": {
        "id": "z66taJ3F33yz",
        "executionInfo": {
          "status": "ok",
          "timestamp": 1718670137426,
          "user_tz": 240,
          "elapsed": 5,
          "user": {
            "displayName": "",
            "userId": ""
          }
        }
      },
      "execution_count": 32,
      "outputs": []
    },
    {
      "cell_type": "code",
      "source": [
        "collection=astradb.create_collection(collection_name=\"coffee_shop_ecomerce1\", dimension=1408)"
      ],
      "metadata": {
        "id": "VZCY2U3I4PPR",
        "executionInfo": {
          "status": "ok",
          "timestamp": 1718670493314,
          "user_tz": 240,
          "elapsed": 15607,
          "user": {
            "displayName": "",
            "userId": ""
          }
        }
      },
      "execution_count": 37,
      "outputs": []
    },
    {
      "cell_type": "code",
      "source": [
        "for i in range(len(df)):\n",
        "  name=df.loc[i, 'name']\n",
        "  image=df.loc[i, \"image\"]\n",
        "  price=df.loc[i, \"price\"]\n",
        "  url=df.loc[i, \"url\"]\n",
        "\n",
        "  img_data=requests.get(image).content\n",
        "  with open(f'{name}.png','wb') as handler:\n",
        "    handler.write(img_data)\n",
        "\n",
        "  img=Image.load_from_file(f'{name}.png')\n",
        "  embeddings=embed_model.get_embeddings(image=img, contextual_text=name)\n",
        "\n",
        "  try:\n",
        "    collection.insert_one({\n",
        "        \"_id\": i,\n",
        "        \"name\": name,\n",
        "        \"image\": image,\n",
        "        \"url\": url,\n",
        "        \"price\": price,\n",
        "        \"$vector\": embeddings.image_embedding,\n",
        "      })\n",
        "  except Exception as error:\n",
        "    # if you've already added this record, skip the error message\n",
        "    error_info = json.loads(str(error))\n",
        "    if error_info[0]['errorCode'] == \"DOCUMENT_ALREADY_EXISTS\":\n",
        "      print(\"Document already exists in the database.  Skipping.\")"
      ],
      "metadata": {
        "id": "B3s8EV8f4Y8G",
        "executionInfo": {
          "status": "ok",
          "timestamp": 1718670502021,
          "user_tz": 240,
          "elapsed": 8709,
          "user": {
            "displayName": "",
            "userId": ""
          }
        }
      },
      "execution_count": 38,
      "outputs": []
    },
    {
      "cell_type": "code",
      "source": [
        "#similarity search between query and image embedding\n"
      ],
      "metadata": {
        "id": "d064L7WeBnaK",
        "executionInfo": {
          "status": "ok",
          "timestamp": 1718670502022,
          "user_tz": 240,
          "elapsed": 4,
          "user": {
            "displayName": "",
            "userId": ""
          }
        }
      },
      "execution_count": 39,
      "outputs": []
    },
    {
      "cell_type": "code",
      "source": [
        "import json\n",
        "img=Image.load_from_file('/content/Cleaning Steam Wand.png')"
      ],
      "metadata": {
        "id": "ez0JsQEfE19l",
        "executionInfo": {
          "status": "ok",
          "timestamp": 1718670507440,
          "user_tz": 240,
          "elapsed": 269,
          "user": {
            "displayName": "",
            "userId": ""
          }
        }
      },
      "execution_count": 40,
      "outputs": []
    },
    {
      "cell_type": "code",
      "source": [
        "embeddings=embed_model.get_embeddings(image=img, contextual_text=\"A machine part\")"
      ],
      "metadata": {
        "id": "PooJupFZE_Ew",
        "executionInfo": {
          "status": "ok",
          "timestamp": 1718670510005,
          "user_tz": 240,
          "elapsed": 337,
          "user": {
            "displayName": "",
            "userId": ""
          }
        }
      },
      "execution_count": 41,
      "outputs": []
    },
    {
      "cell_type": "code",
      "source": [
        "#image embeddings\n",
        "embeddings.image_embedding"
      ],
      "metadata": {
        "collapsed": true,
        "id": "o6aVynp_FFnN"
      },
      "execution_count": null,
      "outputs": []
    },
    {
      "cell_type": "code",
      "source": [
        "#Similarity Search\n",
        "documents =collection.vector_find(\n",
        "    embeddings.image_embedding,\n",
        "    limit=3\n",
        ")"
      ],
      "metadata": {
        "id": "EJi2zRKOFLUA",
        "executionInfo": {
          "status": "ok",
          "timestamp": 1718670514872,
          "user_tz": 240,
          "elapsed": 339,
          "user": {
            "displayName": "",
            "userId": ""
          }
        }
      },
      "execution_count": 43,
      "outputs": []
    },
    {
      "cell_type": "code",
      "source": [
        "documents[0]"
      ],
      "metadata": {
        "id": "VsAK1Ma9sMHM"
      },
      "execution_count": null,
      "outputs": []
    },
    {
      "cell_type": "code",
      "source": [
        "related_products_csv=\"name, image, price, url\\n\""
      ],
      "metadata": {
        "id": "ox7kjZVGvucO",
        "executionInfo": {
          "status": "ok",
          "timestamp": 1718670639018,
          "user_tz": 240,
          "elapsed": 144,
          "user": {
            "displayName": "",
            "userId": ""
          }
        }
      },
      "execution_count": 46,
      "outputs": []
    },
    {
      "cell_type": "code",
      "source": [
        "for doc in documents:\n",
        "  related_products_csv+=f\"{doc['name']}, {doc['image']}, {doc['price']}, {doc['url']} ,\\n\"\n",
        ""
      ],
      "metadata": {
        "id": "b1dxQ6ARwL3o",
        "executionInfo": {
          "status": "ok",
          "timestamp": 1718670683037,
          "user_tz": 240,
          "elapsed": 3,
          "user": {
            "displayName": "",
            "userId": ""
          }
        }
      },
      "execution_count": 47,
      "outputs": []
    },
    {
      "cell_type": "code",
      "source": [
        "print(related_products_csv)"
      ],
      "metadata": {
        "colab": {
          "base_uri": "https://localhost:8080/"
        },
        "id": "L171QDSHwOjO",
        "executionInfo": {
          "status": "ok",
          "timestamp": 1718670690581,
          "user_tz": 240,
          "elapsed": 6,
          "user": {
            "displayName": "",
            "userId": ""
          }
        },
        "outputId": "908df82a-ec5d-4d3f-e209-e3160d303d46"
      },
      "execution_count": 48,
      "outputs": [
        {
          "output_type": "stream",
          "name": "stdout",
          "text": [
            "name, image, price, url\n",
            "Cleaning Steam Wand, https://www.breville.com/content/dam/breville/ca/catalog/products/images/sp0/sp0003247/tile.jpg, 6.95, https://www.breville.com/us/en/parts-accessories/parts/sp0003247.html?sku=SP0003247 ,\n",
            "Spoon Tamping 50mm, https://assets.breville.com/cdn-cgi/image/width=400,format=auto/Spare+Parts+/Espresso+Machines/ESP8/SP0003243/SP0003243_IMAGE1_400X400.jpg, 8.95, https://www.breville.com/us/en/parts-accessories/parts/sp0003243.html?sku=SP0003243 ,\n",
            "Spout Juice Small (From 0637 to 1041 PDC), https://www.breville.com/content/dam/breville/ca/catalog/products/images/sp0/sp0010718/tile.jpg, 10.95, https://www.breville.com/us/en/parts-accessories/parts/sp0010718.html?sku=SP0010718 ,\n",
            "\n"
          ]
        }
      ]
    },
    {
      "cell_type": "code",
      "source": [
        "#related products\n",
        "text_message={\n",
        "    \"type\": \"text\",\n",
        "    \"text\": f\" what we have in this image? Share the URL and price for a replacement. {related_products_csv}\"\n",
        "}\n",
        "image_message={\n",
        "    \"type\": \"image_url\",\n",
        "    \"image_url\": {\"url\": \"image.png\"}\n",
        "\n",
        "}\n"
      ],
      "metadata": {
        "id": "uklE68hCwYdA",
        "executionInfo": {
          "status": "ok",
          "timestamp": 1718671957234,
          "user_tz": 240,
          "elapsed": 165,
          "user": {
            "displayName": "",
            "userId": ""
          }
        }
      },
      "execution_count": 54,
      "outputs": []
    },
    {
      "cell_type": "code",
      "source": [
        "message=HumanMessage(content=[text_message, image_message])"
      ],
      "metadata": {
        "id": "QLrxWZDU0if6",
        "executionInfo": {
          "status": "ok",
          "timestamp": 1718672000680,
          "user_tz": 240,
          "elapsed": 197,
          "user": {
            "displayName": "",
            "userId": ""
          }
        }
      },
      "execution_count": 61,
      "outputs": []
    },
    {
      "cell_type": "code",
      "source": [
        "chat=ChatVertexAI(model_name=\"gemini-1.0-pro-vision\")"
      ],
      "metadata": {
        "id": "ZOXuS2HP0pcI",
        "executionInfo": {
          "status": "ok",
          "timestamp": 1718671961405,
          "user_tz": 240,
          "elapsed": 3,
          "user": {
            "displayName": "",
            "userId": ""
          }
        }
      },
      "execution_count": 56,
      "outputs": []
    },
    {
      "cell_type": "code",
      "source": [
        "output=chat([message])"
      ],
      "metadata": {
        "id": "DN_eU3QW0vsX",
        "executionInfo": {
          "status": "ok",
          "timestamp": 1718671968001,
          "user_tz": 240,
          "elapsed": 5996,
          "user": {
            "displayName": "",
            "userId": ""
          }
        }
      },
      "execution_count": 57,
      "outputs": []
    },
    {
      "cell_type": "code",
      "source": [
        "output.content"
      ],
      "metadata": {
        "colab": {
          "base_uri": "https://localhost:8080/",
          "height": 71
        },
        "id": "yFBehXUU1PEx",
        "executionInfo": {
          "status": "ok",
          "timestamp": 1718671990847,
          "user_tz": 240,
          "elapsed": 163,
          "user": {
            "displayName": "",
            "userId": ""
          }
        },
        "outputId": "ab6bc70e-d417-442d-c01a-c2d68e6892bf"
      },
      "execution_count": 60,
      "outputs": [
        {
          "output_type": "execute_result",
          "data": {
            "text/plain": [
              "' This is a  Portafilter Basket - Single Wall (From 0637 to 1041 PDC). The price is 12.95 and the URL is https://www.breville.com/us/en/parts-accessories/parts/sp0003244.html?sku=SP0003244'"
            ],
            "application/vnd.google.colaboratory.intrinsic+json": {
              "type": "string"
            }
          },
          "metadata": {},
          "execution_count": 60
        }
      ]
    },
    {
      "cell_type": "code",
      "source": [],
      "metadata": {
        "id": "qvSgZyqL1Sik"
      },
      "execution_count": null,
      "outputs": []
    }
  ]
}