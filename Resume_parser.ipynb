{
 "cells": [
  {
   "cell_type": "code",
   "execution_count": 1,
   "metadata": {},
   "outputs": [
    {
     "name": "stderr",
     "output_type": "stream",
     "text": [
      "c:\\Users\\satya\\anaconda3\\envs\\transformers\\lib\\site-packages\\tqdm\\auto.py:21: TqdmWarning: IProgress not found. Please update jupyter and ipywidgets. See https://ipywidgets.readthedocs.io/en/stable/user_install.html\n",
      "  from .autonotebook import tqdm as notebook_tqdm\n"
     ]
    },
    {
     "name": "stdout",
     "output_type": "stream",
     "text": [
      "WARNING:tensorflow:From c:\\Users\\satya\\anaconda3\\envs\\transformers\\lib\\site-packages\\keras\\src\\losses.py:2976: The name tf.losses.sparse_softmax_cross_entropy is deprecated. Please use tf.compat.v1.losses.sparse_softmax_cross_entropy instead.\n",
      "\n"
     ]
    }
   ],
   "source": [
    "import os\n",
    "import sys\n",
    "import transformers\n",
    "import torch\n",
    "from datasets import load_dataset\n",
    "from transformers import AutoTokenizer\n",
    "from transformers import TFAutoModelForSeq2SeqLM\n",
    "from transformers import DataCollatorForSeq2Seq\n",
    "from transformers import AdamWeightDecay\n",
    "from transformers import BertTokenizerFast\n",
    "import tensorflow as tf\n",
    "\n",
    "from transformers import AutoModelForTokenClassification,AutoModelForSequenceClassification, AutoTokenizer, Trainer, TrainingArguments, DataCollator"
   ]
  },
  {
   "cell_type": "code",
   "execution_count": 2,
   "metadata": {},
   "outputs": [],
   "source": [
    "from datasets import load_dataset\n",
    "csv='C:/Users/satya/Downloads/Resume.csv/Resume.csv'\n",
    "resume_ds=load_dataset('csv',data_files=csv)"
   ]
  },
  {
   "cell_type": "code",
   "execution_count": 3,
   "metadata": {},
   "outputs": [
    {
     "data": {
      "text/plain": [
       "DatasetDict({\n",
       "    train: Dataset({\n",
       "        features: ['ID', 'Resume_str', 'Resume_html', 'Category'],\n",
       "        num_rows: 2484\n",
       "    })\n",
       "})"
      ]
     },
     "execution_count": 3,
     "metadata": {},
     "output_type": "execute_result"
    }
   ],
   "source": [
    "resume_ds"
   ]
  },
  {
   "cell_type": "code",
   "execution_count": 20,
   "metadata": {},
   "outputs": [
    {
     "name": "stderr",
     "output_type": "stream",
     "text": [
      "Some weights of BertForSequenceClassification were not initialized from the model checkpoint at bert-base-uncased and are newly initialized: ['classifier.bias', 'classifier.weight']\n",
      "You should probably TRAIN this model on a down-stream task to be able to use it for predictions and inference.\n"
     ]
    }
   ],
   "source": [
    "\n",
    "model=AutoModelForSequenceClassification.from_pretrained('bert-base-uncased', num_labels=24)\n",
    "tokenizer=BertTokenizerFast.from_pretrained('bert-base-uncased')"
   ]
  },
  {
   "cell_type": "code",
   "execution_count": 21,
   "metadata": {},
   "outputs": [
    {
     "data": {
      "text/plain": [
       "{'ID': 16852973,\n",
       " 'Resume_str': \"         HR ADMINISTRATOR/MARKETING ASSOCIATE\\n\\nHR ADMINISTRATOR       Summary     Dedicated Customer Service Manager with 15+ years of experience in Hospitality and Customer Service Management.   Respected builder and leader of customer-focused teams; strives to instill a shared, enthusiastic commitment to customer service.         Highlights         Focused on customer satisfaction  Team management  Marketing savvy  Conflict resolution techniques     Training and development  Skilled multi-tasker  Client relations specialist           Accomplishments      Missouri DOT Supervisor Training Certification  Certified by IHG in Customer Loyalty and Marketing by Segment   Hilton Worldwide General Manager Training Certification  Accomplished Trainer for cross server hospitality systems such as    Hilton OnQ  ,   Micros    Opera PMS   , Fidelio    OPERA    Reservation System (ORS) ,   Holidex    Completed courses and seminars in customer service, sales strategies, inventory control, loss prevention, safety, time management, leadership and performance assessment.        Experience      HR Administrator/Marketing Associate\\n\\nHR Administrator     Dec 2013   to   Current      Company Name   －   City  ,   State     Helps to develop policies, directs and coordinates activities such as employment, compensation, labor relations, benefits, training, and employee services.  Prepares employee separation notices and related documentation  Keeps records of benefits plans participation such as insurance and pension plan, personnel transactions such as hires, promotions, transfers, performance reviews, and terminations, and employee statistics for government reporting.  Advises management in appropriate resolution of employee relations issues.  Administers benefits programs such as life, health, dental, insurance, pension plans, vacation, sick leave, leave of absence, and employee assistance.     Marketing Associate \\xa0   Designed and created marketing collateral for sales meetings, trade shows and company executives.  Managed the in-house advertising program consisting of print and media collateral pieces.  Assisted in the complete design and launch of the company's website in 2 months.  Created an official company page on Facebook to facilitate interaction with customers.  Analyzed ratings and programming features of competitors to evaluate the effectiveness of marketing strategies.         Advanced Medical Claims Analyst     Mar 2012   to   Dec 2013      Company Name   －   City  ,   State     Reviewed medical bills for the accuracy of the treatments, tests, and hospital stays prior to sanctioning the claims.  Trained to interpret the codes (ICD-9, CPT) and terminology commonly used in medical billing to fully understand the paperwork that is submitted by healthcare providers.  Required to have organizational and analytical skills as well as computer skills, knowledge of medical terminology and procedures, statistics, billing standards, data analysis and laws regarding medical billing.         Assistant General Manager     Jun 2010   to   Dec 2010      Company Name   －   City  ,   State     Performed duties including but not limited to, budgeting and financial management, accounting, human resources, payroll and purchasing.  Established and maintained close working relationships with all departments of the hotel to ensure maximum operation, productivity, morale and guest service.  Handled daily operations and reported directly to the corporate office.  Hired and trained staff on overall objectives and goals with an emphasis on high customer service.  Marketing and Advertising, working on public relations with the media, government and local businesses and Chamber of Commerce.         Executive Support / Marketing Assistant     Jul 2007   to   Jun 2010      Company Name   －   City  ,   State     Provided assistance to various department heads - Executive, Marketing, Customer Service, Human Resources.  Managed front-end operations to ensure friendly and efficient transactions.  Ensured the swift resolution of customer issues to preserve customer loyalty while complying with company policies.  Exemplified the second-to-none customer service delivery in all interactions with customers and potential clients.         Reservation & Front Office Manager     Jun 2004   to   Jul 2007      Company Name   －   City  ,   State          Owner/ Partner     Dec 2001   to   May 2004      Company Name   －   City  ,   State          Price Integrity Coordinator     Aug 1999   to   Dec 2001      Company Name   －   City  ,   State          Education      N/A  ,   Business Administration   1999     Jefferson College   －   City  ,   State       Business Administration  Marketing / Advertising         High School Diploma  ,   College Prep. studies   1998     Sainte Genevieve Senior High   －   City  ,   State       Awarded American Shrubel Leadership Scholarship to Jefferson College         Skills     Accounting, ads, advertising, analytical skills, benefits, billing, budgeting, clients, Customer Service, data analysis, delivery, documentation, employee relations, financial management, government relations, Human Resources, insurance, labor relations, layout, Marketing, marketing collateral, medical billing, medical terminology, office, organizational, payroll, performance reviews, personnel, policies, posters, presentations, public relations, purchasing, reporting, statistics, website.    \",\n",
       " 'Resume_html': '<div class=\"fontsize fontface vmargins hmargins linespacing pagesize\" id=\"document\"> <div class=\"section firstsection\" id=\"SECTION_NAME500375979\" style=\"\\n      padding-top:0px;\\n    \"> <div class=\"paragraph PARAGRAPH_NAME firstparagraph\" id=\"PARAGRAPH_500375979_1_326506904\" style=\"\\n      padding-top:0px;\\n    \"> <div class=\"name\" itemprop=\"name\"> <span class=\"field fName\" id=\"500375979FNAM1\"> </span> <span> </span> <span class=\"field\" id=\"500375979LNAM1\"> HR ADMINISTRATOR/MARKETING ASSOCIATE\\n\\nHR ADMINISTRATOR</span> </div> </div> </div> <div class=\"section\" id=\"SECTION_SUMM500375981\" style=\"\\n      padding-top:0px;\\n    \"> <div class=\"heading bottomborder\"> <div class=\"sectiontitle\" id=\"SECTNAME_SUMM500375981\"> Summary</div> </div> <div class=\"paragraph firstparagraph\" id=\"PARAGRAPH_500375981_1_326506917\" style=\"\\n      padding-top:0px;\\n    \"> <div class=\"field singlecolumn\" id=\"500375981FRFM1\"> <p align=\"LEFT\"> Dedicated Customer Service Manager with 15+ years of experience in Hospitality and Customer Service Management. </p> <p align=\"LEFT\"> Respected builder and leader of customer-focused teams; strives to instill a shared, enthusiastic commitment to customer service.  </p> </div> </div> </div> <div class=\"section\" id=\"SECTION_HILT500375982\" style=\"\\n      padding-top:0px;\\n    \"> <div class=\"heading bottomborder\"> <div class=\"sectiontitle\" id=\"SECTNAME_HILT500375982\"> Highlights</div> </div> <div class=\"paragraph firstparagraph\" id=\"PARAGRAPH_500375982_1_326509244\" style=\"\\n      padding-top:0px;\\n    \"> <div class=\"singlecolumn maincolumn\"> <table class=\"twocol\"> <tbody> <tr> <td class=\"field twocol_1\" id=\"500375982SKC11\"> <p align=\"CENTER\"> Focused on customer satisfaction</p> <p align=\"CENTER\"> Team management</p> <p align=\"CENTER\"> Marketing savvy</p> <p align=\"CENTER\"> Conflict resolution techniques</p> <br/> </td> <td class=\"field twocol_2\" id=\"500375982SKC21\"> <p align=\"CENTER\"> Training and development</p> <p align=\"CENTER\"> Skilled multi-tasker</p> <p align=\"CENTER\"> Client relations specialist</p> </td> </tr> </tbody> </table> </div> </div> </div> <div class=\"section\" id=\"SECTION_ACCM500375993\" style=\"\\n      padding-top:0px;\\n    \"> <div class=\"heading bottomborder\"> <div class=\"sectiontitle\" id=\"SECTNAME_ACCM500375993\"> Accomplishments</div> </div> <div class=\"paragraph firstparagraph\" id=\"PARAGRAPH_500375993_1_326506914\" style=\"\\n      padding-top:0px;\\n    \"> <div class=\"field singlecolumn\" id=\"500375993FRFM1\"> <ul> <li> Missouri DOT Supervisor Training Certification</li> <li> Certified by IHG in Customer Loyalty and Marketing by Segment </li> <li> Hilton Worldwide General Manager Training Certification</li> <li> Accomplished Trainer for cross server hospitality systems such as  <b> <u> Hilton OnQ</u> </b> ,  <u> Micros </u> <b> <u> Opera PMS</u> </b> <u> , Fidelio </u> <b> <u> OPERA</u> </b> <u>  Reservation System (ORS)</u> , <b> <u> Holidex</u> </b> </li> <li> Completed courses and seminars in customer service, sales strategies, inventory control, loss prevention, safety, time management, leadership and performance assessment.</li> </ul> </div> </div> </div> <div class=\"section\" id=\"SECTION_EXPR500375983\" style=\"\\n      padding-top:0px;\\n    \"> <div class=\"heading bottomborder\"> <div class=\"sectiontitle\" id=\"SECTNAME_EXPR500375983\"> Experience</div> </div> <div class=\"paragraph firstparagraph\" id=\"PARAGRAPH_500375983_1_326506906\" itemscope=\"\" itemtype=\"https://schema.org/Organization\" style=\"\\n      padding-top:0px;\\n    \"> <div class=\"singlecolumn\"> <span class=\"paddedline\"> <span class=\"jobtitle\" id=\"500375983JTIT1\"> HR Administrator/Marketing Associate\\n\\nHR Administrator</span> <span> </span> <span class=\"datesWrapper\"> <span class=\"jobdates\" format=\"%b %Y\" id=\"500375983JSTD1\"> Dec 2013</span> <span>  to </span> <span class=\"jobdates\" format=\"%b %Y\" id=\"500375983EDDT1\"> Current</span> <br/> </span> </span> <span class=\"paddedline\" itemscope=\"\" itemtype=\"https://schema.org/postalAddress\"> <span class=\"companyname\" id=\"500375983COMP1\" itemprop=\"name\"> Company Name</span> <span>  － </span> <span class=\"joblocation jobcity\" id=\"500375983JCIT1\" itemprop=\"addressLocality\"> City</span> <span> , </span> <span class=\"joblocation jobstate\" id=\"500375983JSTA1\" itemprop=\"addressRegion\"> State</span> </span> <span class=\"jobline\" id=\"500375983JDES1\" itemprop=\"description\"> <ul> <li> Helps to develop policies, directs and coordinates activities such as employment, compensation, labor relations, benefits, training, and employee services.</li> <li> Prepares employee separation notices and related documentation</li> <li> Keeps records of benefits plans participation such as insurance and pension plan, personnel transactions such as hires, promotions, transfers, performance reviews, and terminations, and employee statistics for government reporting.</li> <li> Advises management in appropriate resolution of employee relations issues.</li> <li> Administers benefits programs such as life, health, dental, insurance, pension plans, vacation, sick leave, leave of absence, and employee assistance.</li> </ul> <br/> <p align=\"LEFT\"> <b> Marketing Associate</b> \\xa0</p> <ul> <li> Designed and created marketing collateral for sales meetings, trade shows and company executives.</li> <li> Managed the in-house advertising program consisting of print and media collateral pieces.</li> <li> Assisted in the complete design and launch of the company\\'s website in 2 months.</li> <li> Created an official company page on Facebook to facilitate interaction with customers.</li> <li> Analyzed ratings and programming features of competitors to evaluate the effectiveness of marketing strategies.</li> </ul> </span> </div> </div> <div class=\"paragraph\" id=\"PARAGRAPH_500375983_2_326506907\" itemscope=\"\" itemtype=\"https://schema.org/Organization\" style=\"\\n      padding-top:10px;\\n    \"> <div class=\"singlecolumn\"> <span class=\"paddedline\"> <span class=\"jobtitle\" id=\"500375983JTIT2\"> Advanced Medical Claims Analyst</span> <span> </span> <span class=\"datesWrapper\"> <span class=\"jobdates\" format=\"%b %Y\" id=\"500375983JSTD2\"> Mar 2012</span> <span>  to </span> <span class=\"jobdates\" format=\"%b %Y\" id=\"500375983EDDT2\"> Dec 2013</span> <br/> </span> </span> <span class=\"paddedline\" itemscope=\"\" itemtype=\"https://schema.org/postalAddress\"> <span class=\"companyname\" id=\"500375983COMP2\" itemprop=\"name\"> Company Name</span> <span>  － </span> <span class=\"joblocation jobcity\" id=\"500375983JCIT2\" itemprop=\"addressLocality\"> City</span> <span> , </span> <span class=\"joblocation jobstate\" id=\"500375983JSTA2\" itemprop=\"addressRegion\"> State</span> </span> <span class=\"jobline\" id=\"500375983JDES2\" itemprop=\"description\"> <ul> <li> Reviewed medical bills for the accuracy of the treatments, tests, and hospital stays prior to sanctioning the claims.</li> <li> Trained to interpret the codes (ICD-9, CPT) and terminology commonly used in medical billing to fully understand the paperwork that is submitted by healthcare providers.</li> <li> Required to have organizational and analytical skills as well as computer skills, knowledge of medical terminology and procedures, statistics, billing standards, data analysis and laws regarding medical billing.</li> </ul> </span> </div> </div> <div class=\"paragraph\" id=\"PARAGRAPH_500375983_3_326506908\" itemscope=\"\" itemtype=\"https://schema.org/Organization\" style=\"\\n      padding-top:15px;\\n    \"> <div class=\"singlecolumn\"> <span class=\"paddedline\"> <span class=\"jobtitle\" id=\"500375983JTIT3\"> Assistant General Manager</span> <span> </span> <span class=\"datesWrapper\"> <span class=\"jobdates\" format=\"%b %Y\" id=\"500375983JSTD3\"> Jun 2010</span> <span>  to </span> <span class=\"jobdates\" format=\"%b %Y\" id=\"500375983EDDT3\"> Dec 2010</span> <br/> </span> </span> <span class=\"paddedline\" itemscope=\"\" itemtype=\"https://schema.org/postalAddress\"> <span class=\"companyname\" id=\"500375983COMP3\" itemprop=\"name\"> Company Name</span> <span>  － </span> <span class=\"joblocation jobcity\" id=\"500375983JCIT3\" itemprop=\"addressLocality\"> City</span> <span> , </span> <span class=\"joblocation jobstate\" id=\"500375983JSTA3\" itemprop=\"addressRegion\"> State</span> </span> <span class=\"jobline\" id=\"500375983JDES3\" itemprop=\"description\"> <ul> <li> Performed duties including but not limited to, budgeting and financial management, accounting, human resources, payroll and purchasing.</li> <li> Established and maintained close working relationships with all departments of the hotel to ensure maximum operation, productivity, morale and guest service.</li> <li> Handled daily operations and reported directly to the corporate office.</li> <li> Hired and trained staff on overall objectives and goals with an emphasis on high customer service.</li> <li> Marketing and Advertising, working on public relations with the media, government and local businesses and Chamber of Commerce.</li> </ul> </span> </div> </div> <div class=\"paragraph\" id=\"PARAGRAPH_500375983_4_326506910\" itemscope=\"\" itemtype=\"https://schema.org/Organization\" style=\"\\n      padding-top:5px;\\n    \"> <div class=\"singlecolumn\"> <span class=\"paddedline\"> <span class=\"jobtitle\" id=\"500375983JTIT4\"> Executive Support / Marketing Assistant</span> <span> </span> <span class=\"datesWrapper\"> <span class=\"jobdates\" format=\"%b %Y\" id=\"500375983JSTD4\"> Jul 2007</span> <span>  to </span> <span class=\"jobdates\" format=\"%b %Y\" id=\"500375983EDDT4\"> Jun 2010</span> <br/> </span> </span> <span class=\"paddedline\" itemscope=\"\" itemtype=\"https://schema.org/postalAddress\"> <span class=\"companyname\" id=\"500375983COMP4\" itemprop=\"name\"> Company Name</span> <span>  － </span> <span class=\"joblocation jobcity\" id=\"500375983JCIT4\" itemprop=\"addressLocality\"> City</span> <span> , </span> <span class=\"joblocation jobstate\" id=\"500375983JSTA4\" itemprop=\"addressRegion\"> State</span> </span> <span class=\"jobline\" id=\"500375983JDES4\" itemprop=\"description\"> <ul> <li> Provided assistance to various department heads - Executive, Marketing, Customer Service, Human Resources.</li> <li> Managed front-end operations to ensure friendly and efficient transactions.</li> <li> Ensured the swift resolution of customer issues to preserve customer loyalty while complying with company policies.</li> <li> Exemplified the second-to-none customer service delivery in all interactions with customers and potential clients.</li> </ul> </span> </div> </div> <div class=\"paragraph\" id=\"PARAGRAPH_500375983_5_326506911\" itemscope=\"\" itemtype=\"https://schema.org/Organization\" style=\"\\n      padding-top:10px;\\n    \"> <div class=\"singlecolumn\"> <span class=\"paddedline\"> <span class=\"jobtitle\" id=\"500375983JTIT5\"> Reservation &amp; Front Office Manager</span> <span> </span> <span class=\"datesWrapper\"> <span class=\"jobdates\" format=\"%b %Y\" id=\"500375983JSTD5\"> Jun 2004</span> <span>  to </span> <span class=\"jobdates\" format=\"%b %Y\" id=\"500375983EDDT5\"> Jul 2007</span> <br/> </span> </span> <span class=\"paddedline\" itemscope=\"\" itemtype=\"https://schema.org/postalAddress\"> <span class=\"companyname\" id=\"500375983COMP5\" itemprop=\"name\"> Company Name</span> <span>  － </span> <span class=\"joblocation jobcity\" id=\"500375983JCIT5\" itemprop=\"addressLocality\"> City</span> <span> , </span> <span class=\"joblocation jobstate\" id=\"500375983JSTA5\" itemprop=\"addressRegion\"> State</span> </span> <span class=\"jobline\" id=\"500375983JDES5\" itemprop=\"description\"> </span> </div> </div> <div class=\"paragraph\" id=\"PARAGRAPH_500375983_6_326506912\" itemscope=\"\" itemtype=\"https://schema.org/Organization\" style=\"\\n      padding-top:10px;\\n    \"> <div class=\"singlecolumn\"> <span class=\"paddedline\"> <span class=\"jobtitle\" id=\"500375983JTIT6\"> Owner/ Partner</span> <span> </span> <span class=\"datesWrapper\"> <span class=\"jobdates\" format=\"%b %Y\" id=\"500375983JSTD6\"> Dec 2001</span> <span>  to </span> <span class=\"jobdates\" format=\"%b %Y\" id=\"500375983EDDT6\"> May 2004</span> <br/> </span> </span> <span class=\"paddedline\" itemscope=\"\" itemtype=\"https://schema.org/postalAddress\"> <span class=\"companyname\" id=\"500375983COMP6\" itemprop=\"name\"> Company Name</span> <span>  － </span> <span class=\"joblocation jobcity\" id=\"500375983JCIT6\" itemprop=\"addressLocality\"> City</span> <span> , </span> <span class=\"joblocation jobstate\" id=\"500375983JSTA6\" itemprop=\"addressRegion\"> State</span> </span> <span class=\"jobline\" id=\"500375983JDES6\" itemprop=\"description\"> </span> </div> </div> <div class=\"paragraph\" id=\"PARAGRAPH_500375983_7_326506913\" itemscope=\"\" itemtype=\"https://schema.org/Organization\" style=\"\\n      padding-top:10px;\\n    \"> <div class=\"singlecolumn\"> <span class=\"paddedline\"> <span class=\"jobtitle\" id=\"500375983JTIT7\"> Price Integrity Coordinator</span> <span> </span> <span class=\"datesWrapper\"> <span class=\"jobdates\" format=\"%b %Y\" id=\"500375983JSTD7\"> Aug 1999</span> <span>  to </span> <span class=\"jobdates\" format=\"%b %Y\" id=\"500375983EDDT7\"> Dec 2001</span> <br/> </span> </span> <span class=\"paddedline\" itemscope=\"\" itemtype=\"https://schema.org/postalAddress\"> <span class=\"companyname\" id=\"500375983COMP7\" itemprop=\"name\"> Company Name</span> <span>  － </span> <span class=\"joblocation jobcity\" id=\"500375983JCIT7\" itemprop=\"addressLocality\"> City</span> <span> , </span> <span class=\"joblocation jobstate\" id=\"500375983JSTA7\" itemprop=\"addressRegion\"> State</span> </span> <span class=\"jobline\" id=\"500375983JDES7\" itemprop=\"description\"> </span> </div> </div> </div> <div class=\"section\" id=\"SECTION_EDUC500400498\" style=\"\\n      padding-top:0px;\\n    \"> <div class=\"heading bottomborder\"> <div class=\"sectiontitle\" id=\"SECTNAME_EDUC500400498\"> Education</div> </div> <div class=\"paragraph firstparagraph\" id=\"PARAGRAPH_500400498_1_326523310\" itemscope=\"\" itemtype=\"https://schema.org/EducationalOrganization\" style=\"\\n      padding-top:0px;\\n    \"> <div class=\"singlecolumn\"> <span class=\"paddedline\" itemprop=\"description\"> <span class=\"degree\" id=\"500400498DGRE1\" itemprop=\"name\"> N/A</span> <span> , </span> <span class=\"programline\" id=\"500400498STUY1\"> Business Administration</span> <span class=\"datesWrapper\"> <span class=\"jobdates\" id=\"500400498GRYR1\"> 1999</span> </span> </span> <span class=\"paddedline\"> <span class=\"companyname companyname_educ\" id=\"500400498SCHO1\" itemprop=\"name\"> Jefferson College</span> <span>  － </span> <span class=\"joblocation jobcity\" id=\"500400498SCIT1\"> City</span> <span> , </span> <span class=\"joblocation jobstate\" id=\"500400498SSTA1\"> State</span> <span class=\"joblocation jobstate\" id=\"500400498SCNT1\"> </span> </span> <span class=\"field\" id=\"500400498FRFM1\"> <ul> <li> Business Administration</li> <li> Marketing / Advertising</li> </ul> </span> </div> </div> <div class=\"paragraph\" id=\"PARAGRAPH_500400498_2_326522471\" itemscope=\"\" itemtype=\"https://schema.org/EducationalOrganization\" style=\"\\n      padding-top:0px;\\n    \"> <div class=\"singlecolumn\"> <span class=\"paddedline\" itemprop=\"description\"> <span class=\"degree\" id=\"500400498DGRE2\" itemprop=\"name\"> High School Diploma</span> <span> , </span> <span class=\"programline\" id=\"500400498STUY2\"> College Prep. studies</span> <span class=\"datesWrapper\"> <span class=\"jobdates\" id=\"500400498GRYR2\"> 1998</span> </span> </span> <span class=\"paddedline\"> <span class=\"companyname companyname_educ\" id=\"500400498SCHO2\" itemprop=\"name\"> Sainte Genevieve Senior High</span> <span>  － </span> <span class=\"joblocation jobcity\" id=\"500400498SCIT2\"> City</span> <span> , </span> <span class=\"joblocation jobstate\" id=\"500400498SSTA2\"> State</span> <span class=\"joblocation jobstate\" id=\"500400498SCNT2\"> </span> </span> <span class=\"field\" id=\"500400498FRFM2\"> <ul> <li> Awarded American Shrubel Leadership Scholarship to Jefferson College</li> </ul> </span> </div> </div> </div> <div class=\"section\" id=\"SECTION_SKLL500375994\" style=\"\\n      padding-top:0px;\\n    \"> <div class=\"heading bottomborder\"> <div class=\"sectiontitle\" id=\"SECTNAME_SKLL500375994\"> Skills</div> </div> <div class=\"paragraph firstparagraph\" id=\"PARAGRAPH_500375994_1_326506918\" style=\"\\n      padding-top:0px;\\n    \"> <div class=\"field singlecolumn\" id=\"500375994FRFM1\"> <p align=\"LEFT\"> Accounting, ads, advertising, analytical skills, benefits, billing, budgeting, clients, Customer Service, data analysis, delivery, documentation, employee relations, financial management, government relations, Human Resources, insurance, labor relations, layout, Marketing, marketing collateral, medical billing, medical terminology, office, organizational, payroll, performance reviews, personnel, policies, posters, presentations, public relations, purchasing, reporting, statistics, website.</p> </div> </div> </div> </div>',\n",
       " 'Category': 'HR'}"
      ]
     },
     "execution_count": 21,
     "metadata": {},
     "output_type": "execute_result"
    }
   ],
   "source": [
    "example_text=resume_ds['train'][0]\n",
    "example_text"
   ]
  },
  {
   "cell_type": "code",
   "execution_count": 22,
   "metadata": {},
   "outputs": [],
   "source": [
    "tokenized_input=tokenizer(example_text['Resume_str'], is_split_into_words=False,truncation=True)"
   ]
  },
  {
   "cell_type": "code",
   "execution_count": 23,
   "metadata": {},
   "outputs": [
    {
     "data": {
      "text/plain": [
       "{'input_ids': [101, 17850, 8911, 1013, 5821, 5482, 17850, 8911, 12654, 4056, 8013, 2326, 3208, 2007, 2321, 1009, 2086, 1997, 3325, 1999, 15961, 1998, 8013, 2326, 2968, 1012, 9768, 12508, 1998, 3003, 1997, 8013, 1011, 4208, 2780, 1025, 29453, 2015, 2000, 16021, 28345, 1037, 4207, 1010, 14727, 8426, 2000, 8013, 2326, 1012, 11637, 4208, 2006, 8013, 9967, 2136, 2968, 5821, 7842, 2615, 10736, 4736, 5813, 5461, 2731, 1998, 2458, 10571, 4800, 1011, 4708, 2121, 7396, 4262, 8325, 17571, 5284, 11089, 12366, 2731, 10618, 7378, 2011, 1045, 25619, 1999, 8013, 9721, 1998, 5821, 2011, 6903, 15481, 4969, 2236, 3208, 2731, 10618, 8885, 10365, 2005, 2892, 8241, 15961, 3001, 2107, 2004, 15481, 2006, 4160, 1010, 12702, 2015, 3850, 7610, 2015, 1010, 26000, 12798, 3850, 11079, 2291, 1006, 2030, 2015, 1007, 1010, 7570, 24198, 2595, 2949, 5352, 1998, 17239, 1999, 8013, 2326, 1010, 4341, 9942, 1010, 12612, 2491, 1010, 3279, 9740, 1010, 3808, 1010, 2051, 2968, 1010, 4105, 1998, 2836, 7667, 1012, 3325, 17850, 8911, 1013, 5821, 5482, 17850, 8911, 11703, 2286, 2000, 2783, 2194, 2171, 1990, 2103, 1010, 2110, 7126, 2000, 4503, 6043, 1010, 23303, 1998, 12093, 3450, 2107, 2004, 6107, 1010, 9430, 1010, 4450, 4262, 1010, 6666, 1010, 2731, 1010, 1998, 7904, 2578, 1012, 20776, 7904, 8745, 14444, 1998, 3141, 12653, 7906, 2636, 1997, 6666, 3488, 6577, 2107, 2004, 5427, 1998, 11550, 2933, 1010, 5073, 11817, 2107, 2004, 28208, 1010, 15365, 1010, 15210, 1010, 2836, 4391, 1010, 1998, 18287, 2015, 1010, 1998, 7904, 6747, 2005, 2231, 7316, 1012, 25453, 2968, 1999, 6413, 5813, 1997, 7904, 4262, 3314, 1012, 21497, 2015, 6666, 3454, 2107, 2004, 2166, 1010, 2740, 1010, 11394, 1010, 5427, 1010, 11550, 3488, 1010, 10885, 1010, 5305, 2681, 1010, 2681, 1997, 6438, 1010, 1998, 7904, 5375, 1012, 5821, 5482, 2881, 1998, 2580, 5821, 24172, 2005, 4341, 6295, 1010, 3119, 3065, 1998, 2194, 12706, 1012, 3266, 1996, 1999, 1011, 2160, 6475, 2565, 5398, 1997, 6140, 1998, 2865, 24172, 4109, 1012, 7197, 1999, 1996, 3143, 2640, 1998, 4888, 1997, 1996, 2194, 1005, 1055, 4037, 1999, 1016, 2706, 1012, 2580, 2019, 2880, 2194, 3931, 2006, 9130, 2000, 10956, 8290, 2007, 6304, 1012, 16578, 8599, 1998, 4730, 2838, 1997, 10159, 2000, 16157, 1996, 12353, 1997, 5821, 9942, 1012, 3935, 2966, 4447, 12941, 9388, 2262, 2000, 11703, 2286, 2194, 2171, 1990, 2103, 1010, 2110, 8182, 2966, 8236, 2005, 1996, 10640, 1997, 1996, 13441, 1010, 5852, 1010, 1998, 2902, 12237, 3188, 2000, 2624, 7542, 2075, 1996, 4447, 1012, 4738, 2000, 17841, 1996, 9537, 1006, 24582, 2094, 1011, 1023, 1010, 18133, 2102, 1007, 1998, 18444, 4141, 2109, 1999, 2966, 25640, 2000, 3929, 3305, 1996, 17397, 2008, 2003, 7864, 2011, 9871, 11670, 1012, 3223, 2000, 2031, 13296, 1998, 17826, 4813, 2004, 2092, 2004, 3274, 4813, 1010, 3716, 1997, 2966, 18444, 1998, 8853, 1010, 6747, 1010, 25640, 4781, 1010, 2951, 4106, 1998, 4277, 4953, 2966, 25640, 1012, 3353, 2236, 3208, 12022, 2230, 2000, 11703, 2230, 2194, 2171, 1990, 2103, 1010, 2110, 2864, 5704, 2164, 2021, 2025, 3132, 2000, 1010, 5166, 2075, 1998, 3361, 2968, 1010, 9529, 1010, 2529, 4219, 1010, 26854, 1998, 13131, 1012, 2511, 1998, 5224, 2485, 2551, 6550, 2007, 2035, 102], 'token_type_ids': [0, 0, 0, 0, 0, 0, 0, 0, 0, 0, 0, 0, 0, 0, 0, 0, 0, 0, 0, 0, 0, 0, 0, 0, 0, 0, 0, 0, 0, 0, 0, 0, 0, 0, 0, 0, 0, 0, 0, 0, 0, 0, 0, 0, 0, 0, 0, 0, 0, 0, 0, 0, 0, 0, 0, 0, 0, 0, 0, 0, 0, 0, 0, 0, 0, 0, 0, 0, 0, 0, 0, 0, 0, 0, 0, 0, 0, 0, 0, 0, 0, 0, 0, 0, 0, 0, 0, 0, 0, 0, 0, 0, 0, 0, 0, 0, 0, 0, 0, 0, 0, 0, 0, 0, 0, 0, 0, 0, 0, 0, 0, 0, 0, 0, 0, 0, 0, 0, 0, 0, 0, 0, 0, 0, 0, 0, 0, 0, 0, 0, 0, 0, 0, 0, 0, 0, 0, 0, 0, 0, 0, 0, 0, 0, 0, 0, 0, 0, 0, 0, 0, 0, 0, 0, 0, 0, 0, 0, 0, 0, 0, 0, 0, 0, 0, 0, 0, 0, 0, 0, 0, 0, 0, 0, 0, 0, 0, 0, 0, 0, 0, 0, 0, 0, 0, 0, 0, 0, 0, 0, 0, 0, 0, 0, 0, 0, 0, 0, 0, 0, 0, 0, 0, 0, 0, 0, 0, 0, 0, 0, 0, 0, 0, 0, 0, 0, 0, 0, 0, 0, 0, 0, 0, 0, 0, 0, 0, 0, 0, 0, 0, 0, 0, 0, 0, 0, 0, 0, 0, 0, 0, 0, 0, 0, 0, 0, 0, 0, 0, 0, 0, 0, 0, 0, 0, 0, 0, 0, 0, 0, 0, 0, 0, 0, 0, 0, 0, 0, 0, 0, 0, 0, 0, 0, 0, 0, 0, 0, 0, 0, 0, 0, 0, 0, 0, 0, 0, 0, 0, 0, 0, 0, 0, 0, 0, 0, 0, 0, 0, 0, 0, 0, 0, 0, 0, 0, 0, 0, 0, 0, 0, 0, 0, 0, 0, 0, 0, 0, 0, 0, 0, 0, 0, 0, 0, 0, 0, 0, 0, 0, 0, 0, 0, 0, 0, 0, 0, 0, 0, 0, 0, 0, 0, 0, 0, 0, 0, 0, 0, 0, 0, 0, 0, 0, 0, 0, 0, 0, 0, 0, 0, 0, 0, 0, 0, 0, 0, 0, 0, 0, 0, 0, 0, 0, 0, 0, 0, 0, 0, 0, 0, 0, 0, 0, 0, 0, 0, 0, 0, 0, 0, 0, 0, 0, 0, 0, 0, 0, 0, 0, 0, 0, 0, 0, 0, 0, 0, 0, 0, 0, 0, 0, 0, 0, 0, 0, 0, 0, 0, 0, 0, 0, 0, 0, 0, 0, 0, 0, 0, 0, 0, 0, 0, 0, 0, 0, 0, 0, 0, 0, 0, 0, 0, 0, 0, 0, 0, 0, 0, 0, 0, 0, 0, 0, 0, 0, 0, 0, 0, 0, 0, 0, 0, 0, 0, 0, 0, 0, 0, 0, 0, 0, 0, 0, 0, 0, 0, 0, 0, 0, 0, 0, 0, 0, 0, 0, 0, 0, 0, 0, 0, 0, 0, 0, 0, 0, 0, 0, 0, 0, 0, 0, 0, 0, 0, 0, 0, 0, 0, 0, 0, 0], 'attention_mask': [1, 1, 1, 1, 1, 1, 1, 1, 1, 1, 1, 1, 1, 1, 1, 1, 1, 1, 1, 1, 1, 1, 1, 1, 1, 1, 1, 1, 1, 1, 1, 1, 1, 1, 1, 1, 1, 1, 1, 1, 1, 1, 1, 1, 1, 1, 1, 1, 1, 1, 1, 1, 1, 1, 1, 1, 1, 1, 1, 1, 1, 1, 1, 1, 1, 1, 1, 1, 1, 1, 1, 1, 1, 1, 1, 1, 1, 1, 1, 1, 1, 1, 1, 1, 1, 1, 1, 1, 1, 1, 1, 1, 1, 1, 1, 1, 1, 1, 1, 1, 1, 1, 1, 1, 1, 1, 1, 1, 1, 1, 1, 1, 1, 1, 1, 1, 1, 1, 1, 1, 1, 1, 1, 1, 1, 1, 1, 1, 1, 1, 1, 1, 1, 1, 1, 1, 1, 1, 1, 1, 1, 1, 1, 1, 1, 1, 1, 1, 1, 1, 1, 1, 1, 1, 1, 1, 1, 1, 1, 1, 1, 1, 1, 1, 1, 1, 1, 1, 1, 1, 1, 1, 1, 1, 1, 1, 1, 1, 1, 1, 1, 1, 1, 1, 1, 1, 1, 1, 1, 1, 1, 1, 1, 1, 1, 1, 1, 1, 1, 1, 1, 1, 1, 1, 1, 1, 1, 1, 1, 1, 1, 1, 1, 1, 1, 1, 1, 1, 1, 1, 1, 1, 1, 1, 1, 1, 1, 1, 1, 1, 1, 1, 1, 1, 1, 1, 1, 1, 1, 1, 1, 1, 1, 1, 1, 1, 1, 1, 1, 1, 1, 1, 1, 1, 1, 1, 1, 1, 1, 1, 1, 1, 1, 1, 1, 1, 1, 1, 1, 1, 1, 1, 1, 1, 1, 1, 1, 1, 1, 1, 1, 1, 1, 1, 1, 1, 1, 1, 1, 1, 1, 1, 1, 1, 1, 1, 1, 1, 1, 1, 1, 1, 1, 1, 1, 1, 1, 1, 1, 1, 1, 1, 1, 1, 1, 1, 1, 1, 1, 1, 1, 1, 1, 1, 1, 1, 1, 1, 1, 1, 1, 1, 1, 1, 1, 1, 1, 1, 1, 1, 1, 1, 1, 1, 1, 1, 1, 1, 1, 1, 1, 1, 1, 1, 1, 1, 1, 1, 1, 1, 1, 1, 1, 1, 1, 1, 1, 1, 1, 1, 1, 1, 1, 1, 1, 1, 1, 1, 1, 1, 1, 1, 1, 1, 1, 1, 1, 1, 1, 1, 1, 1, 1, 1, 1, 1, 1, 1, 1, 1, 1, 1, 1, 1, 1, 1, 1, 1, 1, 1, 1, 1, 1, 1, 1, 1, 1, 1, 1, 1, 1, 1, 1, 1, 1, 1, 1, 1, 1, 1, 1, 1, 1, 1, 1, 1, 1, 1, 1, 1, 1, 1, 1, 1, 1, 1, 1, 1, 1, 1, 1, 1, 1, 1, 1, 1, 1, 1, 1, 1, 1, 1, 1, 1, 1, 1, 1, 1, 1, 1, 1, 1, 1, 1, 1, 1, 1, 1, 1, 1, 1, 1, 1, 1, 1, 1, 1, 1, 1, 1, 1, 1, 1, 1, 1, 1, 1, 1, 1, 1, 1, 1, 1, 1, 1, 1, 1, 1, 1, 1, 1, 1]}"
      ]
     },
     "execution_count": 23,
     "metadata": {},
     "output_type": "execute_result"
    }
   ],
   "source": [
    "tokenized_input"
   ]
  },
  {
   "cell_type": "code",
   "execution_count": 24,
   "metadata": {},
   "outputs": [],
   "source": [
    "tokenz=tokenizer.convert_ids_to_tokens(tokenized_input['input_ids'])"
   ]
  },
  {
   "cell_type": "code",
   "execution_count": 36,
   "metadata": {},
   "outputs": [
    {
     "data": {
      "text/plain": [
       "array(['ACCOUNTANT', 'ADVOCATE', 'AGRICULTURE', 'APPAREL', 'ARTS',\n",
       "       'AUTOMOBILE', 'AVIATION', 'BANKING', 'BPO', 'BUSINESS-DEVELOPMENT',\n",
       "       'CHEF', 'CONSTRUCTION', 'CONSULTANT', 'DESIGNER', 'DIGITAL-MEDIA',\n",
       "       'ENGINEERING', 'FINANCE', 'FITNESS', 'HEALTHCARE', 'HR',\n",
       "       'INFORMATION-TECHNOLOGY', 'PUBLIC-RELATIONS', 'SALES', 'TEACHER'],\n",
       "      dtype='<U22')"
      ]
     },
     "execution_count": 36,
     "metadata": {},
     "output_type": "execute_result"
    }
   ],
   "source": []
  },
  {
   "cell_type": "code",
   "execution_count": 37,
   "metadata": {},
   "outputs": [
    {
     "data": {
      "text/plain": [
       "<bound method BaseEstimator.get_params of LabelEncoder()>"
      ]
     },
     "execution_count": 37,
     "metadata": {},
     "output_type": "execute_result"
    }
   ],
   "source": [
    "LE.get_params"
   ]
  },
  {
   "cell_type": "code",
   "execution_count": 25,
   "metadata": {},
   "outputs": [],
   "source": [
    "from sklearn.preprocessing import LabelEncoder\n",
    "LE=LabelEncoder()\n",
    "LE.fit(resume_ds['train']['Category'])\n",
    "def preprocess(data):\n",
    "  input_encoding=tokenizer(data['Resume_str'], is_split_into_words=False,truncation=True, padding=True, return_tensors='pt')\n",
    "\n",
    "  label_encoding = LE.transform(data['Category'])\n",
    "  #print(label_encoding)\n",
    "  input_encoding['labels']=label_encoding\n",
    "  return input_encoding"
   ]
  },
  {
   "cell_type": "code",
   "execution_count": 26,
   "metadata": {},
   "outputs": [],
   "source": [
    "import tensorflow as tf\n",
    "mapped_data=resume_ds.map(preprocess, batched=True)"
   ]
  },
  {
   "cell_type": "code",
   "execution_count": 27,
   "metadata": {},
   "outputs": [
    {
     "data": {
      "text/plain": [
       "array([ 0,  1,  2,  3,  4,  5,  6,  7,  8,  9, 10, 11, 12, 13, 14, 15, 16,\n",
       "       17, 18, 19, 20, 21, 22, 23])"
      ]
     },
     "execution_count": 27,
     "metadata": {},
     "output_type": "execute_result"
    }
   ],
   "source": [
    "import numpy as np \n",
    "np.unique(mapped_data['train']['labels'])"
   ]
  },
  {
   "cell_type": "code",
   "execution_count": 28,
   "metadata": {},
   "outputs": [],
   "source": [
    "from transformers import DataCollatorForTokenClassification, DataCollatorWithPadding\n",
    "\n",
    "data_collator = DataCollatorWithPadding(tokenizer=tokenizer)"
   ]
  },
  {
   "cell_type": "code",
   "execution_count": 29,
   "metadata": {},
   "outputs": [
    {
     "name": "stderr",
     "output_type": "stream",
     "text": [
      "  0%|          | 0/156 [02:50<?, ?it/s]\n"
     ]
    }
   ],
   "source": [
    "args=TrainingArguments(\n",
    "    \"test-ner\",evaluation_strategy='epoch',\n",
    "    learning_rate=0.0005,\n",
    "    per_device_train_batch_size=16,\n",
    "    per_device_eval_batch_size=16,\n",
    "    num_train_epochs=1,\n",
    "    weight_decay=0.01\n",
    ")\n",
    "trainer=Trainer(\n",
    "    model, \n",
    "    args,\n",
    "    train_dataset=mapped_data['train'],\n",
    "    eval_dataset=mapped_data['train'],\n",
    "    data_collator=data_collator,\n",
    "    tokenizer=tokenizer,\n",
    " \n",
    "\n",
    ")"
   ]
  },
  {
   "cell_type": "code",
   "execution_count": 2,
   "metadata": {},
   "outputs": [
    {
     "ename": "NameError",
     "evalue": "name 'trainer' is not defined",
     "output_type": "error",
     "traceback": [
      "\u001b[1;31m---------------------------------------------------------------------------\u001b[0m",
      "\u001b[1;31mNameError\u001b[0m                                 Traceback (most recent call last)",
      "Cell \u001b[1;32mIn[2], line 1\u001b[0m\n\u001b[1;32m----> 1\u001b[0m \u001b[43mtrainer\u001b[49m\u001b[38;5;241m.\u001b[39mtrain()\n",
      "\u001b[1;31mNameError\u001b[0m: name 'trainer' is not defined"
     ]
    }
   ],
   "source": [
    "trainer.train()"
   ]
  },
  {
   "cell_type": "code",
   "execution_count": 1,
   "metadata": {},
   "outputs": [
    {
     "ename": "NameError",
     "evalue": "name 'model' is not defined",
     "output_type": "error",
     "traceback": [
      "\u001b[1;31m---------------------------------------------------------------------------\u001b[0m",
      "\u001b[1;31mNameError\u001b[0m                                 Traceback (most recent call last)",
      "Cell \u001b[1;32mIn[1], line 1\u001b[0m\n\u001b[1;32m----> 1\u001b[0m \u001b[43mmodel\u001b[49m\u001b[38;5;241m.\u001b[39msave_pretrained(\u001b[38;5;124m'\u001b[39m\u001b[38;5;124mresume_parser\u001b[39m\u001b[38;5;124m'\u001b[39m)\n",
      "\u001b[1;31mNameError\u001b[0m: name 'model' is not defined"
     ]
    }
   ],
   "source": [
    "model.save_pretrained('resume_parser')"
   ]
  },
  {
   "cell_type": "code",
   "execution_count": 31,
   "metadata": {},
   "outputs": [],
   "source": [
    "from transformers import pipeline"
   ]
  },
  {
   "cell_type": "code",
   "execution_count": 32,
   "metadata": {},
   "outputs": [],
   "source": [
    "nlp_pipeline=pipeline('text-classification',model=model, tokenizer=tokenizer)"
   ]
  },
  {
   "cell_type": "code",
   "execution_count": 33,
   "metadata": {},
   "outputs": [
    {
     "data": {
      "text/plain": [
       "[{'label': 'LABEL_15', 'score': 0.059371527284383774}]"
      ]
     },
     "execution_count": 33,
     "metadata": {},
     "output_type": "execute_result"
    }
   ],
   "source": [
    "nlp_pipeline('2 years experience in gcp')"
   ]
  },
  {
   "cell_type": "code",
   "execution_count": 38,
   "metadata": {},
   "outputs": [
    {
     "data": {
      "text/plain": [
       "array(['ACCOUNTANT', 'ADVOCATE', 'AGRICULTURE', 'APPAREL', 'ARTS',\n",
       "       'AUTOMOBILE', 'AVIATION', 'BANKING', 'BPO', 'BUSINESS-DEVELOPMENT',\n",
       "       'CHEF', 'CONSTRUCTION', 'CONSULTANT', 'DESIGNER', 'DIGITAL-MEDIA',\n",
       "       'ENGINEERING', 'FINANCE', 'FITNESS', 'HEALTHCARE', 'HR',\n",
       "       'INFORMATION-TECHNOLOGY', 'PUBLIC-RELATIONS', 'SALES', 'TEACHER'],\n",
       "      dtype='<U22')"
      ]
     },
     "execution_count": 38,
     "metadata": {},
     "output_type": "execute_result"
    }
   ],
   "source": [
    "classes=LE.classes_\n",
    "classes"
   ]
  },
  {
   "cell_type": "code",
   "execution_count": null,
   "metadata": {},
   "outputs": [],
   "source": []
  }
 ],
 "metadata": {
  "kernelspec": {
   "display_name": "transformers",
   "language": "python",
   "name": "python3"
  },
  "language_info": {
   "codemirror_mode": {
    "name": "ipython",
    "version": 3
   },
   "file_extension": ".py",
   "mimetype": "text/x-python",
   "name": "python",
   "nbconvert_exporter": "python",
   "pygments_lexer": "ipython3",
   "version": "3.9.18"
  }
 },
 "nbformat": 4,
 "nbformat_minor": 2
}
